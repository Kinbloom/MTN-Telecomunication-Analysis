{
  "nbformat": 4,
  "nbformat_minor": 0,
  "metadata": {
    "colab": {
      "name": "MTN - DETAILED ANALYSIS.ipynb",
      "version": "0.3.2",
      "provenance": [],
      "collapsed_sections": [
        "8vKbr1scoPhB",
        "RQ7JV_rLaj7w",
        "wDnXzGaZnUGN",
        "GxdyJ9XVs_G7",
        "zlw6jkbWv2JW",
        "kIPInz7qyI3i",
        "HAZDHLru4tmT",
        "uCHMdXd15W4x",
        "4lKfPqVM8Jcf",
        "qhhRsQrL8dPv",
        "OrN8_t_jDHae",
        "5tsTOm_9HzXM",
        "khfseLTHjUsx",
        "VRDglnckcLz2",
        "I8f7iWiXfh45",
        "59cwYTTHiR0u",
        "PRwANJYVi0Hg",
        "VqpfDdmklQov",
        "17NeM3gemdYK",
        "LAA5iLWjmnUD",
        "VEYCTaDrpTaO",
        "3Lk9HTLJm8Da",
        "G7YhbtvDnTAP",
        "OzkuTC1Xpok1"
      ],
      "toc_visible": true,
      "include_colab_link": true
    },
    "kernelspec": {
      "name": "python3",
      "display_name": "Python 3"
    },
    "accelerator": "GPU"
  },
  "cells": [
    {
      "cell_type": "markdown",
      "metadata": {
        "id": "view-in-github",
        "colab_type": "text"
      },
      "source": [
        "<a href=\"https://colab.research.google.com/github/Kinbloom/Moringa-Projects/blob/master/MTN_DETAILED_ANALYSIS.ipynb\" target=\"_parent\"><img src=\"https://colab.research.google.com/assets/colab-badge.svg\" alt=\"Open In Colab\"/></a>"
      ]
    },
    {
      "cell_type": "markdown",
      "metadata": {
        "id": "5SNsm0iIYDN0",
        "colab_type": "text"
      },
      "source": [
        "##MTN  DATA ANALYSIS // "
      ]
    },
    {
      "cell_type": "markdown",
      "metadata": {
        "id": "8vKbr1scoPhB",
        "colab_type": "text"
      },
      "source": [
        "### Import the relevant python libraries"
      ]
    },
    {
      "cell_type": "code",
      "metadata": {
        "id": "0rcQJc6NYRU6",
        "colab_type": "code",
        "colab": {}
      },
      "source": [
        "import pandas as pd\n",
        "import numpy as np"
      ],
      "execution_count": 0,
      "outputs": []
    },
    {
      "cell_type": "markdown",
      "metadata": {
        "id": "RQ7JV_rLaj7w",
        "colab_type": "text"
      },
      "source": [
        "###Loading the relevant datasets"
      ]
    },
    {
      "cell_type": "code",
      "metadata": {
        "id": "Ms13C15XaoIG",
        "colab_type": "code",
        "outputId": "c6ef2fb5-19e2-4f6e-dd38-d22c2ed87c91",
        "colab": {
          "base_uri": "https://localhost:8080/",
          "height": 326
        }
      },
      "source": [
        "#Load the cells_geo dataset\n",
        "cells_geo = pd.read_csv('cells_geo.csv', delimiter = ';')\n",
        "cells_geo.head()"
      ],
      "execution_count": 3,
      "outputs": [
        {
          "output_type": "execute_result",
          "data": {
            "text/html": [
              "<div>\n",
              "<style scoped>\n",
              "    .dataframe tbody tr th:only-of-type {\n",
              "        vertical-align: middle;\n",
              "    }\n",
              "\n",
              "    .dataframe tbody tr th {\n",
              "        vertical-align: top;\n",
              "    }\n",
              "\n",
              "    .dataframe thead th {\n",
              "        text-align: right;\n",
              "    }\n",
              "</style>\n",
              "<table border=\"1\" class=\"dataframe\">\n",
              "  <thead>\n",
              "    <tr style=\"text-align: right;\">\n",
              "      <th></th>\n",
              "      <th>Unnamed: 0</th>\n",
              "      <th>VILLES</th>\n",
              "      <th>STATUS</th>\n",
              "      <th>LOCALISATION</th>\n",
              "      <th>DECOUPZONE</th>\n",
              "      <th>ZONENAME</th>\n",
              "      <th>LONGITUDE</th>\n",
              "      <th>LATITUDE</th>\n",
              "      <th>REGION</th>\n",
              "      <th>AREA</th>\n",
              "      <th>CELL_ID</th>\n",
              "      <th>SITE_CODE</th>\n",
              "    </tr>\n",
              "  </thead>\n",
              "  <tbody>\n",
              "    <tr>\n",
              "      <th>0</th>\n",
              "      <td>0</td>\n",
              "      <td>ADJAME</td>\n",
              "      <td>In Service</td>\n",
              "      <td>ABIDJAN</td>\n",
              "      <td>\"Abidjan_EST</td>\n",
              "      <td>AGBANNEW</td>\n",
              "      <td>-4.000667</td>\n",
              "      <td>5.368194</td>\n",
              "      <td>LAGUNE</td>\n",
              "      <td>NaN</td>\n",
              "      <td>fbb2e75af3</td>\n",
              "      <td>0bb492ef17</td>\n",
              "    </tr>\n",
              "    <tr>\n",
              "      <th>1</th>\n",
              "      <td>1</td>\n",
              "      <td>ADJAME</td>\n",
              "      <td>In Service</td>\n",
              "      <td>ABIDJAN</td>\n",
              "      <td>\"Abidjan_EST</td>\n",
              "      <td>AGBANNEW</td>\n",
              "      <td>-4.000667</td>\n",
              "      <td>5.368194</td>\n",
              "      <td>LAGUNE</td>\n",
              "      <td>NaN</td>\n",
              "      <td>1502501d78</td>\n",
              "      <td>0bb492ef17</td>\n",
              "    </tr>\n",
              "    <tr>\n",
              "      <th>2</th>\n",
              "      <td>2</td>\n",
              "      <td>ADJAME</td>\n",
              "      <td>In Service</td>\n",
              "      <td>ABIDJAN</td>\n",
              "      <td>\"Abidjan_EST</td>\n",
              "      <td>AGBANNEW</td>\n",
              "      <td>-4.000667</td>\n",
              "      <td>5.368194</td>\n",
              "      <td>LAGUNE</td>\n",
              "      <td>NaN</td>\n",
              "      <td>0c2e182a0c</td>\n",
              "      <td>0bb492ef17</td>\n",
              "    </tr>\n",
              "    <tr>\n",
              "      <th>3</th>\n",
              "      <td>3</td>\n",
              "      <td>ASSINIE</td>\n",
              "      <td>In Service</td>\n",
              "      <td>INTERIEUR</td>\n",
              "      <td>Grand-EST</td>\n",
              "      <td>ASSINIE\"</td>\n",
              "      <td>-3.488467</td>\n",
              "      <td>5.158761</td>\n",
              "      <td>SUD COMOE</td>\n",
              "      <td>NaN</td>\n",
              "      <td>69bdfc69fd</td>\n",
              "      <td>8a1e6ce31f</td>\n",
              "    </tr>\n",
              "    <tr>\n",
              "      <th>4</th>\n",
              "      <td>4</td>\n",
              "      <td>ASSINIE</td>\n",
              "      <td>In Service</td>\n",
              "      <td>INTERIEUR</td>\n",
              "      <td>Grand-EST</td>\n",
              "      <td>ASSINIE\"</td>\n",
              "      <td>-3.488467</td>\n",
              "      <td>5.158761</td>\n",
              "      <td>SUD COMOE</td>\n",
              "      <td>NaN</td>\n",
              "      <td>7a1029d2ab</td>\n",
              "      <td>8a1e6ce31f</td>\n",
              "    </tr>\n",
              "  </tbody>\n",
              "</table>\n",
              "</div>"
            ],
            "text/plain": [
              "   Unnamed: 0   VILLES      STATUS  ... AREA     CELL_ID   SITE_CODE\n",
              "0           0   ADJAME  In Service  ...  NaN  fbb2e75af3  0bb492ef17\n",
              "1           1   ADJAME  In Service  ...  NaN  1502501d78  0bb492ef17\n",
              "2           2   ADJAME  In Service  ...  NaN  0c2e182a0c  0bb492ef17\n",
              "3           3  ASSINIE  In Service  ...  NaN  69bdfc69fd  8a1e6ce31f\n",
              "4           4  ASSINIE  In Service  ...  NaN  7a1029d2ab  8a1e6ce31f\n",
              "\n",
              "[5 rows x 12 columns]"
            ]
          },
          "metadata": {
            "tags": []
          },
          "execution_count": 3
        }
      ]
    },
    {
      "cell_type": "code",
      "metadata": {
        "id": "nDuPoWVncWgi",
        "colab_type": "code",
        "outputId": "afb0af20-d4d7-4b57-87e3-657063482ecc",
        "colab": {
          "base_uri": "https://localhost:8080/",
          "height": 390
        }
      },
      "source": [
        "#Load the cells_geo_description dataset\n",
        "cells_geo_description = pd.read_excel('cells_geo_description.xlsx')\n",
        "cells_geo_description"
      ],
      "execution_count": 4,
      "outputs": [
        {
          "output_type": "execute_result",
          "data": {
            "text/html": [
              "<div>\n",
              "<style scoped>\n",
              "    .dataframe tbody tr th:only-of-type {\n",
              "        vertical-align: middle;\n",
              "    }\n",
              "\n",
              "    .dataframe tbody tr th {\n",
              "        vertical-align: top;\n",
              "    }\n",
              "\n",
              "    .dataframe thead th {\n",
              "        text-align: right;\n",
              "    }\n",
              "</style>\n",
              "<table border=\"1\" class=\"dataframe\">\n",
              "  <thead>\n",
              "    <tr style=\"text-align: right;\">\n",
              "      <th></th>\n",
              "      <th>Column name</th>\n",
              "      <th>Description</th>\n",
              "      <th>Format</th>\n",
              "    </tr>\n",
              "  </thead>\n",
              "  <tbody>\n",
              "    <tr>\n",
              "      <th>0</th>\n",
              "      <td>VILLES</td>\n",
              "      <td>City</td>\n",
              "      <td>String</td>\n",
              "    </tr>\n",
              "    <tr>\n",
              "      <th>1</th>\n",
              "      <td>STATUS</td>\n",
              "      <td>In Service or not</td>\n",
              "      <td>String</td>\n",
              "    </tr>\n",
              "    <tr>\n",
              "      <th>2</th>\n",
              "      <td>LOCALISATION</td>\n",
              "      <td>in ABIDJAN or not</td>\n",
              "      <td>String</td>\n",
              "    </tr>\n",
              "    <tr>\n",
              "      <th>3</th>\n",
              "      <td>DECOUPZONE</td>\n",
              "      <td>Geographical Zone</td>\n",
              "      <td>String</td>\n",
              "    </tr>\n",
              "    <tr>\n",
              "      <th>4</th>\n",
              "      <td>ZONENAME</td>\n",
              "      <td>Name of Zone</td>\n",
              "      <td>String</td>\n",
              "    </tr>\n",
              "    <tr>\n",
              "      <th>5</th>\n",
              "      <td>LONGITUDE</td>\n",
              "      <td>Longitude</td>\n",
              "      <td>Float</td>\n",
              "    </tr>\n",
              "    <tr>\n",
              "      <th>6</th>\n",
              "      <td>LATITUDE</td>\n",
              "      <td>Latitude</td>\n",
              "      <td>Float</td>\n",
              "    </tr>\n",
              "    <tr>\n",
              "      <th>7</th>\n",
              "      <td>REGION</td>\n",
              "      <td>Region</td>\n",
              "      <td>String</td>\n",
              "    </tr>\n",
              "    <tr>\n",
              "      <th>8</th>\n",
              "      <td>AREA</td>\n",
              "      <td>Area</td>\n",
              "      <td>String</td>\n",
              "    </tr>\n",
              "    <tr>\n",
              "      <th>9</th>\n",
              "      <td>CELL_ID</td>\n",
              "      <td>ID of the cell</td>\n",
              "      <td>String</td>\n",
              "    </tr>\n",
              "    <tr>\n",
              "      <th>10</th>\n",
              "      <td>SITE_CODE</td>\n",
              "      <td>Site (there are several cells per site, severa...</td>\n",
              "      <td>String</td>\n",
              "    </tr>\n",
              "  </tbody>\n",
              "</table>\n",
              "</div>"
            ],
            "text/plain": [
              "     Column name                                        Description  Format\n",
              "0         VILLES                                               City  String\n",
              "1         STATUS                                  In Service or not  String\n",
              "2   LOCALISATION                                  in ABIDJAN or not  String\n",
              "3     DECOUPZONE                                  Geographical Zone  String\n",
              "4       ZONENAME                                       Name of Zone  String\n",
              "5      LONGITUDE                                          Longitude   Float\n",
              "6       LATITUDE                                           Latitude   Float\n",
              "7         REGION                                             Region  String\n",
              "8           AREA                                               Area  String\n",
              "9        CELL_ID                                     ID of the cell  String\n",
              "10     SITE_CODE  Site (there are several cells per site, severa...  String"
            ]
          },
          "metadata": {
            "tags": []
          },
          "execution_count": 4
        }
      ]
    },
    {
      "cell_type": "markdown",
      "metadata": {
        "id": "KBDRFB4gccjr",
        "colab_type": "text"
      },
      "source": [
        "The columns that are relevant in the cells_geo dataset are:\n",
        "*   VILLES\n",
        "*   STATUS\n",
        "*   LOCALISATION\n",
        "*  DECOUPZONE\n",
        "*  ZONENAME\n",
        "*  REGION\n",
        "*  AREA\n",
        "*  CELL_ID\n",
        "*  SITE_CODE\n",
        "\n",
        "\n"
      ]
    },
    {
      "cell_type": "code",
      "metadata": {
        "id": "XlDsKTICdKvj",
        "colab_type": "code",
        "outputId": "8bfb515d-9880-4ded-d44a-0ce2060ad59e",
        "colab": {
          "base_uri": "https://localhost:8080/",
          "height": 204
        }
      },
      "source": [
        "#Select only the relevant columns in the cells_geo dataframe\n",
        "\n",
        "cells_geo = cells_geo[['VILLES','STATUS', 'LOCALISATION', 'DECOUPZONE', 'ZONENAME', 'REGION','AREA', 'CELL_ID', 'SITE_CODE']]\n",
        "cells_geo.head()"
      ],
      "execution_count": 5,
      "outputs": [
        {
          "output_type": "execute_result",
          "data": {
            "text/html": [
              "<div>\n",
              "<style scoped>\n",
              "    .dataframe tbody tr th:only-of-type {\n",
              "        vertical-align: middle;\n",
              "    }\n",
              "\n",
              "    .dataframe tbody tr th {\n",
              "        vertical-align: top;\n",
              "    }\n",
              "\n",
              "    .dataframe thead th {\n",
              "        text-align: right;\n",
              "    }\n",
              "</style>\n",
              "<table border=\"1\" class=\"dataframe\">\n",
              "  <thead>\n",
              "    <tr style=\"text-align: right;\">\n",
              "      <th></th>\n",
              "      <th>VILLES</th>\n",
              "      <th>STATUS</th>\n",
              "      <th>LOCALISATION</th>\n",
              "      <th>DECOUPZONE</th>\n",
              "      <th>ZONENAME</th>\n",
              "      <th>REGION</th>\n",
              "      <th>AREA</th>\n",
              "      <th>CELL_ID</th>\n",
              "      <th>SITE_CODE</th>\n",
              "    </tr>\n",
              "  </thead>\n",
              "  <tbody>\n",
              "    <tr>\n",
              "      <th>0</th>\n",
              "      <td>ADJAME</td>\n",
              "      <td>In Service</td>\n",
              "      <td>ABIDJAN</td>\n",
              "      <td>\"Abidjan_EST</td>\n",
              "      <td>AGBANNEW</td>\n",
              "      <td>LAGUNE</td>\n",
              "      <td>NaN</td>\n",
              "      <td>fbb2e75af3</td>\n",
              "      <td>0bb492ef17</td>\n",
              "    </tr>\n",
              "    <tr>\n",
              "      <th>1</th>\n",
              "      <td>ADJAME</td>\n",
              "      <td>In Service</td>\n",
              "      <td>ABIDJAN</td>\n",
              "      <td>\"Abidjan_EST</td>\n",
              "      <td>AGBANNEW</td>\n",
              "      <td>LAGUNE</td>\n",
              "      <td>NaN</td>\n",
              "      <td>1502501d78</td>\n",
              "      <td>0bb492ef17</td>\n",
              "    </tr>\n",
              "    <tr>\n",
              "      <th>2</th>\n",
              "      <td>ADJAME</td>\n",
              "      <td>In Service</td>\n",
              "      <td>ABIDJAN</td>\n",
              "      <td>\"Abidjan_EST</td>\n",
              "      <td>AGBANNEW</td>\n",
              "      <td>LAGUNE</td>\n",
              "      <td>NaN</td>\n",
              "      <td>0c2e182a0c</td>\n",
              "      <td>0bb492ef17</td>\n",
              "    </tr>\n",
              "    <tr>\n",
              "      <th>3</th>\n",
              "      <td>ASSINIE</td>\n",
              "      <td>In Service</td>\n",
              "      <td>INTERIEUR</td>\n",
              "      <td>Grand-EST</td>\n",
              "      <td>ASSINIE\"</td>\n",
              "      <td>SUD COMOE</td>\n",
              "      <td>NaN</td>\n",
              "      <td>69bdfc69fd</td>\n",
              "      <td>8a1e6ce31f</td>\n",
              "    </tr>\n",
              "    <tr>\n",
              "      <th>4</th>\n",
              "      <td>ASSINIE</td>\n",
              "      <td>In Service</td>\n",
              "      <td>INTERIEUR</td>\n",
              "      <td>Grand-EST</td>\n",
              "      <td>ASSINIE\"</td>\n",
              "      <td>SUD COMOE</td>\n",
              "      <td>NaN</td>\n",
              "      <td>7a1029d2ab</td>\n",
              "      <td>8a1e6ce31f</td>\n",
              "    </tr>\n",
              "  </tbody>\n",
              "</table>\n",
              "</div>"
            ],
            "text/plain": [
              "    VILLES      STATUS LOCALISATION  ... AREA     CELL_ID   SITE_CODE\n",
              "0   ADJAME  In Service      ABIDJAN  ...  NaN  fbb2e75af3  0bb492ef17\n",
              "1   ADJAME  In Service      ABIDJAN  ...  NaN  1502501d78  0bb492ef17\n",
              "2   ADJAME  In Service      ABIDJAN  ...  NaN  0c2e182a0c  0bb492ef17\n",
              "3  ASSINIE  In Service    INTERIEUR  ...  NaN  69bdfc69fd  8a1e6ce31f\n",
              "4  ASSINIE  In Service    INTERIEUR  ...  NaN  7a1029d2ab  8a1e6ce31f\n",
              "\n",
              "[5 rows x 9 columns]"
            ]
          },
          "metadata": {
            "tags": []
          },
          "execution_count": 5
        }
      ]
    },
    {
      "cell_type": "code",
      "metadata": {
        "id": "Hvl0RGRteHNE",
        "colab_type": "code",
        "outputId": "ab7596d6-ef7c-478b-bae0-b3fe3bcf8110",
        "colab": {
          "base_uri": "https://localhost:8080/",
          "height": 359
        }
      },
      "source": [
        "#Load the CDR Description Dataset\n",
        "\n",
        "CDR_description = pd.read_excel('CDR_description.xlsx')\n",
        "CDR_description"
      ],
      "execution_count": 6,
      "outputs": [
        {
          "output_type": "execute_result",
          "data": {
            "text/html": [
              "<div>\n",
              "<style scoped>\n",
              "    .dataframe tbody tr th:only-of-type {\n",
              "        vertical-align: middle;\n",
              "    }\n",
              "\n",
              "    .dataframe tbody tr th {\n",
              "        vertical-align: top;\n",
              "    }\n",
              "\n",
              "    .dataframe thead th {\n",
              "        text-align: right;\n",
              "    }\n",
              "</style>\n",
              "<table border=\"1\" class=\"dataframe\">\n",
              "  <thead>\n",
              "    <tr style=\"text-align: right;\">\n",
              "      <th></th>\n",
              "      <th>Column name</th>\n",
              "      <th>Description</th>\n",
              "      <th>Format</th>\n",
              "    </tr>\n",
              "  </thead>\n",
              "  <tbody>\n",
              "    <tr>\n",
              "      <th>0</th>\n",
              "      <td>PRODUCT</td>\n",
              "      <td>Voice or SMS</td>\n",
              "      <td>String</td>\n",
              "    </tr>\n",
              "    <tr>\n",
              "      <th>1</th>\n",
              "      <td>VALUE</td>\n",
              "      <td>Billing price</td>\n",
              "      <td>Integer</td>\n",
              "    </tr>\n",
              "    <tr>\n",
              "      <th>2</th>\n",
              "      <td>DATE_TIME</td>\n",
              "      <td>Time in format yyyy-MM-dd hh:mm:ss.0</td>\n",
              "      <td>String</td>\n",
              "    </tr>\n",
              "    <tr>\n",
              "      <th>3</th>\n",
              "      <td>CELL_ON_SITE</td>\n",
              "      <td>Which cell in the site was used (not needed here)</td>\n",
              "      <td>Integer</td>\n",
              "    </tr>\n",
              "    <tr>\n",
              "      <th>4</th>\n",
              "      <td>DW_A_NUMBER_INT</td>\n",
              "      <td>Anonymized phone number of the person for whic...</td>\n",
              "      <td>String</td>\n",
              "    </tr>\n",
              "    <tr>\n",
              "      <th>5</th>\n",
              "      <td>DW_B_NUMBER_INT</td>\n",
              "      <td>Anonymized phone number of the counterparty</td>\n",
              "      <td>String</td>\n",
              "    </tr>\n",
              "    <tr>\n",
              "      <th>6</th>\n",
              "      <td>COUNTRY_A</td>\n",
              "      <td>Country of party A (useless here)</td>\n",
              "      <td>String</td>\n",
              "    </tr>\n",
              "    <tr>\n",
              "      <th>7</th>\n",
              "      <td>COUNTRY_B</td>\n",
              "      <td>Country of party B (useless here)</td>\n",
              "      <td>String</td>\n",
              "    </tr>\n",
              "    <tr>\n",
              "      <th>8</th>\n",
              "      <td>CELL_ID</td>\n",
              "      <td>ID of the cell</td>\n",
              "      <td>String</td>\n",
              "    </tr>\n",
              "    <tr>\n",
              "      <th>9</th>\n",
              "      <td>SITE_ID</td>\n",
              "      <td>ID of the SITE</td>\n",
              "      <td>String</td>\n",
              "    </tr>\n",
              "  </tbody>\n",
              "</table>\n",
              "</div>"
            ],
            "text/plain": [
              "       Column name                                        Description   Format\n",
              "0          PRODUCT                                       Voice or SMS   String\n",
              "1            VALUE                                      Billing price  Integer\n",
              "2        DATE_TIME               Time in format yyyy-MM-dd hh:mm:ss.0   String\n",
              "3     CELL_ON_SITE  Which cell in the site was used (not needed here)  Integer\n",
              "4  DW_A_NUMBER_INT  Anonymized phone number of the person for whic...   String\n",
              "5  DW_B_NUMBER_INT        Anonymized phone number of the counterparty   String\n",
              "6        COUNTRY_A                  Country of party A (useless here)   String\n",
              "7        COUNTRY_B                  Country of party B (useless here)   String\n",
              "8          CELL_ID                                     ID of the cell   String\n",
              "9          SITE_ID                                     ID of the SITE   String"
            ]
          },
          "metadata": {
            "tags": []
          },
          "execution_count": 6
        }
      ]
    },
    {
      "cell_type": "markdown",
      "metadata": {
        "id": "qznKv079eSRs",
        "colab_type": "text"
      },
      "source": [
        "The CDR Description gives a description of the data in the daily datasets. The relevant columns in the datasets are:\n",
        "\n",
        "*   PRODUCT\n",
        "*   VALUE\n",
        "*   DATE_TIME\n",
        "*   DW_A_NUMBER_INT\n",
        "*   DW_B_NUMER_INT\n",
        "*   CELL_ID\n",
        "*   SITE_ID\n",
        "\n"
      ]
    },
    {
      "cell_type": "code",
      "metadata": {
        "id": "2qPgL96le_MZ",
        "colab_type": "code",
        "outputId": "0dc675f1-ea85-4484-825e-c05e76ec23a0",
        "colab": {
          "base_uri": "https://localhost:8080/",
          "height": 394
        }
      },
      "source": [
        "#Load the first dataset; for day 1\n",
        "day_one = pd.read_csv('http://bit.ly/TelecomDataset1')\n",
        "day_one.head()"
      ],
      "execution_count": 20,
      "outputs": [
        {
          "output_type": "execute_result",
          "data": {
            "text/html": [
              "<div>\n",
              "<style scoped>\n",
              "    .dataframe tbody tr th:only-of-type {\n",
              "        vertical-align: middle;\n",
              "    }\n",
              "\n",
              "    .dataframe tbody tr th {\n",
              "        vertical-align: top;\n",
              "    }\n",
              "\n",
              "    .dataframe thead th {\n",
              "        text-align: right;\n",
              "    }\n",
              "</style>\n",
              "<table border=\"1\" class=\"dataframe\">\n",
              "  <thead>\n",
              "    <tr style=\"text-align: right;\">\n",
              "      <th></th>\n",
              "      <th>PRODUTC</th>\n",
              "      <th>VALUE</th>\n",
              "      <th>DATETIME</th>\n",
              "      <th>CELL_ON_SITE</th>\n",
              "      <th>DW_A_NUMBER_INT</th>\n",
              "      <th>DW_B_NUMBER_INT</th>\n",
              "      <th>COUNTRY_A</th>\n",
              "      <th>COUNTRY_B</th>\n",
              "      <th>CELL_ID</th>\n",
              "      <th>SITE_ID</th>\n",
              "    </tr>\n",
              "  </thead>\n",
              "  <tbody>\n",
              "    <tr>\n",
              "      <th>0</th>\n",
              "      <td>Voice</td>\n",
              "      <td>0</td>\n",
              "      <td>2012-05-06 23:04:37.0</td>\n",
              "      <td>1</td>\n",
              "      <td>49fae048b547780</td>\n",
              "      <td>1a49f8b0ded9de6</td>\n",
              "      <td>19e2e</td>\n",
              "      <td>19e2e</td>\n",
              "      <td>/TJNe+Mmtu</td>\n",
              "      <td>/TJNe+Mmtu</td>\n",
              "    </tr>\n",
              "    <tr>\n",
              "      <th>1</th>\n",
              "      <td>sms</td>\n",
              "      <td>0</td>\n",
              "      <td>2012-05-06 23:05:25.0</td>\n",
              "      <td>0</td>\n",
              "      <td>7a54a6eaee19e65</td>\n",
              "      <td>93343ba6e41af95</td>\n",
              "      <td>19e2e</td>\n",
              "      <td>19e2e</td>\n",
              "      <td>/+cKZKIp41</td>\n",
              "      <td>/+cKZKIp41</td>\n",
              "    </tr>\n",
              "    <tr>\n",
              "      <th>2</th>\n",
              "      <td>sms</td>\n",
              "      <td>25</td>\n",
              "      <td>2012-05-06 23:05:41.0</td>\n",
              "      <td>0</td>\n",
              "      <td>6008887b0207d82</td>\n",
              "      <td>7aacc9709ce0a20</td>\n",
              "      <td>19e2e</td>\n",
              "      <td>19e2e</td>\n",
              "      <td>/u0FSD+ahi</td>\n",
              "      <td>/u0FSD+ahi</td>\n",
              "    </tr>\n",
              "    <tr>\n",
              "      <th>3</th>\n",
              "      <td>Voice</td>\n",
              "      <td>56</td>\n",
              "      <td>2012-05-06 23:05:42.0</td>\n",
              "      <td>1</td>\n",
              "      <td>7370032e20f4e96</td>\n",
              "      <td>6af4a60e74c91d3</td>\n",
              "      <td>19e2e</td>\n",
              "      <td>19e2e</td>\n",
              "      <td>+cNeJzsTp3</td>\n",
              "      <td>+cNeJzsTp3</td>\n",
              "    </tr>\n",
              "    <tr>\n",
              "      <th>4</th>\n",
              "      <td>Voice</td>\n",
              "      <td>14</td>\n",
              "      <td>2012-05-06 23:06:29.0</td>\n",
              "      <td>1</td>\n",
              "      <td>966ba4656e38e62</td>\n",
              "      <td>02aa736ee555d5c</td>\n",
              "      <td>19e2e</td>\n",
              "      <td>19e2e</td>\n",
              "      <td>051KhYDCpv</td>\n",
              "      <td>051KhYDCpv</td>\n",
              "    </tr>\n",
              "  </tbody>\n",
              "</table>\n",
              "</div>"
            ],
            "text/plain": [
              "  PRODUTC  VALUE               DATETIME  ... COUNTRY_B     CELL_ID     SITE_ID\n",
              "0   Voice      0  2012-05-06 23:04:37.0  ...     19e2e  /TJNe+Mmtu  /TJNe+Mmtu\n",
              "1     sms      0  2012-05-06 23:05:25.0  ...     19e2e  /+cKZKIp41  /+cKZKIp41\n",
              "2     sms     25  2012-05-06 23:05:41.0  ...     19e2e  /u0FSD+ahi  /u0FSD+ahi\n",
              "3   Voice     56  2012-05-06 23:05:42.0  ...     19e2e  +cNeJzsTp3  +cNeJzsTp3\n",
              "4   Voice     14  2012-05-06 23:06:29.0  ...     19e2e  051KhYDCpv  051KhYDCpv\n",
              "\n",
              "[5 rows x 10 columns]"
            ]
          },
          "metadata": {
            "tags": []
          },
          "execution_count": 20
        }
      ]
    },
    {
      "cell_type": "code",
      "metadata": {
        "id": "_N8bdg16gcXK",
        "colab_type": "code",
        "colab": {
          "base_uri": "https://localhost:8080/",
          "height": 204
        },
        "outputId": "df85b4d9-9aa0-40ed-d70c-e689c5acf6cf"
      },
      "source": [
        "#Pick out the relevant columns\n",
        "day_one = day_one[['PRODUTC','VALUE', 'DATETIME', 'DW_A_NUMBER_INT', 'DW_B_NUMBER_INT', 'CELL_ID','SITE_ID']]\n",
        "day_one.head()"
      ],
      "execution_count": 21,
      "outputs": [
        {
          "output_type": "execute_result",
          "data": {
            "text/html": [
              "<div>\n",
              "<style scoped>\n",
              "    .dataframe tbody tr th:only-of-type {\n",
              "        vertical-align: middle;\n",
              "    }\n",
              "\n",
              "    .dataframe tbody tr th {\n",
              "        vertical-align: top;\n",
              "    }\n",
              "\n",
              "    .dataframe thead th {\n",
              "        text-align: right;\n",
              "    }\n",
              "</style>\n",
              "<table border=\"1\" class=\"dataframe\">\n",
              "  <thead>\n",
              "    <tr style=\"text-align: right;\">\n",
              "      <th></th>\n",
              "      <th>PRODUTC</th>\n",
              "      <th>VALUE</th>\n",
              "      <th>DATETIME</th>\n",
              "      <th>DW_A_NUMBER_INT</th>\n",
              "      <th>DW_B_NUMBER_INT</th>\n",
              "      <th>CELL_ID</th>\n",
              "      <th>SITE_ID</th>\n",
              "    </tr>\n",
              "  </thead>\n",
              "  <tbody>\n",
              "    <tr>\n",
              "      <th>0</th>\n",
              "      <td>Voice</td>\n",
              "      <td>0</td>\n",
              "      <td>2012-05-06 23:04:37.0</td>\n",
              "      <td>49fae048b547780</td>\n",
              "      <td>1a49f8b0ded9de6</td>\n",
              "      <td>/TJNe+Mmtu</td>\n",
              "      <td>/TJNe+Mmtu</td>\n",
              "    </tr>\n",
              "    <tr>\n",
              "      <th>1</th>\n",
              "      <td>sms</td>\n",
              "      <td>0</td>\n",
              "      <td>2012-05-06 23:05:25.0</td>\n",
              "      <td>7a54a6eaee19e65</td>\n",
              "      <td>93343ba6e41af95</td>\n",
              "      <td>/+cKZKIp41</td>\n",
              "      <td>/+cKZKIp41</td>\n",
              "    </tr>\n",
              "    <tr>\n",
              "      <th>2</th>\n",
              "      <td>sms</td>\n",
              "      <td>25</td>\n",
              "      <td>2012-05-06 23:05:41.0</td>\n",
              "      <td>6008887b0207d82</td>\n",
              "      <td>7aacc9709ce0a20</td>\n",
              "      <td>/u0FSD+ahi</td>\n",
              "      <td>/u0FSD+ahi</td>\n",
              "    </tr>\n",
              "    <tr>\n",
              "      <th>3</th>\n",
              "      <td>Voice</td>\n",
              "      <td>56</td>\n",
              "      <td>2012-05-06 23:05:42.0</td>\n",
              "      <td>7370032e20f4e96</td>\n",
              "      <td>6af4a60e74c91d3</td>\n",
              "      <td>+cNeJzsTp3</td>\n",
              "      <td>+cNeJzsTp3</td>\n",
              "    </tr>\n",
              "    <tr>\n",
              "      <th>4</th>\n",
              "      <td>Voice</td>\n",
              "      <td>14</td>\n",
              "      <td>2012-05-06 23:06:29.0</td>\n",
              "      <td>966ba4656e38e62</td>\n",
              "      <td>02aa736ee555d5c</td>\n",
              "      <td>051KhYDCpv</td>\n",
              "      <td>051KhYDCpv</td>\n",
              "    </tr>\n",
              "  </tbody>\n",
              "</table>\n",
              "</div>"
            ],
            "text/plain": [
              "  PRODUTC  VALUE  ...     CELL_ID     SITE_ID\n",
              "0   Voice      0  ...  /TJNe+Mmtu  /TJNe+Mmtu\n",
              "1     sms      0  ...  /+cKZKIp41  /+cKZKIp41\n",
              "2     sms     25  ...  /u0FSD+ahi  /u0FSD+ahi\n",
              "3   Voice     56  ...  +cNeJzsTp3  +cNeJzsTp3\n",
              "4   Voice     14  ...  051KhYDCpv  051KhYDCpv\n",
              "\n",
              "[5 rows x 7 columns]"
            ]
          },
          "metadata": {
            "tags": []
          },
          "execution_count": 21
        }
      ]
    },
    {
      "cell_type": "code",
      "metadata": {
        "id": "2Lo_4Vi9hpnc",
        "colab_type": "code",
        "colab": {
          "base_uri": "https://localhost:8080/",
          "height": 204
        },
        "outputId": "7e9a4cd4-57cf-4fa1-b21f-fee33702937f"
      },
      "source": [
        "#Rename the columns in order to have matching column names in each daily dataset\n",
        "day_one.columns = ['PRODUCT','VALUE', 'DATE_TIME', 'DW_A_NUMBER_INT', 'DW_B_NUMBER_INT', 'CELL_ID','SITE_ID']\n",
        "day_one.head()"
      ],
      "execution_count": 22,
      "outputs": [
        {
          "output_type": "execute_result",
          "data": {
            "text/html": [
              "<div>\n",
              "<style scoped>\n",
              "    .dataframe tbody tr th:only-of-type {\n",
              "        vertical-align: middle;\n",
              "    }\n",
              "\n",
              "    .dataframe tbody tr th {\n",
              "        vertical-align: top;\n",
              "    }\n",
              "\n",
              "    .dataframe thead th {\n",
              "        text-align: right;\n",
              "    }\n",
              "</style>\n",
              "<table border=\"1\" class=\"dataframe\">\n",
              "  <thead>\n",
              "    <tr style=\"text-align: right;\">\n",
              "      <th></th>\n",
              "      <th>PRODUCT</th>\n",
              "      <th>VALUE</th>\n",
              "      <th>DATE_TIME</th>\n",
              "      <th>DW_A_NUMBER_INT</th>\n",
              "      <th>DW_B_NUMBER_INT</th>\n",
              "      <th>CELL_ID</th>\n",
              "      <th>SITE_ID</th>\n",
              "    </tr>\n",
              "  </thead>\n",
              "  <tbody>\n",
              "    <tr>\n",
              "      <th>0</th>\n",
              "      <td>Voice</td>\n",
              "      <td>0</td>\n",
              "      <td>2012-05-06 23:04:37.0</td>\n",
              "      <td>49fae048b547780</td>\n",
              "      <td>1a49f8b0ded9de6</td>\n",
              "      <td>/TJNe+Mmtu</td>\n",
              "      <td>/TJNe+Mmtu</td>\n",
              "    </tr>\n",
              "    <tr>\n",
              "      <th>1</th>\n",
              "      <td>sms</td>\n",
              "      <td>0</td>\n",
              "      <td>2012-05-06 23:05:25.0</td>\n",
              "      <td>7a54a6eaee19e65</td>\n",
              "      <td>93343ba6e41af95</td>\n",
              "      <td>/+cKZKIp41</td>\n",
              "      <td>/+cKZKIp41</td>\n",
              "    </tr>\n",
              "    <tr>\n",
              "      <th>2</th>\n",
              "      <td>sms</td>\n",
              "      <td>25</td>\n",
              "      <td>2012-05-06 23:05:41.0</td>\n",
              "      <td>6008887b0207d82</td>\n",
              "      <td>7aacc9709ce0a20</td>\n",
              "      <td>/u0FSD+ahi</td>\n",
              "      <td>/u0FSD+ahi</td>\n",
              "    </tr>\n",
              "    <tr>\n",
              "      <th>3</th>\n",
              "      <td>Voice</td>\n",
              "      <td>56</td>\n",
              "      <td>2012-05-06 23:05:42.0</td>\n",
              "      <td>7370032e20f4e96</td>\n",
              "      <td>6af4a60e74c91d3</td>\n",
              "      <td>+cNeJzsTp3</td>\n",
              "      <td>+cNeJzsTp3</td>\n",
              "    </tr>\n",
              "    <tr>\n",
              "      <th>4</th>\n",
              "      <td>Voice</td>\n",
              "      <td>14</td>\n",
              "      <td>2012-05-06 23:06:29.0</td>\n",
              "      <td>966ba4656e38e62</td>\n",
              "      <td>02aa736ee555d5c</td>\n",
              "      <td>051KhYDCpv</td>\n",
              "      <td>051KhYDCpv</td>\n",
              "    </tr>\n",
              "  </tbody>\n",
              "</table>\n",
              "</div>"
            ],
            "text/plain": [
              "  PRODUCT  VALUE  ...     CELL_ID     SITE_ID\n",
              "0   Voice      0  ...  /TJNe+Mmtu  /TJNe+Mmtu\n",
              "1     sms      0  ...  /+cKZKIp41  /+cKZKIp41\n",
              "2     sms     25  ...  /u0FSD+ahi  /u0FSD+ahi\n",
              "3   Voice     56  ...  +cNeJzsTp3  +cNeJzsTp3\n",
              "4   Voice     14  ...  051KhYDCpv  051KhYDCpv\n",
              "\n",
              "[5 rows x 7 columns]"
            ]
          },
          "metadata": {
            "tags": []
          },
          "execution_count": 22
        }
      ]
    },
    {
      "cell_type": "code",
      "metadata": {
        "id": "OiFawUsoiH4j",
        "colab_type": "code",
        "colab": {}
      },
      "source": [
        "#Load the second dataset :for day 2\n",
        "day_two = pd.read_csv('http://bit.ly/TelecomDataset2')"
      ],
      "execution_count": 0,
      "outputs": []
    },
    {
      "cell_type": "code",
      "metadata": {
        "id": "n_iTivGCj8cD",
        "colab_type": "code",
        "colab": {
          "base_uri": "https://localhost:8080/",
          "height": 204
        },
        "outputId": "8650c481-8429-4131-cb50-08cf90a39cb2"
      },
      "source": [
        "#Pick out the relevant columns\n",
        "day_two =day_two[['PRODUCT','VALUE','DATE_TIME','DW_A_NUMBER','DW_B_NUMBER','CELL_ID','SITE_ID']]\n",
        "day_two.head()\n",
        "\n"
      ],
      "execution_count": 8,
      "outputs": [
        {
          "output_type": "execute_result",
          "data": {
            "text/html": [
              "<div>\n",
              "<style scoped>\n",
              "    .dataframe tbody tr th:only-of-type {\n",
              "        vertical-align: middle;\n",
              "    }\n",
              "\n",
              "    .dataframe tbody tr th {\n",
              "        vertical-align: top;\n",
              "    }\n",
              "\n",
              "    .dataframe thead th {\n",
              "        text-align: right;\n",
              "    }\n",
              "</style>\n",
              "<table border=\"1\" class=\"dataframe\">\n",
              "  <thead>\n",
              "    <tr style=\"text-align: right;\">\n",
              "      <th></th>\n",
              "      <th>PRODUCT</th>\n",
              "      <th>VALUE</th>\n",
              "      <th>DATE_TIME</th>\n",
              "      <th>DW_A_NUMBER</th>\n",
              "      <th>DW_B_NUMBER</th>\n",
              "      <th>CELL_ID</th>\n",
              "      <th>SITE_ID</th>\n",
              "    </tr>\n",
              "  </thead>\n",
              "  <tbody>\n",
              "    <tr>\n",
              "      <th>0</th>\n",
              "      <td>sms</td>\n",
              "      <td>0</td>\n",
              "      <td>2012-05-07 23:02:06.0</td>\n",
              "      <td>32255675c3b6fe3</td>\n",
              "      <td>1aa7ae01386e9fb</td>\n",
              "      <td>+854AcBQT2</td>\n",
              "      <td>+854AcBQT2</td>\n",
              "    </tr>\n",
              "    <tr>\n",
              "      <th>1</th>\n",
              "      <td>Voice</td>\n",
              "      <td>0</td>\n",
              "      <td>2012-05-07 23:03:44.0</td>\n",
              "      <td>ff16d6ac74c1c64</td>\n",
              "      <td>87d87309c15a8c9</td>\n",
              "      <td>+854AcBQT2</td>\n",
              "      <td>+854AcBQT2</td>\n",
              "    </tr>\n",
              "    <tr>\n",
              "      <th>2</th>\n",
              "      <td>sms</td>\n",
              "      <td>0</td>\n",
              "      <td>2012-05-07 23:04:06.0</td>\n",
              "      <td>98d9f2fb5ff624b</td>\n",
              "      <td>93343ba6e41af95</td>\n",
              "      <td>+laSrk7g6q</td>\n",
              "      <td>+laSrk7g6q</td>\n",
              "    </tr>\n",
              "    <tr>\n",
              "      <th>3</th>\n",
              "      <td>Voice</td>\n",
              "      <td>37</td>\n",
              "      <td>2012-05-07 23:04:48.0</td>\n",
              "      <td>3f9c8a33ec7be1f</td>\n",
              "      <td>7d05a38f89c49d8</td>\n",
              "      <td>/xvRrCVKoQ</td>\n",
              "      <td>/xvRrCVKoQ</td>\n",
              "    </tr>\n",
              "    <tr>\n",
              "      <th>4</th>\n",
              "      <td>sms</td>\n",
              "      <td>25</td>\n",
              "      <td>2012-05-07 23:04:58.0</td>\n",
              "      <td>7bcccc03adf3864</td>\n",
              "      <td>56a5d5430d2fa86</td>\n",
              "      <td>+bO+qkSonO</td>\n",
              "      <td>+bO+qkSonO</td>\n",
              "    </tr>\n",
              "  </tbody>\n",
              "</table>\n",
              "</div>"
            ],
            "text/plain": [
              "  PRODUCT  VALUE  ...     CELL_ID     SITE_ID\n",
              "0     sms      0  ...  +854AcBQT2  +854AcBQT2\n",
              "1   Voice      0  ...  +854AcBQT2  +854AcBQT2\n",
              "2     sms      0  ...  +laSrk7g6q  +laSrk7g6q\n",
              "3   Voice     37  ...  /xvRrCVKoQ  /xvRrCVKoQ\n",
              "4     sms     25  ...  +bO+qkSonO  +bO+qkSonO\n",
              "\n",
              "[5 rows x 7 columns]"
            ]
          },
          "metadata": {
            "tags": []
          },
          "execution_count": 8
        }
      ]
    },
    {
      "cell_type": "code",
      "metadata": {
        "id": "syv9GXBBk7hd",
        "colab_type": "code",
        "colab": {
          "base_uri": "https://localhost:8080/",
          "height": 204
        },
        "outputId": "00fbde4b-0f47-4f24-a974-c5f6376398bb"
      },
      "source": [
        "#Rename the columns in order to have matching column names in each daily dataset\n",
        "day_two.columns = ['PRODUCT','VALUE', 'DATE_TIME', 'DW_A_NUMBER_INT', 'DW_B_NUMBER_INT', 'CELL_ID','SITE_ID']\n",
        "day_two.head()"
      ],
      "execution_count": 9,
      "outputs": [
        {
          "output_type": "execute_result",
          "data": {
            "text/html": [
              "<div>\n",
              "<style scoped>\n",
              "    .dataframe tbody tr th:only-of-type {\n",
              "        vertical-align: middle;\n",
              "    }\n",
              "\n",
              "    .dataframe tbody tr th {\n",
              "        vertical-align: top;\n",
              "    }\n",
              "\n",
              "    .dataframe thead th {\n",
              "        text-align: right;\n",
              "    }\n",
              "</style>\n",
              "<table border=\"1\" class=\"dataframe\">\n",
              "  <thead>\n",
              "    <tr style=\"text-align: right;\">\n",
              "      <th></th>\n",
              "      <th>PRODUCT</th>\n",
              "      <th>VALUE</th>\n",
              "      <th>DATE_TIME</th>\n",
              "      <th>DW_A_NUMBER_INT</th>\n",
              "      <th>DW_B_NUMBER_INT</th>\n",
              "      <th>CELL_ID</th>\n",
              "      <th>SITE_ID</th>\n",
              "    </tr>\n",
              "  </thead>\n",
              "  <tbody>\n",
              "    <tr>\n",
              "      <th>0</th>\n",
              "      <td>sms</td>\n",
              "      <td>0</td>\n",
              "      <td>2012-05-07 23:02:06.0</td>\n",
              "      <td>32255675c3b6fe3</td>\n",
              "      <td>1aa7ae01386e9fb</td>\n",
              "      <td>+854AcBQT2</td>\n",
              "      <td>+854AcBQT2</td>\n",
              "    </tr>\n",
              "    <tr>\n",
              "      <th>1</th>\n",
              "      <td>Voice</td>\n",
              "      <td>0</td>\n",
              "      <td>2012-05-07 23:03:44.0</td>\n",
              "      <td>ff16d6ac74c1c64</td>\n",
              "      <td>87d87309c15a8c9</td>\n",
              "      <td>+854AcBQT2</td>\n",
              "      <td>+854AcBQT2</td>\n",
              "    </tr>\n",
              "    <tr>\n",
              "      <th>2</th>\n",
              "      <td>sms</td>\n",
              "      <td>0</td>\n",
              "      <td>2012-05-07 23:04:06.0</td>\n",
              "      <td>98d9f2fb5ff624b</td>\n",
              "      <td>93343ba6e41af95</td>\n",
              "      <td>+laSrk7g6q</td>\n",
              "      <td>+laSrk7g6q</td>\n",
              "    </tr>\n",
              "    <tr>\n",
              "      <th>3</th>\n",
              "      <td>Voice</td>\n",
              "      <td>37</td>\n",
              "      <td>2012-05-07 23:04:48.0</td>\n",
              "      <td>3f9c8a33ec7be1f</td>\n",
              "      <td>7d05a38f89c49d8</td>\n",
              "      <td>/xvRrCVKoQ</td>\n",
              "      <td>/xvRrCVKoQ</td>\n",
              "    </tr>\n",
              "    <tr>\n",
              "      <th>4</th>\n",
              "      <td>sms</td>\n",
              "      <td>25</td>\n",
              "      <td>2012-05-07 23:04:58.0</td>\n",
              "      <td>7bcccc03adf3864</td>\n",
              "      <td>56a5d5430d2fa86</td>\n",
              "      <td>+bO+qkSonO</td>\n",
              "      <td>+bO+qkSonO</td>\n",
              "    </tr>\n",
              "  </tbody>\n",
              "</table>\n",
              "</div>"
            ],
            "text/plain": [
              "  PRODUCT  VALUE  ...     CELL_ID     SITE_ID\n",
              "0     sms      0  ...  +854AcBQT2  +854AcBQT2\n",
              "1   Voice      0  ...  +854AcBQT2  +854AcBQT2\n",
              "2     sms      0  ...  +laSrk7g6q  +laSrk7g6q\n",
              "3   Voice     37  ...  /xvRrCVKoQ  /xvRrCVKoQ\n",
              "4     sms     25  ...  +bO+qkSonO  +bO+qkSonO\n",
              "\n",
              "[5 rows x 7 columns]"
            ]
          },
          "metadata": {
            "tags": []
          },
          "execution_count": 9
        }
      ]
    },
    {
      "cell_type": "code",
      "metadata": {
        "id": "WBkP-6UUlDHM",
        "colab_type": "code",
        "colab": {
          "base_uri": "https://localhost:8080/",
          "height": 394
        },
        "outputId": "099db9a0-2336-491f-e890-3890489984c7"
      },
      "source": [
        "#Load the third dataset; for day 3\n",
        "day_three = pd.read_csv('http://bit.ly/TelecomDataset3')\n",
        "day_three.head()"
      ],
      "execution_count": 8,
      "outputs": [
        {
          "output_type": "execute_result",
          "data": {
            "text/html": [
              "<div>\n",
              "<style scoped>\n",
              "    .dataframe tbody tr th:only-of-type {\n",
              "        vertical-align: middle;\n",
              "    }\n",
              "\n",
              "    .dataframe tbody tr th {\n",
              "        vertical-align: top;\n",
              "    }\n",
              "\n",
              "    .dataframe thead th {\n",
              "        text-align: right;\n",
              "    }\n",
              "</style>\n",
              "<table border=\"1\" class=\"dataframe\">\n",
              "  <thead>\n",
              "    <tr style=\"text-align: right;\">\n",
              "      <th></th>\n",
              "      <th>PRODUCT</th>\n",
              "      <th>VALUE</th>\n",
              "      <th>DATE_TIME</th>\n",
              "      <th>CELL_ON_SITE</th>\n",
              "      <th>DW_A_NUMBER_INT</th>\n",
              "      <th>DW_B_NUMBER_INT</th>\n",
              "      <th>COUNTRY_A</th>\n",
              "      <th>COUNTRY_B</th>\n",
              "      <th>CELLID</th>\n",
              "      <th>SIET_ID</th>\n",
              "    </tr>\n",
              "  </thead>\n",
              "  <tbody>\n",
              "    <tr>\n",
              "      <th>0</th>\n",
              "      <td>Voice</td>\n",
              "      <td>61</td>\n",
              "      <td>2012-05-08 23:01:28.0</td>\n",
              "      <td>2</td>\n",
              "      <td>966f68353622feb</td>\n",
              "      <td>ffd53a3bb2db6f1</td>\n",
              "      <td>19e2e</td>\n",
              "      <td>19e2e</td>\n",
              "      <td>+38u2u/rfx</td>\n",
              "      <td>+38u2u/rfx</td>\n",
              "    </tr>\n",
              "    <tr>\n",
              "      <th>1</th>\n",
              "      <td>sms</td>\n",
              "      <td>0</td>\n",
              "      <td>2012-05-08 23:01:31.0</td>\n",
              "      <td>1</td>\n",
              "      <td>a0a597384c612d7</td>\n",
              "      <td>cf3b218f1dde792</td>\n",
              "      <td>19e2e</td>\n",
              "      <td>19e2e</td>\n",
              "      <td>+Fs4mTvdKx</td>\n",
              "      <td>+Fs4mTvdKx</td>\n",
              "    </tr>\n",
              "    <tr>\n",
              "      <th>2</th>\n",
              "      <td>Voice</td>\n",
              "      <td>10</td>\n",
              "      <td>2012-05-08 23:02:59.0</td>\n",
              "      <td>1</td>\n",
              "      <td>5441a9a58c97132</td>\n",
              "      <td>52f8b299515b9b7</td>\n",
              "      <td>19e2e</td>\n",
              "      <td>19e2e</td>\n",
              "      <td>+ZaaZozy/+</td>\n",
              "      <td>+ZaaZozy/+</td>\n",
              "    </tr>\n",
              "    <tr>\n",
              "      <th>3</th>\n",
              "      <td>sms</td>\n",
              "      <td>0</td>\n",
              "      <td>2012-05-08 23:03:04.0</td>\n",
              "      <td>0</td>\n",
              "      <td>8ab8b9ed6989f61</td>\n",
              "      <td>e09e736e46c5c3d</td>\n",
              "      <td>19e2e</td>\n",
              "      <td>19e2e</td>\n",
              "      <td>+cNeJzsTp3</td>\n",
              "      <td>+cNeJzsTp3</td>\n",
              "    </tr>\n",
              "    <tr>\n",
              "      <th>4</th>\n",
              "      <td>Voice</td>\n",
              "      <td>22</td>\n",
              "      <td>2012-05-08 23:03:16.0</td>\n",
              "      <td>4</td>\n",
              "      <td>52662a62b199334</td>\n",
              "      <td>2186273faab4602</td>\n",
              "      <td>19e2e</td>\n",
              "      <td>19e2e</td>\n",
              "      <td>/eeMklgyJA</td>\n",
              "      <td>/eeMklgyJA</td>\n",
              "    </tr>\n",
              "  </tbody>\n",
              "</table>\n",
              "</div>"
            ],
            "text/plain": [
              "  PRODUCT  VALUE              DATE_TIME  ... COUNTRY_B      CELLID     SIET_ID\n",
              "0   Voice     61  2012-05-08 23:01:28.0  ...     19e2e  +38u2u/rfx  +38u2u/rfx\n",
              "1     sms      0  2012-05-08 23:01:31.0  ...     19e2e  +Fs4mTvdKx  +Fs4mTvdKx\n",
              "2   Voice     10  2012-05-08 23:02:59.0  ...     19e2e  +ZaaZozy/+  +ZaaZozy/+\n",
              "3     sms      0  2012-05-08 23:03:04.0  ...     19e2e  +cNeJzsTp3  +cNeJzsTp3\n",
              "4   Voice     22  2012-05-08 23:03:16.0  ...     19e2e  /eeMklgyJA  /eeMklgyJA\n",
              "\n",
              "[5 rows x 10 columns]"
            ]
          },
          "metadata": {
            "tags": []
          },
          "execution_count": 8
        }
      ]
    },
    {
      "cell_type": "code",
      "metadata": {
        "id": "AKWiiE7Kmqe9",
        "colab_type": "code",
        "colab": {
          "base_uri": "https://localhost:8080/",
          "height": 204
        },
        "outputId": "1cababf7-9adc-455e-c95e-f8125319f891"
      },
      "source": [
        "#Pick out the relevant columns\n",
        "day_three = day_three[['PRODUCT','VALUE','DATE_TIME','DW_A_NUMBER_INT','DW_B_NUMBER_INT','CELLID','SIET_ID']]\n",
        "day_three.head()\n"
      ],
      "execution_count": 9,
      "outputs": [
        {
          "output_type": "execute_result",
          "data": {
            "text/html": [
              "<div>\n",
              "<style scoped>\n",
              "    .dataframe tbody tr th:only-of-type {\n",
              "        vertical-align: middle;\n",
              "    }\n",
              "\n",
              "    .dataframe tbody tr th {\n",
              "        vertical-align: top;\n",
              "    }\n",
              "\n",
              "    .dataframe thead th {\n",
              "        text-align: right;\n",
              "    }\n",
              "</style>\n",
              "<table border=\"1\" class=\"dataframe\">\n",
              "  <thead>\n",
              "    <tr style=\"text-align: right;\">\n",
              "      <th></th>\n",
              "      <th>PRODUCT</th>\n",
              "      <th>VALUE</th>\n",
              "      <th>DATE_TIME</th>\n",
              "      <th>DW_A_NUMBER_INT</th>\n",
              "      <th>DW_B_NUMBER_INT</th>\n",
              "      <th>CELLID</th>\n",
              "      <th>SIET_ID</th>\n",
              "    </tr>\n",
              "  </thead>\n",
              "  <tbody>\n",
              "    <tr>\n",
              "      <th>0</th>\n",
              "      <td>Voice</td>\n",
              "      <td>61</td>\n",
              "      <td>2012-05-08 23:01:28.0</td>\n",
              "      <td>966f68353622feb</td>\n",
              "      <td>ffd53a3bb2db6f1</td>\n",
              "      <td>+38u2u/rfx</td>\n",
              "      <td>+38u2u/rfx</td>\n",
              "    </tr>\n",
              "    <tr>\n",
              "      <th>1</th>\n",
              "      <td>sms</td>\n",
              "      <td>0</td>\n",
              "      <td>2012-05-08 23:01:31.0</td>\n",
              "      <td>a0a597384c612d7</td>\n",
              "      <td>cf3b218f1dde792</td>\n",
              "      <td>+Fs4mTvdKx</td>\n",
              "      <td>+Fs4mTvdKx</td>\n",
              "    </tr>\n",
              "    <tr>\n",
              "      <th>2</th>\n",
              "      <td>Voice</td>\n",
              "      <td>10</td>\n",
              "      <td>2012-05-08 23:02:59.0</td>\n",
              "      <td>5441a9a58c97132</td>\n",
              "      <td>52f8b299515b9b7</td>\n",
              "      <td>+ZaaZozy/+</td>\n",
              "      <td>+ZaaZozy/+</td>\n",
              "    </tr>\n",
              "    <tr>\n",
              "      <th>3</th>\n",
              "      <td>sms</td>\n",
              "      <td>0</td>\n",
              "      <td>2012-05-08 23:03:04.0</td>\n",
              "      <td>8ab8b9ed6989f61</td>\n",
              "      <td>e09e736e46c5c3d</td>\n",
              "      <td>+cNeJzsTp3</td>\n",
              "      <td>+cNeJzsTp3</td>\n",
              "    </tr>\n",
              "    <tr>\n",
              "      <th>4</th>\n",
              "      <td>Voice</td>\n",
              "      <td>22</td>\n",
              "      <td>2012-05-08 23:03:16.0</td>\n",
              "      <td>52662a62b199334</td>\n",
              "      <td>2186273faab4602</td>\n",
              "      <td>/eeMklgyJA</td>\n",
              "      <td>/eeMklgyJA</td>\n",
              "    </tr>\n",
              "  </tbody>\n",
              "</table>\n",
              "</div>"
            ],
            "text/plain": [
              "  PRODUCT  VALUE  ...      CELLID     SIET_ID\n",
              "0   Voice     61  ...  +38u2u/rfx  +38u2u/rfx\n",
              "1     sms      0  ...  +Fs4mTvdKx  +Fs4mTvdKx\n",
              "2   Voice     10  ...  +ZaaZozy/+  +ZaaZozy/+\n",
              "3     sms      0  ...  +cNeJzsTp3  +cNeJzsTp3\n",
              "4   Voice     22  ...  /eeMklgyJA  /eeMklgyJA\n",
              "\n",
              "[5 rows x 7 columns]"
            ]
          },
          "metadata": {
            "tags": []
          },
          "execution_count": 9
        }
      ]
    },
    {
      "cell_type": "code",
      "metadata": {
        "id": "Jqn7VszunCrN",
        "colab_type": "code",
        "colab": {
          "base_uri": "https://localhost:8080/",
          "height": 204
        },
        "outputId": "b731b96c-8e39-4e17-8814-f198e9566671"
      },
      "source": [
        "#Rename the columns in order to have matching column names in each daily dataset\n",
        "day_three.columns = ['PRODUCT','VALUE', 'DATE_TIME', 'DW_A_NUMBER_INT', 'DW_B_NUMBER_INT', 'CELL_ID','SITE_ID']\n",
        "day_three.head()"
      ],
      "execution_count": 10,
      "outputs": [
        {
          "output_type": "execute_result",
          "data": {
            "text/html": [
              "<div>\n",
              "<style scoped>\n",
              "    .dataframe tbody tr th:only-of-type {\n",
              "        vertical-align: middle;\n",
              "    }\n",
              "\n",
              "    .dataframe tbody tr th {\n",
              "        vertical-align: top;\n",
              "    }\n",
              "\n",
              "    .dataframe thead th {\n",
              "        text-align: right;\n",
              "    }\n",
              "</style>\n",
              "<table border=\"1\" class=\"dataframe\">\n",
              "  <thead>\n",
              "    <tr style=\"text-align: right;\">\n",
              "      <th></th>\n",
              "      <th>PRODUCT</th>\n",
              "      <th>VALUE</th>\n",
              "      <th>DATE_TIME</th>\n",
              "      <th>DW_A_NUMBER_INT</th>\n",
              "      <th>DW_B_NUMBER_INT</th>\n",
              "      <th>CELL_ID</th>\n",
              "      <th>SITE_ID</th>\n",
              "    </tr>\n",
              "  </thead>\n",
              "  <tbody>\n",
              "    <tr>\n",
              "      <th>0</th>\n",
              "      <td>Voice</td>\n",
              "      <td>61</td>\n",
              "      <td>2012-05-08 23:01:28.0</td>\n",
              "      <td>966f68353622feb</td>\n",
              "      <td>ffd53a3bb2db6f1</td>\n",
              "      <td>+38u2u/rfx</td>\n",
              "      <td>+38u2u/rfx</td>\n",
              "    </tr>\n",
              "    <tr>\n",
              "      <th>1</th>\n",
              "      <td>sms</td>\n",
              "      <td>0</td>\n",
              "      <td>2012-05-08 23:01:31.0</td>\n",
              "      <td>a0a597384c612d7</td>\n",
              "      <td>cf3b218f1dde792</td>\n",
              "      <td>+Fs4mTvdKx</td>\n",
              "      <td>+Fs4mTvdKx</td>\n",
              "    </tr>\n",
              "    <tr>\n",
              "      <th>2</th>\n",
              "      <td>Voice</td>\n",
              "      <td>10</td>\n",
              "      <td>2012-05-08 23:02:59.0</td>\n",
              "      <td>5441a9a58c97132</td>\n",
              "      <td>52f8b299515b9b7</td>\n",
              "      <td>+ZaaZozy/+</td>\n",
              "      <td>+ZaaZozy/+</td>\n",
              "    </tr>\n",
              "    <tr>\n",
              "      <th>3</th>\n",
              "      <td>sms</td>\n",
              "      <td>0</td>\n",
              "      <td>2012-05-08 23:03:04.0</td>\n",
              "      <td>8ab8b9ed6989f61</td>\n",
              "      <td>e09e736e46c5c3d</td>\n",
              "      <td>+cNeJzsTp3</td>\n",
              "      <td>+cNeJzsTp3</td>\n",
              "    </tr>\n",
              "    <tr>\n",
              "      <th>4</th>\n",
              "      <td>Voice</td>\n",
              "      <td>22</td>\n",
              "      <td>2012-05-08 23:03:16.0</td>\n",
              "      <td>52662a62b199334</td>\n",
              "      <td>2186273faab4602</td>\n",
              "      <td>/eeMklgyJA</td>\n",
              "      <td>/eeMklgyJA</td>\n",
              "    </tr>\n",
              "  </tbody>\n",
              "</table>\n",
              "</div>"
            ],
            "text/plain": [
              "  PRODUCT  VALUE  ...     CELL_ID     SITE_ID\n",
              "0   Voice     61  ...  +38u2u/rfx  +38u2u/rfx\n",
              "1     sms      0  ...  +Fs4mTvdKx  +Fs4mTvdKx\n",
              "2   Voice     10  ...  +ZaaZozy/+  +ZaaZozy/+\n",
              "3     sms      0  ...  +cNeJzsTp3  +cNeJzsTp3\n",
              "4   Voice     22  ...  /eeMklgyJA  /eeMklgyJA\n",
              "\n",
              "[5 rows x 7 columns]"
            ]
          },
          "metadata": {
            "tags": []
          },
          "execution_count": 10
        }
      ]
    },
    {
      "cell_type": "markdown",
      "metadata": {
        "id": "ulafWvfVnIJF",
        "colab_type": "text"
      },
      "source": [
        "##Find out more information on each dataset."
      ]
    },
    {
      "cell_type": "markdown",
      "metadata": {
        "id": "wDnXzGaZnUGN",
        "colab_type": "text"
      },
      "source": [
        "### The cells_geo dataset\n",
        "\n",
        "*  Is there missing data? (What is the overall number of values? What columns have missing data?)\n",
        "*  How many rows and columns does it have?\n",
        "*  Find out the data types in each column."
      ]
    },
    {
      "cell_type": "code",
      "metadata": {
        "id": "1w_w33Lln6Fv",
        "colab_type": "code",
        "colab": {
          "base_uri": "https://localhost:8080/",
          "height": 187
        },
        "outputId": "1d1f822f-ad4a-4987-b8aa-26123ab3e4e0"
      },
      "source": [
        "#What is the number of missing values in each column?\n",
        "cells_geo.isnull().sum()"
      ],
      "execution_count": 13,
      "outputs": [
        {
          "output_type": "execute_result",
          "data": {
            "text/plain": [
              "VILLES           0\n",
              "STATUS          67\n",
              "LOCALISATION     0\n",
              "DECOUPZONE       0\n",
              "ZONENAME         6\n",
              "REGION           0\n",
              "AREA            23\n",
              "CELL_ID          0\n",
              "SITE_CODE        0\n",
              "dtype: int64"
            ]
          },
          "metadata": {
            "tags": []
          },
          "execution_count": 13
        }
      ]
    },
    {
      "cell_type": "code",
      "metadata": {
        "id": "dUQuOAKYodyh",
        "colab_type": "code",
        "colab": {
          "base_uri": "https://localhost:8080/",
          "height": 34
        },
        "outputId": "e3313047-3045-4ab5-d572-3bfa69ab882e"
      },
      "source": [
        "#What is the overall number of missing values?\n",
        "cells_geo.isnull().sum().sum()"
      ],
      "execution_count": 19,
      "outputs": [
        {
          "output_type": "execute_result",
          "data": {
            "text/plain": [
              "96"
            ]
          },
          "metadata": {
            "tags": []
          },
          "execution_count": 19
        }
      ]
    },
    {
      "cell_type": "code",
      "metadata": {
        "id": "cICA-hX2pcMP",
        "colab_type": "code",
        "colab": {
          "base_uri": "https://localhost:8080/",
          "height": 34
        },
        "outputId": "577282a3-00e8-4a63-c240-4293ffcdd287"
      },
      "source": [
        "#How many rows and columns does it have?\n",
        "cells_geo.shape"
      ],
      "execution_count": 20,
      "outputs": [
        {
          "output_type": "execute_result",
          "data": {
            "text/plain": [
              "(3974, 9)"
            ]
          },
          "metadata": {
            "tags": []
          },
          "execution_count": 20
        }
      ]
    },
    {
      "cell_type": "code",
      "metadata": {
        "id": "pZRsiFnBppBe",
        "colab_type": "code",
        "colab": {
          "base_uri": "https://localhost:8080/",
          "height": 255
        },
        "outputId": "bcf1fa3f-b3bd-47cb-c069-88b994ed7d64"
      },
      "source": [
        "#Find the type of data types in each column.\n",
        "cells_geo.info()"
      ],
      "execution_count": 24,
      "outputs": [
        {
          "output_type": "stream",
          "text": [
            "<class 'pandas.core.frame.DataFrame'>\n",
            "RangeIndex: 3974 entries, 0 to 3973\n",
            "Data columns (total 9 columns):\n",
            "VILLES          3974 non-null object\n",
            "STATUS          3907 non-null object\n",
            "LOCALISATION    3974 non-null object\n",
            "DECOUPZONE      3974 non-null object\n",
            "ZONENAME        3968 non-null object\n",
            "REGION          3974 non-null object\n",
            "AREA            3951 non-null object\n",
            "CELL_ID         3974 non-null object\n",
            "SITE_CODE       3974 non-null object\n",
            "dtypes: object(9)\n",
            "memory usage: 279.5+ KB\n"
          ],
          "name": "stdout"
        }
      ]
    },
    {
      "cell_type": "code",
      "metadata": {
        "id": "4hkkE7I7qhB_",
        "colab_type": "code",
        "colab": {
          "base_uri": "https://localhost:8080/",
          "height": 204
        },
        "outputId": "f1d7b9cb-c64d-4d41-d25b-b3e13190913a"
      },
      "source": [
        "#Let's replace all the missing values to NaN\n",
        "cells_geo.replace('N/A',np.NaN)\n",
        "cells_geo.head()"
      ],
      "execution_count": 6,
      "outputs": [
        {
          "output_type": "execute_result",
          "data": {
            "text/html": [
              "<div>\n",
              "<style scoped>\n",
              "    .dataframe tbody tr th:only-of-type {\n",
              "        vertical-align: middle;\n",
              "    }\n",
              "\n",
              "    .dataframe tbody tr th {\n",
              "        vertical-align: top;\n",
              "    }\n",
              "\n",
              "    .dataframe thead th {\n",
              "        text-align: right;\n",
              "    }\n",
              "</style>\n",
              "<table border=\"1\" class=\"dataframe\">\n",
              "  <thead>\n",
              "    <tr style=\"text-align: right;\">\n",
              "      <th></th>\n",
              "      <th>VILLES</th>\n",
              "      <th>STATUS</th>\n",
              "      <th>LOCALISATION</th>\n",
              "      <th>DECOUPZONE</th>\n",
              "      <th>ZONENAME</th>\n",
              "      <th>REGION</th>\n",
              "      <th>AREA</th>\n",
              "      <th>CELL_ID</th>\n",
              "      <th>SITE_CODE</th>\n",
              "    </tr>\n",
              "  </thead>\n",
              "  <tbody>\n",
              "    <tr>\n",
              "      <th>0</th>\n",
              "      <td>ADJAME</td>\n",
              "      <td>In Service</td>\n",
              "      <td>ABIDJAN</td>\n",
              "      <td>\"Abidjan_EST</td>\n",
              "      <td>AGBANNEW</td>\n",
              "      <td>LAGUNE</td>\n",
              "      <td>NaN</td>\n",
              "      <td>fbb2e75af3</td>\n",
              "      <td>0bb492ef17</td>\n",
              "    </tr>\n",
              "    <tr>\n",
              "      <th>1</th>\n",
              "      <td>ADJAME</td>\n",
              "      <td>In Service</td>\n",
              "      <td>ABIDJAN</td>\n",
              "      <td>\"Abidjan_EST</td>\n",
              "      <td>AGBANNEW</td>\n",
              "      <td>LAGUNE</td>\n",
              "      <td>NaN</td>\n",
              "      <td>1502501d78</td>\n",
              "      <td>0bb492ef17</td>\n",
              "    </tr>\n",
              "    <tr>\n",
              "      <th>2</th>\n",
              "      <td>ADJAME</td>\n",
              "      <td>In Service</td>\n",
              "      <td>ABIDJAN</td>\n",
              "      <td>\"Abidjan_EST</td>\n",
              "      <td>AGBANNEW</td>\n",
              "      <td>LAGUNE</td>\n",
              "      <td>NaN</td>\n",
              "      <td>0c2e182a0c</td>\n",
              "      <td>0bb492ef17</td>\n",
              "    </tr>\n",
              "    <tr>\n",
              "      <th>3</th>\n",
              "      <td>ASSINIE</td>\n",
              "      <td>In Service</td>\n",
              "      <td>INTERIEUR</td>\n",
              "      <td>Grand-EST</td>\n",
              "      <td>ASSINIE\"</td>\n",
              "      <td>SUD COMOE</td>\n",
              "      <td>NaN</td>\n",
              "      <td>69bdfc69fd</td>\n",
              "      <td>8a1e6ce31f</td>\n",
              "    </tr>\n",
              "    <tr>\n",
              "      <th>4</th>\n",
              "      <td>ASSINIE</td>\n",
              "      <td>In Service</td>\n",
              "      <td>INTERIEUR</td>\n",
              "      <td>Grand-EST</td>\n",
              "      <td>ASSINIE\"</td>\n",
              "      <td>SUD COMOE</td>\n",
              "      <td>NaN</td>\n",
              "      <td>7a1029d2ab</td>\n",
              "      <td>8a1e6ce31f</td>\n",
              "    </tr>\n",
              "  </tbody>\n",
              "</table>\n",
              "</div>"
            ],
            "text/plain": [
              "    VILLES      STATUS LOCALISATION  ... AREA     CELL_ID   SITE_CODE\n",
              "0   ADJAME  In Service      ABIDJAN  ...  NaN  fbb2e75af3  0bb492ef17\n",
              "1   ADJAME  In Service      ABIDJAN  ...  NaN  1502501d78  0bb492ef17\n",
              "2   ADJAME  In Service      ABIDJAN  ...  NaN  0c2e182a0c  0bb492ef17\n",
              "3  ASSINIE  In Service    INTERIEUR  ...  NaN  69bdfc69fd  8a1e6ce31f\n",
              "4  ASSINIE  In Service    INTERIEUR  ...  NaN  7a1029d2ab  8a1e6ce31f\n",
              "\n",
              "[5 rows x 9 columns]"
            ]
          },
          "metadata": {
            "tags": []
          },
          "execution_count": 6
        }
      ]
    },
    {
      "cell_type": "markdown",
      "metadata": {
        "id": "GxdyJ9XVs_G7",
        "colab_type": "text"
      },
      "source": [
        "### Let's merge the cells_geo dataset and the day_one dataset"
      ]
    },
    {
      "cell_type": "code",
      "metadata": {
        "id": "3syYSVWgtHCv",
        "colab_type": "code",
        "colab": {
          "base_uri": "https://localhost:8080/",
          "height": 394
        },
        "outputId": "039cd9d9-fb07-47bc-c578-45d126576554"
      },
      "source": [
        "# Why user an inner join as opposed to a left or right join? \n",
        "# We want to maintain the common existent values in both dataframes in the CELL_ID column. \n",
        "# This isnt the most conclusive method as alot of data in the day_one dataframe is not used to make a conclusive interpretation of the data. \n",
        "# However, the unique CELL_ID entries act as a random sample of the data.\n",
        "cell_one = day_one.merge(cells_geo, how='inner', on='CELL_ID')\n",
        "cell_one.head()"
      ],
      "execution_count": 29,
      "outputs": [
        {
          "output_type": "execute_result",
          "data": {
            "text/html": [
              "<div>\n",
              "<style scoped>\n",
              "    .dataframe tbody tr th:only-of-type {\n",
              "        vertical-align: middle;\n",
              "    }\n",
              "\n",
              "    .dataframe tbody tr th {\n",
              "        vertical-align: top;\n",
              "    }\n",
              "\n",
              "    .dataframe thead th {\n",
              "        text-align: right;\n",
              "    }\n",
              "</style>\n",
              "<table border=\"1\" class=\"dataframe\">\n",
              "  <thead>\n",
              "    <tr style=\"text-align: right;\">\n",
              "      <th></th>\n",
              "      <th>PRODUCT</th>\n",
              "      <th>VALUE</th>\n",
              "      <th>DATE_TIME</th>\n",
              "      <th>DW_A_NUMBER_INT</th>\n",
              "      <th>DW_B_NUMBER_INT</th>\n",
              "      <th>CELL_ID</th>\n",
              "      <th>SITE_ID</th>\n",
              "      <th>VILLES</th>\n",
              "      <th>STATUS</th>\n",
              "      <th>LOCALISATION</th>\n",
              "      <th>DECOUPZONE</th>\n",
              "      <th>ZONENAME</th>\n",
              "      <th>REGION</th>\n",
              "      <th>AREA</th>\n",
              "      <th>SITE_CODE</th>\n",
              "    </tr>\n",
              "  </thead>\n",
              "  <tbody>\n",
              "    <tr>\n",
              "      <th>0</th>\n",
              "      <td>Voice</td>\n",
              "      <td>0</td>\n",
              "      <td>2012-05-07 08:33:43.0</td>\n",
              "      <td>13d236932ae2bcf</td>\n",
              "      <td>662861c8d47acbb</td>\n",
              "      <td>1ce5a37ea9</td>\n",
              "      <td>NaN</td>\n",
              "      <td>ATTECOUBE</td>\n",
              "      <td>In Service</td>\n",
              "      <td>ABIDJAN</td>\n",
              "      <td>Abidjan_OUEST</td>\n",
              "      <td>ZONE C - Abidjan_OUEST</td>\n",
              "      <td>LAGUNE</td>\n",
              "      <td>ABIDJAN NORTH</td>\n",
              "      <td>7f76d66503</td>\n",
              "    </tr>\n",
              "    <tr>\n",
              "      <th>1</th>\n",
              "      <td>Voice</td>\n",
              "      <td>0</td>\n",
              "      <td>2012-05-07 08:36:17.0</td>\n",
              "      <td>704ad46f5623789</td>\n",
              "      <td>8788ee37020a0b3</td>\n",
              "      <td>24ced8b6ba</td>\n",
              "      <td>NaN</td>\n",
              "      <td>PORT-BOUET</td>\n",
              "      <td>In Service</td>\n",
              "      <td>ABIDJAN</td>\n",
              "      <td>Abidjan_SUD</td>\n",
              "      <td>ZONE D - Abidjan_SUD</td>\n",
              "      <td>LAGUNE</td>\n",
              "      <td>ABIDJAN SOUTH</td>\n",
              "      <td>ffa6bdc032</td>\n",
              "    </tr>\n",
              "    <tr>\n",
              "      <th>2</th>\n",
              "      <td>Voice</td>\n",
              "      <td>0</td>\n",
              "      <td>2012-05-07 08:37:47.0</td>\n",
              "      <td>de08884e7eb68a8</td>\n",
              "      <td>5a699ac9f644039</td>\n",
              "      <td>f7f527c807</td>\n",
              "      <td>NaN</td>\n",
              "      <td>PLATEAU</td>\n",
              "      <td>In Service</td>\n",
              "      <td>ABIDJAN</td>\n",
              "      <td>Abidjan_CENTRE</td>\n",
              "      <td>ZONE A - Abidjan_CENTRE</td>\n",
              "      <td>LAGUNE</td>\n",
              "      <td>ABIDJAN SOUTH</td>\n",
              "      <td>3e46cdd0e8</td>\n",
              "    </tr>\n",
              "    <tr>\n",
              "      <th>3</th>\n",
              "      <td>Voice</td>\n",
              "      <td>0</td>\n",
              "      <td>2012-05-07 09:56:52.0</td>\n",
              "      <td>a5ff70730fe55d6</td>\n",
              "      <td>f34968a670b9422</td>\n",
              "      <td>f7f527c807</td>\n",
              "      <td>NaN</td>\n",
              "      <td>PLATEAU</td>\n",
              "      <td>In Service</td>\n",
              "      <td>ABIDJAN</td>\n",
              "      <td>Abidjan_CENTRE</td>\n",
              "      <td>ZONE A - Abidjan_CENTRE</td>\n",
              "      <td>LAGUNE</td>\n",
              "      <td>ABIDJAN SOUTH</td>\n",
              "      <td>3e46cdd0e8</td>\n",
              "    </tr>\n",
              "    <tr>\n",
              "      <th>4</th>\n",
              "      <td>Voice</td>\n",
              "      <td>0</td>\n",
              "      <td>2012-05-07 20:17:41.0</td>\n",
              "      <td>4106e7c8e1bdc3c</td>\n",
              "      <td>87b5c66d514431b</td>\n",
              "      <td>f7f527c807</td>\n",
              "      <td>NaN</td>\n",
              "      <td>PLATEAU</td>\n",
              "      <td>In Service</td>\n",
              "      <td>ABIDJAN</td>\n",
              "      <td>Abidjan_CENTRE</td>\n",
              "      <td>ZONE A - Abidjan_CENTRE</td>\n",
              "      <td>LAGUNE</td>\n",
              "      <td>ABIDJAN SOUTH</td>\n",
              "      <td>3e46cdd0e8</td>\n",
              "    </tr>\n",
              "  </tbody>\n",
              "</table>\n",
              "</div>"
            ],
            "text/plain": [
              "  PRODUCT  VALUE              DATE_TIME  ...  REGION           AREA   SITE_CODE\n",
              "0   Voice      0  2012-05-07 08:33:43.0  ...  LAGUNE  ABIDJAN NORTH  7f76d66503\n",
              "1   Voice      0  2012-05-07 08:36:17.0  ...  LAGUNE  ABIDJAN SOUTH  ffa6bdc032\n",
              "2   Voice      0  2012-05-07 08:37:47.0  ...  LAGUNE  ABIDJAN SOUTH  3e46cdd0e8\n",
              "3   Voice      0  2012-05-07 09:56:52.0  ...  LAGUNE  ABIDJAN SOUTH  3e46cdd0e8\n",
              "4   Voice      0  2012-05-07 20:17:41.0  ...  LAGUNE  ABIDJAN SOUTH  3e46cdd0e8\n",
              "\n",
              "[5 rows x 15 columns]"
            ]
          },
          "metadata": {
            "tags": []
          },
          "execution_count": 29
        }
      ]
    },
    {
      "cell_type": "code",
      "metadata": {
        "id": "JIjoDlNSz7Dp",
        "colab_type": "code",
        "colab": {
          "base_uri": "https://localhost:8080/",
          "height": 394
        },
        "outputId": "bff34e99-f773-459e-e8f0-ecdf55f48b6a"
      },
      "source": [
        "#Let's convert the cell_one dataframe to a csv file to avoid loading the dataset multiple times.\n",
        "\n",
        "cell_one_csv = cell_one.to_csv('cell_one.csv',encoding='utf-8',index=False)\n",
        "\n",
        "cell_one_csv = pd.read_csv('cell_one.csv')\n",
        "cell_one_csv.head()"
      ],
      "execution_count": 30,
      "outputs": [
        {
          "output_type": "execute_result",
          "data": {
            "text/html": [
              "<div>\n",
              "<style scoped>\n",
              "    .dataframe tbody tr th:only-of-type {\n",
              "        vertical-align: middle;\n",
              "    }\n",
              "\n",
              "    .dataframe tbody tr th {\n",
              "        vertical-align: top;\n",
              "    }\n",
              "\n",
              "    .dataframe thead th {\n",
              "        text-align: right;\n",
              "    }\n",
              "</style>\n",
              "<table border=\"1\" class=\"dataframe\">\n",
              "  <thead>\n",
              "    <tr style=\"text-align: right;\">\n",
              "      <th></th>\n",
              "      <th>PRODUCT</th>\n",
              "      <th>VALUE</th>\n",
              "      <th>DATE_TIME</th>\n",
              "      <th>DW_A_NUMBER_INT</th>\n",
              "      <th>DW_B_NUMBER_INT</th>\n",
              "      <th>CELL_ID</th>\n",
              "      <th>SITE_ID</th>\n",
              "      <th>VILLES</th>\n",
              "      <th>STATUS</th>\n",
              "      <th>LOCALISATION</th>\n",
              "      <th>DECOUPZONE</th>\n",
              "      <th>ZONENAME</th>\n",
              "      <th>REGION</th>\n",
              "      <th>AREA</th>\n",
              "      <th>SITE_CODE</th>\n",
              "    </tr>\n",
              "  </thead>\n",
              "  <tbody>\n",
              "    <tr>\n",
              "      <th>0</th>\n",
              "      <td>Voice</td>\n",
              "      <td>0</td>\n",
              "      <td>2012-05-07 08:33:43.0</td>\n",
              "      <td>13d236932ae2bcf</td>\n",
              "      <td>662861c8d47acbb</td>\n",
              "      <td>1ce5a37ea9</td>\n",
              "      <td>NaN</td>\n",
              "      <td>ATTECOUBE</td>\n",
              "      <td>In Service</td>\n",
              "      <td>ABIDJAN</td>\n",
              "      <td>Abidjan_OUEST</td>\n",
              "      <td>ZONE C - Abidjan_OUEST</td>\n",
              "      <td>LAGUNE</td>\n",
              "      <td>ABIDJAN NORTH</td>\n",
              "      <td>7f76d66503</td>\n",
              "    </tr>\n",
              "    <tr>\n",
              "      <th>1</th>\n",
              "      <td>Voice</td>\n",
              "      <td>0</td>\n",
              "      <td>2012-05-07 08:36:17.0</td>\n",
              "      <td>704ad46f5623789</td>\n",
              "      <td>8788ee37020a0b3</td>\n",
              "      <td>24ced8b6ba</td>\n",
              "      <td>NaN</td>\n",
              "      <td>PORT-BOUET</td>\n",
              "      <td>In Service</td>\n",
              "      <td>ABIDJAN</td>\n",
              "      <td>Abidjan_SUD</td>\n",
              "      <td>ZONE D - Abidjan_SUD</td>\n",
              "      <td>LAGUNE</td>\n",
              "      <td>ABIDJAN SOUTH</td>\n",
              "      <td>ffa6bdc032</td>\n",
              "    </tr>\n",
              "    <tr>\n",
              "      <th>2</th>\n",
              "      <td>Voice</td>\n",
              "      <td>0</td>\n",
              "      <td>2012-05-07 08:37:47.0</td>\n",
              "      <td>de08884e7eb68a8</td>\n",
              "      <td>5a699ac9f644039</td>\n",
              "      <td>f7f527c807</td>\n",
              "      <td>NaN</td>\n",
              "      <td>PLATEAU</td>\n",
              "      <td>In Service</td>\n",
              "      <td>ABIDJAN</td>\n",
              "      <td>Abidjan_CENTRE</td>\n",
              "      <td>ZONE A - Abidjan_CENTRE</td>\n",
              "      <td>LAGUNE</td>\n",
              "      <td>ABIDJAN SOUTH</td>\n",
              "      <td>3e46cdd0e8</td>\n",
              "    </tr>\n",
              "    <tr>\n",
              "      <th>3</th>\n",
              "      <td>Voice</td>\n",
              "      <td>0</td>\n",
              "      <td>2012-05-07 09:56:52.0</td>\n",
              "      <td>a5ff70730fe55d6</td>\n",
              "      <td>f34968a670b9422</td>\n",
              "      <td>f7f527c807</td>\n",
              "      <td>NaN</td>\n",
              "      <td>PLATEAU</td>\n",
              "      <td>In Service</td>\n",
              "      <td>ABIDJAN</td>\n",
              "      <td>Abidjan_CENTRE</td>\n",
              "      <td>ZONE A - Abidjan_CENTRE</td>\n",
              "      <td>LAGUNE</td>\n",
              "      <td>ABIDJAN SOUTH</td>\n",
              "      <td>3e46cdd0e8</td>\n",
              "    </tr>\n",
              "    <tr>\n",
              "      <th>4</th>\n",
              "      <td>Voice</td>\n",
              "      <td>0</td>\n",
              "      <td>2012-05-07 20:17:41.0</td>\n",
              "      <td>4106e7c8e1bdc3c</td>\n",
              "      <td>87b5c66d514431b</td>\n",
              "      <td>f7f527c807</td>\n",
              "      <td>NaN</td>\n",
              "      <td>PLATEAU</td>\n",
              "      <td>In Service</td>\n",
              "      <td>ABIDJAN</td>\n",
              "      <td>Abidjan_CENTRE</td>\n",
              "      <td>ZONE A - Abidjan_CENTRE</td>\n",
              "      <td>LAGUNE</td>\n",
              "      <td>ABIDJAN SOUTH</td>\n",
              "      <td>3e46cdd0e8</td>\n",
              "    </tr>\n",
              "  </tbody>\n",
              "</table>\n",
              "</div>"
            ],
            "text/plain": [
              "  PRODUCT  VALUE              DATE_TIME  ...  REGION           AREA   SITE_CODE\n",
              "0   Voice      0  2012-05-07 08:33:43.0  ...  LAGUNE  ABIDJAN NORTH  7f76d66503\n",
              "1   Voice      0  2012-05-07 08:36:17.0  ...  LAGUNE  ABIDJAN SOUTH  ffa6bdc032\n",
              "2   Voice      0  2012-05-07 08:37:47.0  ...  LAGUNE  ABIDJAN SOUTH  3e46cdd0e8\n",
              "3   Voice      0  2012-05-07 09:56:52.0  ...  LAGUNE  ABIDJAN SOUTH  3e46cdd0e8\n",
              "4   Voice      0  2012-05-07 20:17:41.0  ...  LAGUNE  ABIDJAN SOUTH  3e46cdd0e8\n",
              "\n",
              "[5 rows x 15 columns]"
            ]
          },
          "metadata": {
            "tags": []
          },
          "execution_count": 30
        }
      ]
    },
    {
      "cell_type": "markdown",
      "metadata": {
        "id": "zlw6jkbWv2JW",
        "colab_type": "text"
      },
      "source": [
        "###Let's analyze day one and find out as much as possible based on the newly merged dataset (cell_one)"
      ]
    },
    {
      "cell_type": "code",
      "metadata": {
        "id": "f_v9oK_owGmp",
        "colab_type": "code",
        "colab": {
          "base_uri": "https://localhost:8080/",
          "height": 34
        },
        "outputId": "67df9897-0bdd-496c-fcd6-328bc98c797c"
      },
      "source": [
        "#Let's check the number of rows and columns in the newly merged dataset.\n",
        "\n",
        "cell_one_csv.shape"
      ],
      "execution_count": 31,
      "outputs": [
        {
          "output_type": "execute_result",
          "data": {
            "text/plain": [
              "(176, 15)"
            ]
          },
          "metadata": {
            "tags": []
          },
          "execution_count": 31
        }
      ]
    },
    {
      "cell_type": "code",
      "metadata": {
        "id": "U85oocySwhuP",
        "colab_type": "code",
        "colab": {
          "base_uri": "https://localhost:8080/",
          "height": 289
        },
        "outputId": "74fec4ca-b9ae-40e3-b757-df4b80ffd4be"
      },
      "source": [
        "#Let's check for the missing values in each column\n",
        "\n",
        "cell_one_csv.isnull().sum()"
      ],
      "execution_count": 32,
      "outputs": [
        {
          "output_type": "execute_result",
          "data": {
            "text/plain": [
              "PRODUCT              0\n",
              "VALUE                0\n",
              "DATE_TIME            0\n",
              "DW_A_NUMBER_INT      0\n",
              "DW_B_NUMBER_INT      0\n",
              "CELL_ID              0\n",
              "SITE_ID            176\n",
              "VILLES               0\n",
              "STATUS               1\n",
              "LOCALISATION         0\n",
              "DECOUPZONE           0\n",
              "ZONENAME             0\n",
              "REGION               0\n",
              "AREA                 0\n",
              "SITE_CODE            0\n",
              "dtype: int64"
            ]
          },
          "metadata": {
            "tags": []
          },
          "execution_count": 32
        }
      ]
    },
    {
      "cell_type": "code",
      "metadata": {
        "id": "LJYMEEoLwssa",
        "colab_type": "code",
        "colab": {
          "base_uri": "https://localhost:8080/",
          "height": 34
        },
        "outputId": "08dafd2d-e142-4be0-b8fc-12bff96309b8"
      },
      "source": [
        "#Let's check for the total number of missing values in the cell_one dataframe.\n",
        "\n",
        "cell_one_csv.isnull().sum().sum()"
      ],
      "execution_count": 33,
      "outputs": [
        {
          "output_type": "execute_result",
          "data": {
            "text/plain": [
              "177"
            ]
          },
          "metadata": {
            "tags": []
          },
          "execution_count": 33
        }
      ]
    },
    {
      "cell_type": "markdown",
      "metadata": {
        "id": "kIPInz7qyI3i",
        "colab_type": "text"
      },
      "source": [
        "### Let's merge the cells_geo and the day_two dataset"
      ]
    },
    {
      "cell_type": "code",
      "metadata": {
        "id": "QTcdiT0yyP3f",
        "colab_type": "code",
        "colab": {
          "base_uri": "https://localhost:8080/",
          "height": 394
        },
        "outputId": "9313a48f-919b-4dce-f7ee-9fe516621d8e"
      },
      "source": [
        "cell_two = day_two.merge(cells_geo, how='inner', on='CELL_ID')\n",
        "cell_two.head()"
      ],
      "execution_count": 10,
      "outputs": [
        {
          "output_type": "execute_result",
          "data": {
            "text/html": [
              "<div>\n",
              "<style scoped>\n",
              "    .dataframe tbody tr th:only-of-type {\n",
              "        vertical-align: middle;\n",
              "    }\n",
              "\n",
              "    .dataframe tbody tr th {\n",
              "        vertical-align: top;\n",
              "    }\n",
              "\n",
              "    .dataframe thead th {\n",
              "        text-align: right;\n",
              "    }\n",
              "</style>\n",
              "<table border=\"1\" class=\"dataframe\">\n",
              "  <thead>\n",
              "    <tr style=\"text-align: right;\">\n",
              "      <th></th>\n",
              "      <th>PRODUCT</th>\n",
              "      <th>VALUE</th>\n",
              "      <th>DATE_TIME</th>\n",
              "      <th>DW_A_NUMBER_INT</th>\n",
              "      <th>DW_B_NUMBER_INT</th>\n",
              "      <th>CELL_ID</th>\n",
              "      <th>SITE_ID</th>\n",
              "      <th>VILLES</th>\n",
              "      <th>STATUS</th>\n",
              "      <th>LOCALISATION</th>\n",
              "      <th>DECOUPZONE</th>\n",
              "      <th>ZONENAME</th>\n",
              "      <th>REGION</th>\n",
              "      <th>AREA</th>\n",
              "      <th>SITE_CODE</th>\n",
              "    </tr>\n",
              "  </thead>\n",
              "  <tbody>\n",
              "    <tr>\n",
              "      <th>0</th>\n",
              "      <td>Voice</td>\n",
              "      <td>0</td>\n",
              "      <td>2012-05-08 06:47:21.0</td>\n",
              "      <td>67af5d494d30293</td>\n",
              "      <td>404ba3c13af0327</td>\n",
              "      <td>35e843a20a</td>\n",
              "      <td>NaN</td>\n",
              "      <td>TIASSALE</td>\n",
              "      <td>In Service</td>\n",
              "      <td>INTERIEUR</td>\n",
              "      <td>Grand-SUD</td>\n",
              "      <td>ZONE B - Grand-SUD</td>\n",
              "      <td>LAGUNE</td>\n",
              "      <td>SOUTH WEST</td>\n",
              "      <td>78d279198d</td>\n",
              "    </tr>\n",
              "    <tr>\n",
              "      <th>1</th>\n",
              "      <td>Voice</td>\n",
              "      <td>0</td>\n",
              "      <td>2012-05-08 07:51:51.0</td>\n",
              "      <td>e34ff4a67d606fa</td>\n",
              "      <td>4407ee203016a4b</td>\n",
              "      <td>0e037c2d0c</td>\n",
              "      <td>NaN</td>\n",
              "      <td>SOUBRE</td>\n",
              "      <td>In Service</td>\n",
              "      <td>INTERIEUR</td>\n",
              "      <td>SUD-OUEST</td>\n",
              "      <td>ZONE E - SUD-OUEST</td>\n",
              "      <td>BAS SASSANDRA</td>\n",
              "      <td>SOUTH WEST</td>\n",
              "      <td>956ede9166</td>\n",
              "    </tr>\n",
              "    <tr>\n",
              "      <th>2</th>\n",
              "      <td>Voice</td>\n",
              "      <td>0</td>\n",
              "      <td>2012-05-08 07:54:47.0</td>\n",
              "      <td>32f19812c5e6580</td>\n",
              "      <td>5a699ac9f644039</td>\n",
              "      <td>cf1f58a995</td>\n",
              "      <td>NaN</td>\n",
              "      <td>PORT-BOUET</td>\n",
              "      <td>In Service</td>\n",
              "      <td>ABIDJAN</td>\n",
              "      <td>Abidjan_SUD</td>\n",
              "      <td>ZONE D - Abidjan_SUD</td>\n",
              "      <td>LAGUNE</td>\n",
              "      <td>ABIDJAN SOUTH</td>\n",
              "      <td>ffa6bdc032</td>\n",
              "    </tr>\n",
              "    <tr>\n",
              "      <th>3</th>\n",
              "      <td>Voice</td>\n",
              "      <td>0</td>\n",
              "      <td>2012-05-08 14:52:59.0</td>\n",
              "      <td>704ad46f5623789</td>\n",
              "      <td>8788ee37020a0b3</td>\n",
              "      <td>cf1f58a995</td>\n",
              "      <td>NaN</td>\n",
              "      <td>PORT-BOUET</td>\n",
              "      <td>In Service</td>\n",
              "      <td>ABIDJAN</td>\n",
              "      <td>Abidjan_SUD</td>\n",
              "      <td>ZONE D - Abidjan_SUD</td>\n",
              "      <td>LAGUNE</td>\n",
              "      <td>ABIDJAN SOUTH</td>\n",
              "      <td>ffa6bdc032</td>\n",
              "    </tr>\n",
              "    <tr>\n",
              "      <th>4</th>\n",
              "      <td>Voice</td>\n",
              "      <td>0</td>\n",
              "      <td>2012-05-08 17:03:00.0</td>\n",
              "      <td>5a699ac9f644039</td>\n",
              "      <td>9b4bc9f7d7ce6b2</td>\n",
              "      <td>cf1f58a995</td>\n",
              "      <td>NaN</td>\n",
              "      <td>PORT-BOUET</td>\n",
              "      <td>In Service</td>\n",
              "      <td>ABIDJAN</td>\n",
              "      <td>Abidjan_SUD</td>\n",
              "      <td>ZONE D - Abidjan_SUD</td>\n",
              "      <td>LAGUNE</td>\n",
              "      <td>ABIDJAN SOUTH</td>\n",
              "      <td>ffa6bdc032</td>\n",
              "    </tr>\n",
              "  </tbody>\n",
              "</table>\n",
              "</div>"
            ],
            "text/plain": [
              "  PRODUCT  VALUE  ...           AREA   SITE_CODE\n",
              "0   Voice      0  ...     SOUTH WEST  78d279198d\n",
              "1   Voice      0  ...     SOUTH WEST  956ede9166\n",
              "2   Voice      0  ...  ABIDJAN SOUTH  ffa6bdc032\n",
              "3   Voice      0  ...  ABIDJAN SOUTH  ffa6bdc032\n",
              "4   Voice      0  ...  ABIDJAN SOUTH  ffa6bdc032\n",
              "\n",
              "[5 rows x 15 columns]"
            ]
          },
          "metadata": {
            "tags": []
          },
          "execution_count": 10
        }
      ]
    },
    {
      "cell_type": "code",
      "metadata": {
        "id": "3Lc9Tvuy4Wo9",
        "colab_type": "code",
        "colab": {
          "base_uri": "https://localhost:8080/",
          "height": 394
        },
        "outputId": "7a93c4d7-8c91-4199-b910-abd3514070cd"
      },
      "source": [
        "#Let's convert the cell_two dataframe to a csv file to avoid loading the dataset multiple times.\n",
        "\n",
        "cell_two_csv = cell_two.to_csv('cell_two.csv',encoding='utf-8',index=False)\n",
        "\n",
        "cell_two_csv = pd.read_csv('cell_two.csv')\n",
        "cell_two_csv.head()"
      ],
      "execution_count": 11,
      "outputs": [
        {
          "output_type": "execute_result",
          "data": {
            "text/html": [
              "<div>\n",
              "<style scoped>\n",
              "    .dataframe tbody tr th:only-of-type {\n",
              "        vertical-align: middle;\n",
              "    }\n",
              "\n",
              "    .dataframe tbody tr th {\n",
              "        vertical-align: top;\n",
              "    }\n",
              "\n",
              "    .dataframe thead th {\n",
              "        text-align: right;\n",
              "    }\n",
              "</style>\n",
              "<table border=\"1\" class=\"dataframe\">\n",
              "  <thead>\n",
              "    <tr style=\"text-align: right;\">\n",
              "      <th></th>\n",
              "      <th>PRODUCT</th>\n",
              "      <th>VALUE</th>\n",
              "      <th>DATE_TIME</th>\n",
              "      <th>DW_A_NUMBER_INT</th>\n",
              "      <th>DW_B_NUMBER_INT</th>\n",
              "      <th>CELL_ID</th>\n",
              "      <th>SITE_ID</th>\n",
              "      <th>VILLES</th>\n",
              "      <th>STATUS</th>\n",
              "      <th>LOCALISATION</th>\n",
              "      <th>DECOUPZONE</th>\n",
              "      <th>ZONENAME</th>\n",
              "      <th>REGION</th>\n",
              "      <th>AREA</th>\n",
              "      <th>SITE_CODE</th>\n",
              "    </tr>\n",
              "  </thead>\n",
              "  <tbody>\n",
              "    <tr>\n",
              "      <th>0</th>\n",
              "      <td>Voice</td>\n",
              "      <td>0</td>\n",
              "      <td>2012-05-08 06:47:21.0</td>\n",
              "      <td>67af5d494d30293</td>\n",
              "      <td>404ba3c13af0327</td>\n",
              "      <td>35e843a20a</td>\n",
              "      <td>NaN</td>\n",
              "      <td>TIASSALE</td>\n",
              "      <td>In Service</td>\n",
              "      <td>INTERIEUR</td>\n",
              "      <td>Grand-SUD</td>\n",
              "      <td>ZONE B - Grand-SUD</td>\n",
              "      <td>LAGUNE</td>\n",
              "      <td>SOUTH WEST</td>\n",
              "      <td>78d279198d</td>\n",
              "    </tr>\n",
              "    <tr>\n",
              "      <th>1</th>\n",
              "      <td>Voice</td>\n",
              "      <td>0</td>\n",
              "      <td>2012-05-08 07:51:51.0</td>\n",
              "      <td>e34ff4a67d606fa</td>\n",
              "      <td>4407ee203016a4b</td>\n",
              "      <td>0e037c2d0c</td>\n",
              "      <td>NaN</td>\n",
              "      <td>SOUBRE</td>\n",
              "      <td>In Service</td>\n",
              "      <td>INTERIEUR</td>\n",
              "      <td>SUD-OUEST</td>\n",
              "      <td>ZONE E - SUD-OUEST</td>\n",
              "      <td>BAS SASSANDRA</td>\n",
              "      <td>SOUTH WEST</td>\n",
              "      <td>956ede9166</td>\n",
              "    </tr>\n",
              "    <tr>\n",
              "      <th>2</th>\n",
              "      <td>Voice</td>\n",
              "      <td>0</td>\n",
              "      <td>2012-05-08 07:54:47.0</td>\n",
              "      <td>32f19812c5e6580</td>\n",
              "      <td>5a699ac9f644039</td>\n",
              "      <td>cf1f58a995</td>\n",
              "      <td>NaN</td>\n",
              "      <td>PORT-BOUET</td>\n",
              "      <td>In Service</td>\n",
              "      <td>ABIDJAN</td>\n",
              "      <td>Abidjan_SUD</td>\n",
              "      <td>ZONE D - Abidjan_SUD</td>\n",
              "      <td>LAGUNE</td>\n",
              "      <td>ABIDJAN SOUTH</td>\n",
              "      <td>ffa6bdc032</td>\n",
              "    </tr>\n",
              "    <tr>\n",
              "      <th>3</th>\n",
              "      <td>Voice</td>\n",
              "      <td>0</td>\n",
              "      <td>2012-05-08 14:52:59.0</td>\n",
              "      <td>704ad46f5623789</td>\n",
              "      <td>8788ee37020a0b3</td>\n",
              "      <td>cf1f58a995</td>\n",
              "      <td>NaN</td>\n",
              "      <td>PORT-BOUET</td>\n",
              "      <td>In Service</td>\n",
              "      <td>ABIDJAN</td>\n",
              "      <td>Abidjan_SUD</td>\n",
              "      <td>ZONE D - Abidjan_SUD</td>\n",
              "      <td>LAGUNE</td>\n",
              "      <td>ABIDJAN SOUTH</td>\n",
              "      <td>ffa6bdc032</td>\n",
              "    </tr>\n",
              "    <tr>\n",
              "      <th>4</th>\n",
              "      <td>Voice</td>\n",
              "      <td>0</td>\n",
              "      <td>2012-05-08 17:03:00.0</td>\n",
              "      <td>5a699ac9f644039</td>\n",
              "      <td>9b4bc9f7d7ce6b2</td>\n",
              "      <td>cf1f58a995</td>\n",
              "      <td>NaN</td>\n",
              "      <td>PORT-BOUET</td>\n",
              "      <td>In Service</td>\n",
              "      <td>ABIDJAN</td>\n",
              "      <td>Abidjan_SUD</td>\n",
              "      <td>ZONE D - Abidjan_SUD</td>\n",
              "      <td>LAGUNE</td>\n",
              "      <td>ABIDJAN SOUTH</td>\n",
              "      <td>ffa6bdc032</td>\n",
              "    </tr>\n",
              "  </tbody>\n",
              "</table>\n",
              "</div>"
            ],
            "text/plain": [
              "  PRODUCT  VALUE  ...           AREA   SITE_CODE\n",
              "0   Voice      0  ...     SOUTH WEST  78d279198d\n",
              "1   Voice      0  ...     SOUTH WEST  956ede9166\n",
              "2   Voice      0  ...  ABIDJAN SOUTH  ffa6bdc032\n",
              "3   Voice      0  ...  ABIDJAN SOUTH  ffa6bdc032\n",
              "4   Voice      0  ...  ABIDJAN SOUTH  ffa6bdc032\n",
              "\n",
              "[5 rows x 15 columns]"
            ]
          },
          "metadata": {
            "tags": []
          },
          "execution_count": 11
        }
      ]
    },
    {
      "cell_type": "markdown",
      "metadata": {
        "id": "HAZDHLru4tmT",
        "colab_type": "text"
      },
      "source": [
        "###Let's analyze day one and find out as much as possible based on the newly merged dataset (cell_two)"
      ]
    },
    {
      "cell_type": "code",
      "metadata": {
        "id": "piiXWljJ4u-f",
        "colab_type": "code",
        "colab": {
          "base_uri": "https://localhost:8080/",
          "height": 34
        },
        "outputId": "95999420-13e7-46a5-9b7c-623bf856e2dd"
      },
      "source": [
        "#Let's check the number of rows and columns in the newly merged dataset.\n",
        "\n",
        "cell_two_csv.shape"
      ],
      "execution_count": 31,
      "outputs": [
        {
          "output_type": "execute_result",
          "data": {
            "text/plain": [
              "(101, 15)"
            ]
          },
          "metadata": {
            "tags": []
          },
          "execution_count": 31
        }
      ]
    },
    {
      "cell_type": "code",
      "metadata": {
        "id": "brY9kqwR5GMn",
        "colab_type": "code",
        "colab": {
          "base_uri": "https://localhost:8080/",
          "height": 289
        },
        "outputId": "39110810-dcf5-4dc6-afa4-5613002c837b"
      },
      "source": [
        "#Let's check for the missing values in each column\n",
        "\n",
        "cell_two_csv.isnull().sum()"
      ],
      "execution_count": 36,
      "outputs": [
        {
          "output_type": "execute_result",
          "data": {
            "text/plain": [
              "PRODUCT              0\n",
              "VALUE                0\n",
              "DATE_TIME            0\n",
              "DW_A_NUMBER_INT      0\n",
              "DW_B_NUMBER_INT      0\n",
              "CELL_ID              0\n",
              "SITE_ID            101\n",
              "VILLES               0\n",
              "STATUS               0\n",
              "LOCALISATION         0\n",
              "DECOUPZONE           0\n",
              "ZONENAME             0\n",
              "REGION               0\n",
              "AREA                 0\n",
              "SITE_CODE            0\n",
              "dtype: int64"
            ]
          },
          "metadata": {
            "tags": []
          },
          "execution_count": 36
        }
      ]
    },
    {
      "cell_type": "code",
      "metadata": {
        "id": "A7fSVvYc5N42",
        "colab_type": "code",
        "colab": {
          "base_uri": "https://localhost:8080/",
          "height": 34
        },
        "outputId": "94bdbcfb-a887-4bae-88e9-86e28a912d52"
      },
      "source": [
        "#Let's check for the total number of missing values in the cell_one dataframe.\n",
        "\n",
        "cell_two_csv.isnull().sum().sum()"
      ],
      "execution_count": 37,
      "outputs": [
        {
          "output_type": "execute_result",
          "data": {
            "text/plain": [
              "101"
            ]
          },
          "metadata": {
            "tags": []
          },
          "execution_count": 37
        }
      ]
    },
    {
      "cell_type": "markdown",
      "metadata": {
        "id": "uCHMdXd15W4x",
        "colab_type": "text"
      },
      "source": [
        "### Let's merge the cells_geo and the day_three dataset"
      ]
    },
    {
      "cell_type": "code",
      "metadata": {
        "id": "QzOfQ6f45YJX",
        "colab_type": "code",
        "colab": {
          "base_uri": "https://localhost:8080/",
          "height": 394
        },
        "outputId": "720d5d37-2e90-48fe-e00e-1c62b4094e7f"
      },
      "source": [
        "cell_three = day_three.merge(cells_geo, how='inner', on='CELL_ID')\n",
        "cell_three.head()"
      ],
      "execution_count": 11,
      "outputs": [
        {
          "output_type": "execute_result",
          "data": {
            "text/html": [
              "<div>\n",
              "<style scoped>\n",
              "    .dataframe tbody tr th:only-of-type {\n",
              "        vertical-align: middle;\n",
              "    }\n",
              "\n",
              "    .dataframe tbody tr th {\n",
              "        vertical-align: top;\n",
              "    }\n",
              "\n",
              "    .dataframe thead th {\n",
              "        text-align: right;\n",
              "    }\n",
              "</style>\n",
              "<table border=\"1\" class=\"dataframe\">\n",
              "  <thead>\n",
              "    <tr style=\"text-align: right;\">\n",
              "      <th></th>\n",
              "      <th>PRODUCT</th>\n",
              "      <th>VALUE</th>\n",
              "      <th>DATE_TIME</th>\n",
              "      <th>DW_A_NUMBER_INT</th>\n",
              "      <th>DW_B_NUMBER_INT</th>\n",
              "      <th>CELL_ID</th>\n",
              "      <th>SITE_ID</th>\n",
              "      <th>VILLES</th>\n",
              "      <th>STATUS</th>\n",
              "      <th>LOCALISATION</th>\n",
              "      <th>DECOUPZONE</th>\n",
              "      <th>ZONENAME</th>\n",
              "      <th>REGION</th>\n",
              "      <th>AREA</th>\n",
              "      <th>SITE_CODE</th>\n",
              "    </tr>\n",
              "  </thead>\n",
              "  <tbody>\n",
              "    <tr>\n",
              "      <th>0</th>\n",
              "      <td>Voice</td>\n",
              "      <td>0</td>\n",
              "      <td>2012-05-09 01:51:55.0</td>\n",
              "      <td>893e7ee257dad27</td>\n",
              "      <td>662861c8d47acbb</td>\n",
              "      <td>045d658d47</td>\n",
              "      <td>NaN</td>\n",
              "      <td>COCODY</td>\n",
              "      <td>In Service</td>\n",
              "      <td>ABIDJAN</td>\n",
              "      <td>Abidjan_EST</td>\n",
              "      <td>ZONE B - Abidjan_EST</td>\n",
              "      <td>LAGUNE</td>\n",
              "      <td>ABIDJAN NORTH</td>\n",
              "      <td>5818d7383c</td>\n",
              "    </tr>\n",
              "    <tr>\n",
              "      <th>1</th>\n",
              "      <td>Voice</td>\n",
              "      <td>0</td>\n",
              "      <td>2012-05-09 08:08:06.0</td>\n",
              "      <td>e34ff4a67d606fa</td>\n",
              "      <td>672e3c14d0ffcac</td>\n",
              "      <td>0e037c2d0c</td>\n",
              "      <td>NaN</td>\n",
              "      <td>SOUBRE</td>\n",
              "      <td>In Service</td>\n",
              "      <td>INTERIEUR</td>\n",
              "      <td>SUD-OUEST</td>\n",
              "      <td>ZONE E - SUD-OUEST</td>\n",
              "      <td>BAS SASSANDRA</td>\n",
              "      <td>SOUTH WEST</td>\n",
              "      <td>956ede9166</td>\n",
              "    </tr>\n",
              "    <tr>\n",
              "      <th>2</th>\n",
              "      <td>Voice</td>\n",
              "      <td>0</td>\n",
              "      <td>2012-05-09 08:47:52.0</td>\n",
              "      <td>dfc914262973ddc</td>\n",
              "      <td>dabf9d4e16bb048</td>\n",
              "      <td>858fa132ac</td>\n",
              "      <td>NaN</td>\n",
              "      <td>COCODY</td>\n",
              "      <td>In Service</td>\n",
              "      <td>ABIDJAN</td>\n",
              "      <td>Abidjan_EST</td>\n",
              "      <td>ZONE B - Abidjan_EST</td>\n",
              "      <td>LAGUNE</td>\n",
              "      <td>ABIDJAN NORTH</td>\n",
              "      <td>a55150a8e7</td>\n",
              "    </tr>\n",
              "    <tr>\n",
              "      <th>3</th>\n",
              "      <td>Voice</td>\n",
              "      <td>0</td>\n",
              "      <td>2012-05-09 11:47:13.0</td>\n",
              "      <td>dabf9d4e16bb048</td>\n",
              "      <td>746d38702c4a524</td>\n",
              "      <td>858fa132ac</td>\n",
              "      <td>NaN</td>\n",
              "      <td>COCODY</td>\n",
              "      <td>In Service</td>\n",
              "      <td>ABIDJAN</td>\n",
              "      <td>Abidjan_EST</td>\n",
              "      <td>ZONE B - Abidjan_EST</td>\n",
              "      <td>LAGUNE</td>\n",
              "      <td>ABIDJAN NORTH</td>\n",
              "      <td>a55150a8e7</td>\n",
              "    </tr>\n",
              "    <tr>\n",
              "      <th>4</th>\n",
              "      <td>Voice</td>\n",
              "      <td>0</td>\n",
              "      <td>2012-05-09 11:48:56.0</td>\n",
              "      <td>a20b9c31b155d9c</td>\n",
              "      <td>e0fe95f96429a5c</td>\n",
              "      <td>858fa132ac</td>\n",
              "      <td>NaN</td>\n",
              "      <td>COCODY</td>\n",
              "      <td>In Service</td>\n",
              "      <td>ABIDJAN</td>\n",
              "      <td>Abidjan_EST</td>\n",
              "      <td>ZONE B - Abidjan_EST</td>\n",
              "      <td>LAGUNE</td>\n",
              "      <td>ABIDJAN NORTH</td>\n",
              "      <td>a55150a8e7</td>\n",
              "    </tr>\n",
              "  </tbody>\n",
              "</table>\n",
              "</div>"
            ],
            "text/plain": [
              "  PRODUCT  VALUE  ...           AREA   SITE_CODE\n",
              "0   Voice      0  ...  ABIDJAN NORTH  5818d7383c\n",
              "1   Voice      0  ...     SOUTH WEST  956ede9166\n",
              "2   Voice      0  ...  ABIDJAN NORTH  a55150a8e7\n",
              "3   Voice      0  ...  ABIDJAN NORTH  a55150a8e7\n",
              "4   Voice      0  ...  ABIDJAN NORTH  a55150a8e7\n",
              "\n",
              "[5 rows x 15 columns]"
            ]
          },
          "metadata": {
            "tags": []
          },
          "execution_count": 11
        }
      ]
    },
    {
      "cell_type": "code",
      "metadata": {
        "id": "itfl1Jv278hQ",
        "colab_type": "code",
        "colab": {
          "base_uri": "https://localhost:8080/",
          "height": 394
        },
        "outputId": "2b27c679-6a39-4220-884b-6beefdbab8f4"
      },
      "source": [
        "#Let's convert the cell_two dataframe to a csv file to avoid loading the dataset multiple times.\n",
        "\n",
        "cell_three_csv = cell_three.to_csv('cell_three.csv',encoding='utf-8',index=False)\n",
        "\n",
        "cell_three_csv = pd.read_csv('cell_three.csv')\n",
        "cell_three_csv.head()"
      ],
      "execution_count": 12,
      "outputs": [
        {
          "output_type": "execute_result",
          "data": {
            "text/html": [
              "<div>\n",
              "<style scoped>\n",
              "    .dataframe tbody tr th:only-of-type {\n",
              "        vertical-align: middle;\n",
              "    }\n",
              "\n",
              "    .dataframe tbody tr th {\n",
              "        vertical-align: top;\n",
              "    }\n",
              "\n",
              "    .dataframe thead th {\n",
              "        text-align: right;\n",
              "    }\n",
              "</style>\n",
              "<table border=\"1\" class=\"dataframe\">\n",
              "  <thead>\n",
              "    <tr style=\"text-align: right;\">\n",
              "      <th></th>\n",
              "      <th>PRODUCT</th>\n",
              "      <th>VALUE</th>\n",
              "      <th>DATE_TIME</th>\n",
              "      <th>DW_A_NUMBER_INT</th>\n",
              "      <th>DW_B_NUMBER_INT</th>\n",
              "      <th>CELL_ID</th>\n",
              "      <th>SITE_ID</th>\n",
              "      <th>VILLES</th>\n",
              "      <th>STATUS</th>\n",
              "      <th>LOCALISATION</th>\n",
              "      <th>DECOUPZONE</th>\n",
              "      <th>ZONENAME</th>\n",
              "      <th>REGION</th>\n",
              "      <th>AREA</th>\n",
              "      <th>SITE_CODE</th>\n",
              "    </tr>\n",
              "  </thead>\n",
              "  <tbody>\n",
              "    <tr>\n",
              "      <th>0</th>\n",
              "      <td>Voice</td>\n",
              "      <td>0</td>\n",
              "      <td>2012-05-09 01:51:55.0</td>\n",
              "      <td>893e7ee257dad27</td>\n",
              "      <td>662861c8d47acbb</td>\n",
              "      <td>045d658d47</td>\n",
              "      <td>NaN</td>\n",
              "      <td>COCODY</td>\n",
              "      <td>In Service</td>\n",
              "      <td>ABIDJAN</td>\n",
              "      <td>Abidjan_EST</td>\n",
              "      <td>ZONE B - Abidjan_EST</td>\n",
              "      <td>LAGUNE</td>\n",
              "      <td>ABIDJAN NORTH</td>\n",
              "      <td>5818d7383c</td>\n",
              "    </tr>\n",
              "    <tr>\n",
              "      <th>1</th>\n",
              "      <td>Voice</td>\n",
              "      <td>0</td>\n",
              "      <td>2012-05-09 08:08:06.0</td>\n",
              "      <td>e34ff4a67d606fa</td>\n",
              "      <td>672e3c14d0ffcac</td>\n",
              "      <td>0e037c2d0c</td>\n",
              "      <td>NaN</td>\n",
              "      <td>SOUBRE</td>\n",
              "      <td>In Service</td>\n",
              "      <td>INTERIEUR</td>\n",
              "      <td>SUD-OUEST</td>\n",
              "      <td>ZONE E - SUD-OUEST</td>\n",
              "      <td>BAS SASSANDRA</td>\n",
              "      <td>SOUTH WEST</td>\n",
              "      <td>956ede9166</td>\n",
              "    </tr>\n",
              "    <tr>\n",
              "      <th>2</th>\n",
              "      <td>Voice</td>\n",
              "      <td>0</td>\n",
              "      <td>2012-05-09 08:47:52.0</td>\n",
              "      <td>dfc914262973ddc</td>\n",
              "      <td>dabf9d4e16bb048</td>\n",
              "      <td>858fa132ac</td>\n",
              "      <td>NaN</td>\n",
              "      <td>COCODY</td>\n",
              "      <td>In Service</td>\n",
              "      <td>ABIDJAN</td>\n",
              "      <td>Abidjan_EST</td>\n",
              "      <td>ZONE B - Abidjan_EST</td>\n",
              "      <td>LAGUNE</td>\n",
              "      <td>ABIDJAN NORTH</td>\n",
              "      <td>a55150a8e7</td>\n",
              "    </tr>\n",
              "    <tr>\n",
              "      <th>3</th>\n",
              "      <td>Voice</td>\n",
              "      <td>0</td>\n",
              "      <td>2012-05-09 11:47:13.0</td>\n",
              "      <td>dabf9d4e16bb048</td>\n",
              "      <td>746d38702c4a524</td>\n",
              "      <td>858fa132ac</td>\n",
              "      <td>NaN</td>\n",
              "      <td>COCODY</td>\n",
              "      <td>In Service</td>\n",
              "      <td>ABIDJAN</td>\n",
              "      <td>Abidjan_EST</td>\n",
              "      <td>ZONE B - Abidjan_EST</td>\n",
              "      <td>LAGUNE</td>\n",
              "      <td>ABIDJAN NORTH</td>\n",
              "      <td>a55150a8e7</td>\n",
              "    </tr>\n",
              "    <tr>\n",
              "      <th>4</th>\n",
              "      <td>Voice</td>\n",
              "      <td>0</td>\n",
              "      <td>2012-05-09 11:48:56.0</td>\n",
              "      <td>a20b9c31b155d9c</td>\n",
              "      <td>e0fe95f96429a5c</td>\n",
              "      <td>858fa132ac</td>\n",
              "      <td>NaN</td>\n",
              "      <td>COCODY</td>\n",
              "      <td>In Service</td>\n",
              "      <td>ABIDJAN</td>\n",
              "      <td>Abidjan_EST</td>\n",
              "      <td>ZONE B - Abidjan_EST</td>\n",
              "      <td>LAGUNE</td>\n",
              "      <td>ABIDJAN NORTH</td>\n",
              "      <td>a55150a8e7</td>\n",
              "    </tr>\n",
              "  </tbody>\n",
              "</table>\n",
              "</div>"
            ],
            "text/plain": [
              "  PRODUCT  VALUE  ...           AREA   SITE_CODE\n",
              "0   Voice      0  ...  ABIDJAN NORTH  5818d7383c\n",
              "1   Voice      0  ...     SOUTH WEST  956ede9166\n",
              "2   Voice      0  ...  ABIDJAN NORTH  a55150a8e7\n",
              "3   Voice      0  ...  ABIDJAN NORTH  a55150a8e7\n",
              "4   Voice      0  ...  ABIDJAN NORTH  a55150a8e7\n",
              "\n",
              "[5 rows x 15 columns]"
            ]
          },
          "metadata": {
            "tags": []
          },
          "execution_count": 12
        }
      ]
    },
    {
      "cell_type": "markdown",
      "metadata": {
        "id": "4lKfPqVM8Jcf",
        "colab_type": "text"
      },
      "source": [
        "###Let's analyze day one and find out as much as possible based on the newly merged dataset (cell_three)"
      ]
    },
    {
      "cell_type": "code",
      "metadata": {
        "id": "4Pl4gSqH8KaA",
        "colab_type": "code",
        "colab": {
          "base_uri": "https://localhost:8080/",
          "height": 34
        },
        "outputId": "54c53bee-9774-4288-9e4d-c7ae85a373f1"
      },
      "source": [
        "#Let's check the number of rows and columns in the newly merged dataset.\n",
        "\n",
        "cell_three_csv.shape"
      ],
      "execution_count": 13,
      "outputs": [
        {
          "output_type": "execute_result",
          "data": {
            "text/plain": [
              "(99, 15)"
            ]
          },
          "metadata": {
            "tags": []
          },
          "execution_count": 13
        }
      ]
    },
    {
      "cell_type": "code",
      "metadata": {
        "id": "bLCzdMEW8QO2",
        "colab_type": "code",
        "colab": {
          "base_uri": "https://localhost:8080/",
          "height": 289
        },
        "outputId": "8c38bbce-433d-46b4-e56c-e3ed5e3afddb"
      },
      "source": [
        "#Let's check for the missing values in each column\n",
        "\n",
        "cell_three_csv.isnull().sum()"
      ],
      "execution_count": 14,
      "outputs": [
        {
          "output_type": "execute_result",
          "data": {
            "text/plain": [
              "PRODUCT             0\n",
              "VALUE               0\n",
              "DATE_TIME           0\n",
              "DW_A_NUMBER_INT     0\n",
              "DW_B_NUMBER_INT     0\n",
              "CELL_ID             0\n",
              "SITE_ID            99\n",
              "VILLES              0\n",
              "STATUS              0\n",
              "LOCALISATION        0\n",
              "DECOUPZONE          0\n",
              "ZONENAME            0\n",
              "REGION              0\n",
              "AREA                0\n",
              "SITE_CODE           0\n",
              "dtype: int64"
            ]
          },
          "metadata": {
            "tags": []
          },
          "execution_count": 14
        }
      ]
    },
    {
      "cell_type": "code",
      "metadata": {
        "id": "5l69Q-ZS8W1N",
        "colab_type": "code",
        "colab": {
          "base_uri": "https://localhost:8080/",
          "height": 34
        },
        "outputId": "009342ef-4bd5-45be-e169-1981fa854329"
      },
      "source": [
        "#Let's check for the total number of missing values in the cell_one dataframe.\n",
        "\n",
        "cell_three_csv.isnull().sum().sum()"
      ],
      "execution_count": 15,
      "outputs": [
        {
          "output_type": "execute_result",
          "data": {
            "text/plain": [
              "99"
            ]
          },
          "metadata": {
            "tags": []
          },
          "execution_count": 15
        }
      ]
    },
    {
      "cell_type": "markdown",
      "metadata": {
        "id": "qhhRsQrL8dPv",
        "colab_type": "text"
      },
      "source": [
        "### Let's merge the three dataframes using concatenation"
      ]
    },
    {
      "cell_type": "code",
      "metadata": {
        "id": "cf0IJ4bC8k4E",
        "colab_type": "code",
        "colab": {
          "base_uri": "https://localhost:8080/",
          "height": 394
        },
        "outputId": "a368a13a-e88f-40bd-9da3-799e9d87a48d"
      },
      "source": [
        "cell_one_csv = pd.read_csv('cell_one.csv')\n",
        "cell_one_csv.head()\n",
        "\n",
        "cell_two_csv = pd.read_csv('cell_two.csv')\n",
        "cell_two_csv.head()\n",
        "\n",
        "cell_three_csv = pd.read_csv('cell_three.csv')\n",
        "cell_three_csv.head()"
      ],
      "execution_count": 14,
      "outputs": [
        {
          "output_type": "execute_result",
          "data": {
            "text/html": [
              "<div>\n",
              "<style scoped>\n",
              "    .dataframe tbody tr th:only-of-type {\n",
              "        vertical-align: middle;\n",
              "    }\n",
              "\n",
              "    .dataframe tbody tr th {\n",
              "        vertical-align: top;\n",
              "    }\n",
              "\n",
              "    .dataframe thead th {\n",
              "        text-align: right;\n",
              "    }\n",
              "</style>\n",
              "<table border=\"1\" class=\"dataframe\">\n",
              "  <thead>\n",
              "    <tr style=\"text-align: right;\">\n",
              "      <th></th>\n",
              "      <th>PRODUCT</th>\n",
              "      <th>VALUE</th>\n",
              "      <th>DATE_TIME</th>\n",
              "      <th>DW_A_NUMBER_INT</th>\n",
              "      <th>DW_B_NUMBER_INT</th>\n",
              "      <th>CELL_ID</th>\n",
              "      <th>SITE_ID</th>\n",
              "      <th>VILLES</th>\n",
              "      <th>STATUS</th>\n",
              "      <th>LOCALISATION</th>\n",
              "      <th>DECOUPZONE</th>\n",
              "      <th>ZONENAME</th>\n",
              "      <th>REGION</th>\n",
              "      <th>AREA</th>\n",
              "      <th>SITE_CODE</th>\n",
              "    </tr>\n",
              "  </thead>\n",
              "  <tbody>\n",
              "    <tr>\n",
              "      <th>0</th>\n",
              "      <td>Voice</td>\n",
              "      <td>0</td>\n",
              "      <td>2012-05-09 01:51:55.0</td>\n",
              "      <td>893e7ee257dad27</td>\n",
              "      <td>662861c8d47acbb</td>\n",
              "      <td>045d658d47</td>\n",
              "      <td>NaN</td>\n",
              "      <td>COCODY</td>\n",
              "      <td>In Service</td>\n",
              "      <td>ABIDJAN</td>\n",
              "      <td>Abidjan_EST</td>\n",
              "      <td>ZONE B - Abidjan_EST</td>\n",
              "      <td>LAGUNE</td>\n",
              "      <td>ABIDJAN NORTH</td>\n",
              "      <td>5818d7383c</td>\n",
              "    </tr>\n",
              "    <tr>\n",
              "      <th>1</th>\n",
              "      <td>Voice</td>\n",
              "      <td>0</td>\n",
              "      <td>2012-05-09 08:08:06.0</td>\n",
              "      <td>e34ff4a67d606fa</td>\n",
              "      <td>672e3c14d0ffcac</td>\n",
              "      <td>0e037c2d0c</td>\n",
              "      <td>NaN</td>\n",
              "      <td>SOUBRE</td>\n",
              "      <td>In Service</td>\n",
              "      <td>INTERIEUR</td>\n",
              "      <td>SUD-OUEST</td>\n",
              "      <td>ZONE E - SUD-OUEST</td>\n",
              "      <td>BAS SASSANDRA</td>\n",
              "      <td>SOUTH WEST</td>\n",
              "      <td>956ede9166</td>\n",
              "    </tr>\n",
              "    <tr>\n",
              "      <th>2</th>\n",
              "      <td>Voice</td>\n",
              "      <td>0</td>\n",
              "      <td>2012-05-09 08:47:52.0</td>\n",
              "      <td>dfc914262973ddc</td>\n",
              "      <td>dabf9d4e16bb048</td>\n",
              "      <td>858fa132ac</td>\n",
              "      <td>NaN</td>\n",
              "      <td>COCODY</td>\n",
              "      <td>In Service</td>\n",
              "      <td>ABIDJAN</td>\n",
              "      <td>Abidjan_EST</td>\n",
              "      <td>ZONE B - Abidjan_EST</td>\n",
              "      <td>LAGUNE</td>\n",
              "      <td>ABIDJAN NORTH</td>\n",
              "      <td>a55150a8e7</td>\n",
              "    </tr>\n",
              "    <tr>\n",
              "      <th>3</th>\n",
              "      <td>Voice</td>\n",
              "      <td>0</td>\n",
              "      <td>2012-05-09 11:47:13.0</td>\n",
              "      <td>dabf9d4e16bb048</td>\n",
              "      <td>746d38702c4a524</td>\n",
              "      <td>858fa132ac</td>\n",
              "      <td>NaN</td>\n",
              "      <td>COCODY</td>\n",
              "      <td>In Service</td>\n",
              "      <td>ABIDJAN</td>\n",
              "      <td>Abidjan_EST</td>\n",
              "      <td>ZONE B - Abidjan_EST</td>\n",
              "      <td>LAGUNE</td>\n",
              "      <td>ABIDJAN NORTH</td>\n",
              "      <td>a55150a8e7</td>\n",
              "    </tr>\n",
              "    <tr>\n",
              "      <th>4</th>\n",
              "      <td>Voice</td>\n",
              "      <td>0</td>\n",
              "      <td>2012-05-09 11:48:56.0</td>\n",
              "      <td>a20b9c31b155d9c</td>\n",
              "      <td>e0fe95f96429a5c</td>\n",
              "      <td>858fa132ac</td>\n",
              "      <td>NaN</td>\n",
              "      <td>COCODY</td>\n",
              "      <td>In Service</td>\n",
              "      <td>ABIDJAN</td>\n",
              "      <td>Abidjan_EST</td>\n",
              "      <td>ZONE B - Abidjan_EST</td>\n",
              "      <td>LAGUNE</td>\n",
              "      <td>ABIDJAN NORTH</td>\n",
              "      <td>a55150a8e7</td>\n",
              "    </tr>\n",
              "  </tbody>\n",
              "</table>\n",
              "</div>"
            ],
            "text/plain": [
              "  PRODUCT  VALUE  ...           AREA   SITE_CODE\n",
              "0   Voice      0  ...  ABIDJAN NORTH  5818d7383c\n",
              "1   Voice      0  ...     SOUTH WEST  956ede9166\n",
              "2   Voice      0  ...  ABIDJAN NORTH  a55150a8e7\n",
              "3   Voice      0  ...  ABIDJAN NORTH  a55150a8e7\n",
              "4   Voice      0  ...  ABIDJAN NORTH  a55150a8e7\n",
              "\n",
              "[5 rows x 15 columns]"
            ]
          },
          "metadata": {
            "tags": []
          },
          "execution_count": 14
        }
      ]
    },
    {
      "cell_type": "code",
      "metadata": {
        "id": "s-IKzM1YBNxe",
        "colab_type": "code",
        "colab": {
          "base_uri": "https://localhost:8080/",
          "height": 394
        },
        "outputId": "875f6c13-2a94-4641-c959-3313cec4a38b"
      },
      "source": [
        "daily = pd.concat([cell_one_csv, cell_two_csv, cell_three_csv], ignore_index=False, sort=False)\n",
        "daily.head()"
      ],
      "execution_count": 15,
      "outputs": [
        {
          "output_type": "execute_result",
          "data": {
            "text/html": [
              "<div>\n",
              "<style scoped>\n",
              "    .dataframe tbody tr th:only-of-type {\n",
              "        vertical-align: middle;\n",
              "    }\n",
              "\n",
              "    .dataframe tbody tr th {\n",
              "        vertical-align: top;\n",
              "    }\n",
              "\n",
              "    .dataframe thead th {\n",
              "        text-align: right;\n",
              "    }\n",
              "</style>\n",
              "<table border=\"1\" class=\"dataframe\">\n",
              "  <thead>\n",
              "    <tr style=\"text-align: right;\">\n",
              "      <th></th>\n",
              "      <th>PRODUCT</th>\n",
              "      <th>VALUE</th>\n",
              "      <th>DATE_TIME</th>\n",
              "      <th>DW_A_NUMBER_INT</th>\n",
              "      <th>DW_B_NUMBER_INT</th>\n",
              "      <th>CELL_ID</th>\n",
              "      <th>SITE_ID</th>\n",
              "      <th>VILLES</th>\n",
              "      <th>STATUS</th>\n",
              "      <th>LOCALISATION</th>\n",
              "      <th>DECOUPZONE</th>\n",
              "      <th>ZONENAME</th>\n",
              "      <th>REGION</th>\n",
              "      <th>AREA</th>\n",
              "      <th>SITE_CODE</th>\n",
              "    </tr>\n",
              "  </thead>\n",
              "  <tbody>\n",
              "    <tr>\n",
              "      <th>0</th>\n",
              "      <td>Voice</td>\n",
              "      <td>0</td>\n",
              "      <td>2012-05-07 08:33:43.0</td>\n",
              "      <td>13d236932ae2bcf</td>\n",
              "      <td>662861c8d47acbb</td>\n",
              "      <td>1ce5a37ea9</td>\n",
              "      <td>NaN</td>\n",
              "      <td>ATTECOUBE</td>\n",
              "      <td>In Service</td>\n",
              "      <td>ABIDJAN</td>\n",
              "      <td>Abidjan_OUEST</td>\n",
              "      <td>ZONE C - Abidjan_OUEST</td>\n",
              "      <td>LAGUNE</td>\n",
              "      <td>ABIDJAN NORTH</td>\n",
              "      <td>7f76d66503</td>\n",
              "    </tr>\n",
              "    <tr>\n",
              "      <th>1</th>\n",
              "      <td>Voice</td>\n",
              "      <td>0</td>\n",
              "      <td>2012-05-07 08:36:17.0</td>\n",
              "      <td>704ad46f5623789</td>\n",
              "      <td>8788ee37020a0b3</td>\n",
              "      <td>24ced8b6ba</td>\n",
              "      <td>NaN</td>\n",
              "      <td>PORT-BOUET</td>\n",
              "      <td>In Service</td>\n",
              "      <td>ABIDJAN</td>\n",
              "      <td>Abidjan_SUD</td>\n",
              "      <td>ZONE D - Abidjan_SUD</td>\n",
              "      <td>LAGUNE</td>\n",
              "      <td>ABIDJAN SOUTH</td>\n",
              "      <td>ffa6bdc032</td>\n",
              "    </tr>\n",
              "    <tr>\n",
              "      <th>2</th>\n",
              "      <td>Voice</td>\n",
              "      <td>0</td>\n",
              "      <td>2012-05-07 08:37:47.0</td>\n",
              "      <td>de08884e7eb68a8</td>\n",
              "      <td>5a699ac9f644039</td>\n",
              "      <td>f7f527c807</td>\n",
              "      <td>NaN</td>\n",
              "      <td>PLATEAU</td>\n",
              "      <td>In Service</td>\n",
              "      <td>ABIDJAN</td>\n",
              "      <td>Abidjan_CENTRE</td>\n",
              "      <td>ZONE A - Abidjan_CENTRE</td>\n",
              "      <td>LAGUNE</td>\n",
              "      <td>ABIDJAN SOUTH</td>\n",
              "      <td>3e46cdd0e8</td>\n",
              "    </tr>\n",
              "    <tr>\n",
              "      <th>3</th>\n",
              "      <td>Voice</td>\n",
              "      <td>0</td>\n",
              "      <td>2012-05-07 09:56:52.0</td>\n",
              "      <td>a5ff70730fe55d6</td>\n",
              "      <td>f34968a670b9422</td>\n",
              "      <td>f7f527c807</td>\n",
              "      <td>NaN</td>\n",
              "      <td>PLATEAU</td>\n",
              "      <td>In Service</td>\n",
              "      <td>ABIDJAN</td>\n",
              "      <td>Abidjan_CENTRE</td>\n",
              "      <td>ZONE A - Abidjan_CENTRE</td>\n",
              "      <td>LAGUNE</td>\n",
              "      <td>ABIDJAN SOUTH</td>\n",
              "      <td>3e46cdd0e8</td>\n",
              "    </tr>\n",
              "    <tr>\n",
              "      <th>4</th>\n",
              "      <td>Voice</td>\n",
              "      <td>0</td>\n",
              "      <td>2012-05-07 20:17:41.0</td>\n",
              "      <td>4106e7c8e1bdc3c</td>\n",
              "      <td>87b5c66d514431b</td>\n",
              "      <td>f7f527c807</td>\n",
              "      <td>NaN</td>\n",
              "      <td>PLATEAU</td>\n",
              "      <td>In Service</td>\n",
              "      <td>ABIDJAN</td>\n",
              "      <td>Abidjan_CENTRE</td>\n",
              "      <td>ZONE A - Abidjan_CENTRE</td>\n",
              "      <td>LAGUNE</td>\n",
              "      <td>ABIDJAN SOUTH</td>\n",
              "      <td>3e46cdd0e8</td>\n",
              "    </tr>\n",
              "  </tbody>\n",
              "</table>\n",
              "</div>"
            ],
            "text/plain": [
              "  PRODUCT  VALUE              DATE_TIME  ...  REGION           AREA   SITE_CODE\n",
              "0   Voice      0  2012-05-07 08:33:43.0  ...  LAGUNE  ABIDJAN NORTH  7f76d66503\n",
              "1   Voice      0  2012-05-07 08:36:17.0  ...  LAGUNE  ABIDJAN SOUTH  ffa6bdc032\n",
              "2   Voice      0  2012-05-07 08:37:47.0  ...  LAGUNE  ABIDJAN SOUTH  3e46cdd0e8\n",
              "3   Voice      0  2012-05-07 09:56:52.0  ...  LAGUNE  ABIDJAN SOUTH  3e46cdd0e8\n",
              "4   Voice      0  2012-05-07 20:17:41.0  ...  LAGUNE  ABIDJAN SOUTH  3e46cdd0e8\n",
              "\n",
              "[5 rows x 15 columns]"
            ]
          },
          "metadata": {
            "tags": []
          },
          "execution_count": 15
        }
      ]
    },
    {
      "cell_type": "markdown",
      "metadata": {
        "id": "OrN8_t_jDHae",
        "colab_type": "text"
      },
      "source": [
        "###Let's analyze the newly merged dataset (daily)"
      ]
    },
    {
      "cell_type": "code",
      "metadata": {
        "id": "So-8qOhsDSGZ",
        "colab_type": "code",
        "colab": {
          "base_uri": "https://localhost:8080/",
          "height": 289
        },
        "outputId": "38e2c772-b893-4e36-8eaa-aef54967e732"
      },
      "source": [
        "#Let's check for null values in the daily dataset\n",
        "\n",
        "daily.isnull().sum()"
      ],
      "execution_count": 16,
      "outputs": [
        {
          "output_type": "execute_result",
          "data": {
            "text/plain": [
              "PRODUCT              0\n",
              "VALUE                0\n",
              "DATE_TIME            0\n",
              "DW_A_NUMBER_INT      0\n",
              "DW_B_NUMBER_INT      0\n",
              "CELL_ID              0\n",
              "SITE_ID            376\n",
              "VILLES               0\n",
              "STATUS               1\n",
              "LOCALISATION         0\n",
              "DECOUPZONE           0\n",
              "ZONENAME             0\n",
              "REGION               0\n",
              "AREA                 0\n",
              "SITE_CODE            0\n",
              "dtype: int64"
            ]
          },
          "metadata": {
            "tags": []
          },
          "execution_count": 16
        }
      ]
    },
    {
      "cell_type": "code",
      "metadata": {
        "id": "NF8LQssiDj09",
        "colab_type": "code",
        "colab": {
          "base_uri": "https://localhost:8080/",
          "height": 394
        },
        "outputId": "bea4dafe-0f87-4e91-9817-d59308ffa7e2"
      },
      "source": [
        "#Let's replace all the missing values to NaN\n",
        "daily.replace('N/A',np.NaN)\n",
        "daily.head()"
      ],
      "execution_count": 17,
      "outputs": [
        {
          "output_type": "execute_result",
          "data": {
            "text/html": [
              "<div>\n",
              "<style scoped>\n",
              "    .dataframe tbody tr th:only-of-type {\n",
              "        vertical-align: middle;\n",
              "    }\n",
              "\n",
              "    .dataframe tbody tr th {\n",
              "        vertical-align: top;\n",
              "    }\n",
              "\n",
              "    .dataframe thead th {\n",
              "        text-align: right;\n",
              "    }\n",
              "</style>\n",
              "<table border=\"1\" class=\"dataframe\">\n",
              "  <thead>\n",
              "    <tr style=\"text-align: right;\">\n",
              "      <th></th>\n",
              "      <th>PRODUCT</th>\n",
              "      <th>VALUE</th>\n",
              "      <th>DATE_TIME</th>\n",
              "      <th>DW_A_NUMBER_INT</th>\n",
              "      <th>DW_B_NUMBER_INT</th>\n",
              "      <th>CELL_ID</th>\n",
              "      <th>SITE_ID</th>\n",
              "      <th>VILLES</th>\n",
              "      <th>STATUS</th>\n",
              "      <th>LOCALISATION</th>\n",
              "      <th>DECOUPZONE</th>\n",
              "      <th>ZONENAME</th>\n",
              "      <th>REGION</th>\n",
              "      <th>AREA</th>\n",
              "      <th>SITE_CODE</th>\n",
              "    </tr>\n",
              "  </thead>\n",
              "  <tbody>\n",
              "    <tr>\n",
              "      <th>0</th>\n",
              "      <td>Voice</td>\n",
              "      <td>0</td>\n",
              "      <td>2012-05-07 08:33:43.0</td>\n",
              "      <td>13d236932ae2bcf</td>\n",
              "      <td>662861c8d47acbb</td>\n",
              "      <td>1ce5a37ea9</td>\n",
              "      <td>NaN</td>\n",
              "      <td>ATTECOUBE</td>\n",
              "      <td>In Service</td>\n",
              "      <td>ABIDJAN</td>\n",
              "      <td>Abidjan_OUEST</td>\n",
              "      <td>ZONE C - Abidjan_OUEST</td>\n",
              "      <td>LAGUNE</td>\n",
              "      <td>ABIDJAN NORTH</td>\n",
              "      <td>7f76d66503</td>\n",
              "    </tr>\n",
              "    <tr>\n",
              "      <th>1</th>\n",
              "      <td>Voice</td>\n",
              "      <td>0</td>\n",
              "      <td>2012-05-07 08:36:17.0</td>\n",
              "      <td>704ad46f5623789</td>\n",
              "      <td>8788ee37020a0b3</td>\n",
              "      <td>24ced8b6ba</td>\n",
              "      <td>NaN</td>\n",
              "      <td>PORT-BOUET</td>\n",
              "      <td>In Service</td>\n",
              "      <td>ABIDJAN</td>\n",
              "      <td>Abidjan_SUD</td>\n",
              "      <td>ZONE D - Abidjan_SUD</td>\n",
              "      <td>LAGUNE</td>\n",
              "      <td>ABIDJAN SOUTH</td>\n",
              "      <td>ffa6bdc032</td>\n",
              "    </tr>\n",
              "    <tr>\n",
              "      <th>2</th>\n",
              "      <td>Voice</td>\n",
              "      <td>0</td>\n",
              "      <td>2012-05-07 08:37:47.0</td>\n",
              "      <td>de08884e7eb68a8</td>\n",
              "      <td>5a699ac9f644039</td>\n",
              "      <td>f7f527c807</td>\n",
              "      <td>NaN</td>\n",
              "      <td>PLATEAU</td>\n",
              "      <td>In Service</td>\n",
              "      <td>ABIDJAN</td>\n",
              "      <td>Abidjan_CENTRE</td>\n",
              "      <td>ZONE A - Abidjan_CENTRE</td>\n",
              "      <td>LAGUNE</td>\n",
              "      <td>ABIDJAN SOUTH</td>\n",
              "      <td>3e46cdd0e8</td>\n",
              "    </tr>\n",
              "    <tr>\n",
              "      <th>3</th>\n",
              "      <td>Voice</td>\n",
              "      <td>0</td>\n",
              "      <td>2012-05-07 09:56:52.0</td>\n",
              "      <td>a5ff70730fe55d6</td>\n",
              "      <td>f34968a670b9422</td>\n",
              "      <td>f7f527c807</td>\n",
              "      <td>NaN</td>\n",
              "      <td>PLATEAU</td>\n",
              "      <td>In Service</td>\n",
              "      <td>ABIDJAN</td>\n",
              "      <td>Abidjan_CENTRE</td>\n",
              "      <td>ZONE A - Abidjan_CENTRE</td>\n",
              "      <td>LAGUNE</td>\n",
              "      <td>ABIDJAN SOUTH</td>\n",
              "      <td>3e46cdd0e8</td>\n",
              "    </tr>\n",
              "    <tr>\n",
              "      <th>4</th>\n",
              "      <td>Voice</td>\n",
              "      <td>0</td>\n",
              "      <td>2012-05-07 20:17:41.0</td>\n",
              "      <td>4106e7c8e1bdc3c</td>\n",
              "      <td>87b5c66d514431b</td>\n",
              "      <td>f7f527c807</td>\n",
              "      <td>NaN</td>\n",
              "      <td>PLATEAU</td>\n",
              "      <td>In Service</td>\n",
              "      <td>ABIDJAN</td>\n",
              "      <td>Abidjan_CENTRE</td>\n",
              "      <td>ZONE A - Abidjan_CENTRE</td>\n",
              "      <td>LAGUNE</td>\n",
              "      <td>ABIDJAN SOUTH</td>\n",
              "      <td>3e46cdd0e8</td>\n",
              "    </tr>\n",
              "  </tbody>\n",
              "</table>\n",
              "</div>"
            ],
            "text/plain": [
              "  PRODUCT  VALUE              DATE_TIME  ...  REGION           AREA   SITE_CODE\n",
              "0   Voice      0  2012-05-07 08:33:43.0  ...  LAGUNE  ABIDJAN NORTH  7f76d66503\n",
              "1   Voice      0  2012-05-07 08:36:17.0  ...  LAGUNE  ABIDJAN SOUTH  ffa6bdc032\n",
              "2   Voice      0  2012-05-07 08:37:47.0  ...  LAGUNE  ABIDJAN SOUTH  3e46cdd0e8\n",
              "3   Voice      0  2012-05-07 09:56:52.0  ...  LAGUNE  ABIDJAN SOUTH  3e46cdd0e8\n",
              "4   Voice      0  2012-05-07 20:17:41.0  ...  LAGUNE  ABIDJAN SOUTH  3e46cdd0e8\n",
              "\n",
              "[5 rows x 15 columns]"
            ]
          },
          "metadata": {
            "tags": []
          },
          "execution_count": 17
        }
      ]
    },
    {
      "cell_type": "code",
      "metadata": {
        "id": "R3DCdIKoD99g",
        "colab_type": "code",
        "colab": {}
      },
      "source": [
        "#Let's change the DATE_TIME column to datetime type\n",
        "\n",
        "daily.DATE_TIME = pd.to_datetime(daily.DATE_TIME)\n"
      ],
      "execution_count": 0,
      "outputs": []
    },
    {
      "cell_type": "code",
      "metadata": {
        "id": "CaDYzAxbFvCX",
        "colab_type": "code",
        "colab": {}
      },
      "source": [
        "#Let's split the DATE_TIME to date and time\n",
        "\n",
        "daily['DATE'] = [d.date() for d in daily.DATE_TIME]\n",
        "\n",
        "daily['TIME'] = [d.time() for d in daily.DATE_TIME]\n",
        "\n",
        "daily['DATE'] = pd.to_datetime(daily['DATE'])\n",
        "\n",
        "daily['TIME'] = pd.to_datetime(daily['TIME'], format='%H:%M:%S:%f', errors = 'ignore')\n",
        "\n"
      ],
      "execution_count": 0,
      "outputs": []
    },
    {
      "cell_type": "code",
      "metadata": {
        "id": "qCI09XgIGT6N",
        "colab_type": "code",
        "colab": {
          "base_uri": "https://localhost:8080/",
          "height": 323
        },
        "outputId": "68a833ca-723c-44a0-f692-1e05ea32cd24"
      },
      "source": [
        "#Let's confirm the changes have been made\n",
        "\n",
        "daily.dtypes"
      ],
      "execution_count": 20,
      "outputs": [
        {
          "output_type": "execute_result",
          "data": {
            "text/plain": [
              "PRODUCT                    object\n",
              "VALUE                       int64\n",
              "DATE_TIME          datetime64[ns]\n",
              "DW_A_NUMBER_INT            object\n",
              "DW_B_NUMBER_INT            object\n",
              "CELL_ID                    object\n",
              "SITE_ID                   float64\n",
              "VILLES                     object\n",
              "STATUS                     object\n",
              "LOCALISATION               object\n",
              "DECOUPZONE                 object\n",
              "ZONENAME                   object\n",
              "REGION                     object\n",
              "AREA                       object\n",
              "SITE_CODE                  object\n",
              "DATE               datetime64[ns]\n",
              "TIME                       object\n",
              "dtype: object"
            ]
          },
          "metadata": {
            "tags": []
          },
          "execution_count": 20
        }
      ]
    },
    {
      "cell_type": "code",
      "metadata": {
        "id": "YPSW1DemGcwq",
        "colab_type": "code",
        "colab": {
          "base_uri": "https://localhost:8080/",
          "height": 394
        },
        "outputId": "d77dbcfc-0239-4e1f-e56c-2cc543981310"
      },
      "source": [
        "daily.head()"
      ],
      "execution_count": 21,
      "outputs": [
        {
          "output_type": "execute_result",
          "data": {
            "text/html": [
              "<div>\n",
              "<style scoped>\n",
              "    .dataframe tbody tr th:only-of-type {\n",
              "        vertical-align: middle;\n",
              "    }\n",
              "\n",
              "    .dataframe tbody tr th {\n",
              "        vertical-align: top;\n",
              "    }\n",
              "\n",
              "    .dataframe thead th {\n",
              "        text-align: right;\n",
              "    }\n",
              "</style>\n",
              "<table border=\"1\" class=\"dataframe\">\n",
              "  <thead>\n",
              "    <tr style=\"text-align: right;\">\n",
              "      <th></th>\n",
              "      <th>PRODUCT</th>\n",
              "      <th>VALUE</th>\n",
              "      <th>DATE_TIME</th>\n",
              "      <th>DW_A_NUMBER_INT</th>\n",
              "      <th>DW_B_NUMBER_INT</th>\n",
              "      <th>CELL_ID</th>\n",
              "      <th>SITE_ID</th>\n",
              "      <th>VILLES</th>\n",
              "      <th>STATUS</th>\n",
              "      <th>LOCALISATION</th>\n",
              "      <th>DECOUPZONE</th>\n",
              "      <th>ZONENAME</th>\n",
              "      <th>REGION</th>\n",
              "      <th>AREA</th>\n",
              "      <th>SITE_CODE</th>\n",
              "      <th>DATE</th>\n",
              "      <th>TIME</th>\n",
              "    </tr>\n",
              "  </thead>\n",
              "  <tbody>\n",
              "    <tr>\n",
              "      <th>0</th>\n",
              "      <td>Voice</td>\n",
              "      <td>0</td>\n",
              "      <td>2012-05-07 08:33:43</td>\n",
              "      <td>13d236932ae2bcf</td>\n",
              "      <td>662861c8d47acbb</td>\n",
              "      <td>1ce5a37ea9</td>\n",
              "      <td>NaN</td>\n",
              "      <td>ATTECOUBE</td>\n",
              "      <td>In Service</td>\n",
              "      <td>ABIDJAN</td>\n",
              "      <td>Abidjan_OUEST</td>\n",
              "      <td>ZONE C - Abidjan_OUEST</td>\n",
              "      <td>LAGUNE</td>\n",
              "      <td>ABIDJAN NORTH</td>\n",
              "      <td>7f76d66503</td>\n",
              "      <td>2012-05-07</td>\n",
              "      <td>08:33:43</td>\n",
              "    </tr>\n",
              "    <tr>\n",
              "      <th>1</th>\n",
              "      <td>Voice</td>\n",
              "      <td>0</td>\n",
              "      <td>2012-05-07 08:36:17</td>\n",
              "      <td>704ad46f5623789</td>\n",
              "      <td>8788ee37020a0b3</td>\n",
              "      <td>24ced8b6ba</td>\n",
              "      <td>NaN</td>\n",
              "      <td>PORT-BOUET</td>\n",
              "      <td>In Service</td>\n",
              "      <td>ABIDJAN</td>\n",
              "      <td>Abidjan_SUD</td>\n",
              "      <td>ZONE D - Abidjan_SUD</td>\n",
              "      <td>LAGUNE</td>\n",
              "      <td>ABIDJAN SOUTH</td>\n",
              "      <td>ffa6bdc032</td>\n",
              "      <td>2012-05-07</td>\n",
              "      <td>08:36:17</td>\n",
              "    </tr>\n",
              "    <tr>\n",
              "      <th>2</th>\n",
              "      <td>Voice</td>\n",
              "      <td>0</td>\n",
              "      <td>2012-05-07 08:37:47</td>\n",
              "      <td>de08884e7eb68a8</td>\n",
              "      <td>5a699ac9f644039</td>\n",
              "      <td>f7f527c807</td>\n",
              "      <td>NaN</td>\n",
              "      <td>PLATEAU</td>\n",
              "      <td>In Service</td>\n",
              "      <td>ABIDJAN</td>\n",
              "      <td>Abidjan_CENTRE</td>\n",
              "      <td>ZONE A - Abidjan_CENTRE</td>\n",
              "      <td>LAGUNE</td>\n",
              "      <td>ABIDJAN SOUTH</td>\n",
              "      <td>3e46cdd0e8</td>\n",
              "      <td>2012-05-07</td>\n",
              "      <td>08:37:47</td>\n",
              "    </tr>\n",
              "    <tr>\n",
              "      <th>3</th>\n",
              "      <td>Voice</td>\n",
              "      <td>0</td>\n",
              "      <td>2012-05-07 09:56:52</td>\n",
              "      <td>a5ff70730fe55d6</td>\n",
              "      <td>f34968a670b9422</td>\n",
              "      <td>f7f527c807</td>\n",
              "      <td>NaN</td>\n",
              "      <td>PLATEAU</td>\n",
              "      <td>In Service</td>\n",
              "      <td>ABIDJAN</td>\n",
              "      <td>Abidjan_CENTRE</td>\n",
              "      <td>ZONE A - Abidjan_CENTRE</td>\n",
              "      <td>LAGUNE</td>\n",
              "      <td>ABIDJAN SOUTH</td>\n",
              "      <td>3e46cdd0e8</td>\n",
              "      <td>2012-05-07</td>\n",
              "      <td>09:56:52</td>\n",
              "    </tr>\n",
              "    <tr>\n",
              "      <th>4</th>\n",
              "      <td>Voice</td>\n",
              "      <td>0</td>\n",
              "      <td>2012-05-07 20:17:41</td>\n",
              "      <td>4106e7c8e1bdc3c</td>\n",
              "      <td>87b5c66d514431b</td>\n",
              "      <td>f7f527c807</td>\n",
              "      <td>NaN</td>\n",
              "      <td>PLATEAU</td>\n",
              "      <td>In Service</td>\n",
              "      <td>ABIDJAN</td>\n",
              "      <td>Abidjan_CENTRE</td>\n",
              "      <td>ZONE A - Abidjan_CENTRE</td>\n",
              "      <td>LAGUNE</td>\n",
              "      <td>ABIDJAN SOUTH</td>\n",
              "      <td>3e46cdd0e8</td>\n",
              "      <td>2012-05-07</td>\n",
              "      <td>20:17:41</td>\n",
              "    </tr>\n",
              "  </tbody>\n",
              "</table>\n",
              "</div>"
            ],
            "text/plain": [
              "  PRODUCT  VALUE           DATE_TIME  ...   SITE_CODE       DATE      TIME\n",
              "0   Voice      0 2012-05-07 08:33:43  ...  7f76d66503 2012-05-07  08:33:43\n",
              "1   Voice      0 2012-05-07 08:36:17  ...  ffa6bdc032 2012-05-07  08:36:17\n",
              "2   Voice      0 2012-05-07 08:37:47  ...  3e46cdd0e8 2012-05-07  08:37:47\n",
              "3   Voice      0 2012-05-07 09:56:52  ...  3e46cdd0e8 2012-05-07  09:56:52\n",
              "4   Voice      0 2012-05-07 20:17:41  ...  3e46cdd0e8 2012-05-07  20:17:41\n",
              "\n",
              "[5 rows x 17 columns]"
            ]
          },
          "metadata": {
            "tags": []
          },
          "execution_count": 21
        }
      ]
    },
    {
      "cell_type": "code",
      "metadata": {
        "id": "roo381--GhcQ",
        "colab_type": "code",
        "colab": {
          "base_uri": "https://localhost:8080/",
          "height": 394
        },
        "outputId": "be2d5b19-a312-4325-8fda-9404afb01de0"
      },
      "source": [
        "#Since new columns date and time have been formed, let's re-arrange the columns as well.\n",
        "\n",
        "daily = daily[['VILLES','PRODUCT','VALUE','DATE','TIME','DATE_TIME','CELL_ID','DW_A_NUMBER_INT','DW_B_NUMBER_INT','STATUS','LOCALISATION','DECOUPZONE','ZONENAME','REGION','AREA','SITE_ID','SITE_CODE']]\n",
        "daily.head()\n"
      ],
      "execution_count": 22,
      "outputs": [
        {
          "output_type": "execute_result",
          "data": {
            "text/html": [
              "<div>\n",
              "<style scoped>\n",
              "    .dataframe tbody tr th:only-of-type {\n",
              "        vertical-align: middle;\n",
              "    }\n",
              "\n",
              "    .dataframe tbody tr th {\n",
              "        vertical-align: top;\n",
              "    }\n",
              "\n",
              "    .dataframe thead th {\n",
              "        text-align: right;\n",
              "    }\n",
              "</style>\n",
              "<table border=\"1\" class=\"dataframe\">\n",
              "  <thead>\n",
              "    <tr style=\"text-align: right;\">\n",
              "      <th></th>\n",
              "      <th>VILLES</th>\n",
              "      <th>PRODUCT</th>\n",
              "      <th>VALUE</th>\n",
              "      <th>DATE</th>\n",
              "      <th>TIME</th>\n",
              "      <th>DATE_TIME</th>\n",
              "      <th>CELL_ID</th>\n",
              "      <th>DW_A_NUMBER_INT</th>\n",
              "      <th>DW_B_NUMBER_INT</th>\n",
              "      <th>STATUS</th>\n",
              "      <th>LOCALISATION</th>\n",
              "      <th>DECOUPZONE</th>\n",
              "      <th>ZONENAME</th>\n",
              "      <th>REGION</th>\n",
              "      <th>AREA</th>\n",
              "      <th>SITE_ID</th>\n",
              "      <th>SITE_CODE</th>\n",
              "    </tr>\n",
              "  </thead>\n",
              "  <tbody>\n",
              "    <tr>\n",
              "      <th>0</th>\n",
              "      <td>ATTECOUBE</td>\n",
              "      <td>Voice</td>\n",
              "      <td>0</td>\n",
              "      <td>2012-05-07</td>\n",
              "      <td>08:33:43</td>\n",
              "      <td>2012-05-07 08:33:43</td>\n",
              "      <td>1ce5a37ea9</td>\n",
              "      <td>13d236932ae2bcf</td>\n",
              "      <td>662861c8d47acbb</td>\n",
              "      <td>In Service</td>\n",
              "      <td>ABIDJAN</td>\n",
              "      <td>Abidjan_OUEST</td>\n",
              "      <td>ZONE C - Abidjan_OUEST</td>\n",
              "      <td>LAGUNE</td>\n",
              "      <td>ABIDJAN NORTH</td>\n",
              "      <td>NaN</td>\n",
              "      <td>7f76d66503</td>\n",
              "    </tr>\n",
              "    <tr>\n",
              "      <th>1</th>\n",
              "      <td>PORT-BOUET</td>\n",
              "      <td>Voice</td>\n",
              "      <td>0</td>\n",
              "      <td>2012-05-07</td>\n",
              "      <td>08:36:17</td>\n",
              "      <td>2012-05-07 08:36:17</td>\n",
              "      <td>24ced8b6ba</td>\n",
              "      <td>704ad46f5623789</td>\n",
              "      <td>8788ee37020a0b3</td>\n",
              "      <td>In Service</td>\n",
              "      <td>ABIDJAN</td>\n",
              "      <td>Abidjan_SUD</td>\n",
              "      <td>ZONE D - Abidjan_SUD</td>\n",
              "      <td>LAGUNE</td>\n",
              "      <td>ABIDJAN SOUTH</td>\n",
              "      <td>NaN</td>\n",
              "      <td>ffa6bdc032</td>\n",
              "    </tr>\n",
              "    <tr>\n",
              "      <th>2</th>\n",
              "      <td>PLATEAU</td>\n",
              "      <td>Voice</td>\n",
              "      <td>0</td>\n",
              "      <td>2012-05-07</td>\n",
              "      <td>08:37:47</td>\n",
              "      <td>2012-05-07 08:37:47</td>\n",
              "      <td>f7f527c807</td>\n",
              "      <td>de08884e7eb68a8</td>\n",
              "      <td>5a699ac9f644039</td>\n",
              "      <td>In Service</td>\n",
              "      <td>ABIDJAN</td>\n",
              "      <td>Abidjan_CENTRE</td>\n",
              "      <td>ZONE A - Abidjan_CENTRE</td>\n",
              "      <td>LAGUNE</td>\n",
              "      <td>ABIDJAN SOUTH</td>\n",
              "      <td>NaN</td>\n",
              "      <td>3e46cdd0e8</td>\n",
              "    </tr>\n",
              "    <tr>\n",
              "      <th>3</th>\n",
              "      <td>PLATEAU</td>\n",
              "      <td>Voice</td>\n",
              "      <td>0</td>\n",
              "      <td>2012-05-07</td>\n",
              "      <td>09:56:52</td>\n",
              "      <td>2012-05-07 09:56:52</td>\n",
              "      <td>f7f527c807</td>\n",
              "      <td>a5ff70730fe55d6</td>\n",
              "      <td>f34968a670b9422</td>\n",
              "      <td>In Service</td>\n",
              "      <td>ABIDJAN</td>\n",
              "      <td>Abidjan_CENTRE</td>\n",
              "      <td>ZONE A - Abidjan_CENTRE</td>\n",
              "      <td>LAGUNE</td>\n",
              "      <td>ABIDJAN SOUTH</td>\n",
              "      <td>NaN</td>\n",
              "      <td>3e46cdd0e8</td>\n",
              "    </tr>\n",
              "    <tr>\n",
              "      <th>4</th>\n",
              "      <td>PLATEAU</td>\n",
              "      <td>Voice</td>\n",
              "      <td>0</td>\n",
              "      <td>2012-05-07</td>\n",
              "      <td>20:17:41</td>\n",
              "      <td>2012-05-07 20:17:41</td>\n",
              "      <td>f7f527c807</td>\n",
              "      <td>4106e7c8e1bdc3c</td>\n",
              "      <td>87b5c66d514431b</td>\n",
              "      <td>In Service</td>\n",
              "      <td>ABIDJAN</td>\n",
              "      <td>Abidjan_CENTRE</td>\n",
              "      <td>ZONE A - Abidjan_CENTRE</td>\n",
              "      <td>LAGUNE</td>\n",
              "      <td>ABIDJAN SOUTH</td>\n",
              "      <td>NaN</td>\n",
              "      <td>3e46cdd0e8</td>\n",
              "    </tr>\n",
              "  </tbody>\n",
              "</table>\n",
              "</div>"
            ],
            "text/plain": [
              "       VILLES PRODUCT  VALUE  ...           AREA SITE_ID   SITE_CODE\n",
              "0   ATTECOUBE   Voice      0  ...  ABIDJAN NORTH     NaN  7f76d66503\n",
              "1  PORT-BOUET   Voice      0  ...  ABIDJAN SOUTH     NaN  ffa6bdc032\n",
              "2     PLATEAU   Voice      0  ...  ABIDJAN SOUTH     NaN  3e46cdd0e8\n",
              "3     PLATEAU   Voice      0  ...  ABIDJAN SOUTH     NaN  3e46cdd0e8\n",
              "4     PLATEAU   Voice      0  ...  ABIDJAN SOUTH     NaN  3e46cdd0e8\n",
              "\n",
              "[5 rows x 17 columns]"
            ]
          },
          "metadata": {
            "tags": []
          },
          "execution_count": 22
        }
      ]
    },
    {
      "cell_type": "code",
      "metadata": {
        "id": "AoW6nxa6EqN5",
        "colab_type": "code",
        "colab": {
          "base_uri": "https://localhost:8080/",
          "height": 323
        },
        "outputId": "0019f3c8-aa4e-483a-a9f4-8b6734c94721"
      },
      "source": [
        "#Let's check for missing values\n",
        "\n",
        "daily.isnull().sum()"
      ],
      "execution_count": 23,
      "outputs": [
        {
          "output_type": "execute_result",
          "data": {
            "text/plain": [
              "VILLES               0\n",
              "PRODUCT              0\n",
              "VALUE                0\n",
              "DATE                 0\n",
              "TIME                 0\n",
              "DATE_TIME            0\n",
              "CELL_ID              0\n",
              "DW_A_NUMBER_INT      0\n",
              "DW_B_NUMBER_INT      0\n",
              "STATUS               1\n",
              "LOCALISATION         0\n",
              "DECOUPZONE           0\n",
              "ZONENAME             0\n",
              "REGION               0\n",
              "AREA                 0\n",
              "SITE_ID            376\n",
              "SITE_CODE            0\n",
              "dtype: int64"
            ]
          },
          "metadata": {
            "tags": []
          },
          "execution_count": 23
        }
      ]
    },
    {
      "cell_type": "markdown",
      "metadata": {
        "id": "5tsTOm_9HzXM",
        "colab_type": "text"
      },
      "source": [
        "### What cities were the most used during the three days?\n"
      ]
    },
    {
      "cell_type": "code",
      "metadata": {
        "id": "O1i5tIkWH7rT",
        "colab_type": "code",
        "colab": {
          "base_uri": "https://localhost:8080/",
          "height": 867
        },
        "outputId": "a331d156-c7d2-40c9-c8ff-1332b389663a"
      },
      "source": [
        "daily.groupby(['DATE', 'VILLES']).size()\n"
      ],
      "execution_count": 85,
      "outputs": [
        {
          "output_type": "execute_result",
          "data": {
            "text/plain": [
              "DATE        VILLES      \n",
              "2012-05-07  ABOBO            9\n",
              "            ADJAME           6\n",
              "            ATTECOUBE        4\n",
              "            BINGERVILLE      3\n",
              "            COCODY          65\n",
              "            KOUMASSI         6\n",
              "            MARCORY         10\n",
              "            PLATEAU          5\n",
              "            PORT-BOUET      14\n",
              "            SONGON           2\n",
              "            SOUBRE           3\n",
              "            TIASSALE        18\n",
              "            TOUMODI          1\n",
              "            TREICHVILLE     14\n",
              "            YAMOUSSOUKRO    11\n",
              "            YOPOUGON         5\n",
              "2012-05-08  ABOBO           10\n",
              "            ATTECOUBE        1\n",
              "            COCODY          25\n",
              "            KOUMASSI         2\n",
              "            MARCORY         22\n",
              "            PLATEAU          4\n",
              "            PORT-BOUET       5\n",
              "            SAN-PEDRO        3\n",
              "            SOUBRE           2\n",
              "            TANDA            1\n",
              "            TIASSALE         2\n",
              "            TIEBISSOU        1\n",
              "            TREICHVILLE      7\n",
              "            YAMOUSSOUKRO    10\n",
              "            YOPOUGON         6\n",
              "2012-05-09  ABENGOUROU       1\n",
              "            ABOBO            6\n",
              "            ADJAME           2\n",
              "            COCODY          38\n",
              "            GAGNOA           1\n",
              "            KOUMASSI         6\n",
              "            MARCORY         12\n",
              "            PLATEAU          2\n",
              "            PORT-BOUET       5\n",
              "            SONGON           1\n",
              "            SOUBRE           3\n",
              "            TANDA            1\n",
              "            TIASSALE         6\n",
              "            TIEBISSOU        1\n",
              "            TOUMODI          3\n",
              "            TREICHVILLE      5\n",
              "            YAMOUSSOUKRO     6\n",
              "dtype: int64"
            ]
          },
          "metadata": {
            "tags": []
          },
          "execution_count": 85
        }
      ]
    },
    {
      "cell_type": "markdown",
      "metadata": {
        "id": "0l6wsyRaJL7B",
        "colab_type": "text"
      },
      "source": [
        "Let's go through the output given. \n",
        "*  On day 1, the following cities logged the most activity:\n",
        "            *   COCODY\n",
        "            *   TIASSALE\n",
        "            *   PORT - BOUET\n",
        "            *  TREICHVILLE\n",
        "            \n",
        "*  On day 2, the following cities logged the most activity:\n",
        "            *  COCODY\n",
        "            *  MARCORY\n",
        "            * YAMOUSSOUKRO\n",
        "            * ABOBO\n",
        "            \n",
        "*  On day 3, the following cities logged the most activity:\n",
        "            * COCODY\n",
        "            * MARCORY\n",
        "            * TIASSALE\n",
        "            * YAMOUSSOUKRO\n",
        "            * KOUMASSI\n",
        "            * ABOBO\n",
        "\n"
      ]
    },
    {
      "cell_type": "markdown",
      "metadata": {
        "id": "khfseLTHjUsx",
        "colab_type": "text"
      },
      "source": [
        "### Which cities used the MTN products the most over the three days?"
      ]
    },
    {
      "cell_type": "code",
      "metadata": {
        "id": "aUwmCHw7jd9x",
        "colab_type": "code",
        "colab": {
          "base_uri": "https://localhost:8080/",
          "height": 408
        },
        "outputId": "eaf0b03c-a0d4-4ad4-e3cf-99c1cad58772"
      },
      "source": [
        "daily.groupby('VILLES')['VILLES'].count().sort_values(ascending = False)"
      ],
      "execution_count": 89,
      "outputs": [
        {
          "output_type": "execute_result",
          "data": {
            "text/plain": [
              "VILLES\n",
              "COCODY          128\n",
              "MARCORY          44\n",
              "YAMOUSSOUKRO     27\n",
              "TREICHVILLE      26\n",
              "TIASSALE         26\n",
              "ABOBO            25\n",
              "PORT-BOUET       24\n",
              "KOUMASSI         14\n",
              "PLATEAU          11\n",
              "YOPOUGON         11\n",
              "SOUBRE            8\n",
              "ADJAME            8\n",
              "ATTECOUBE         5\n",
              "TOUMODI           4\n",
              "SAN-PEDRO         3\n",
              "SONGON            3\n",
              "BINGERVILLE       3\n",
              "TANDA             2\n",
              "TIEBISSOU         2\n",
              "GAGNOA            1\n",
              "ABENGOUROU        1\n",
              "Name: VILLES, dtype: int64"
            ]
          },
          "metadata": {
            "tags": []
          },
          "execution_count": 89
        }
      ]
    },
    {
      "cell_type": "markdown",
      "metadata": {
        "id": "VRDglnckcLz2",
        "colab_type": "text"
      },
      "source": [
        "###Which product has a higher revenue based on the value return?"
      ]
    },
    {
      "cell_type": "code",
      "metadata": {
        "id": "GcDiOs1UcUTN",
        "colab_type": "code",
        "colab": {
          "base_uri": "https://localhost:8080/",
          "height": 68
        },
        "outputId": "d4cea2e3-1852-4c61-a8d0-fd5d3086f4fa"
      },
      "source": [
        "daily.groupby(['PRODUCT'])['VALUE'].count()              "
      ],
      "execution_count": 83,
      "outputs": [
        {
          "output_type": "execute_result",
          "data": {
            "text/plain": [
              "PRODUCT\n",
              "Voice    376\n",
              "Name: VALUE, dtype: int64"
            ]
          },
          "metadata": {
            "tags": []
          },
          "execution_count": 83
        }
      ]
    },
    {
      "cell_type": "markdown",
      "metadata": {
        "id": "veA6cUc3h-fd",
        "colab_type": "text"
      },
      "source": [
        "The voice product has a higher revenue based on the value return."
      ]
    },
    {
      "cell_type": "markdown",
      "metadata": {
        "id": "I8f7iWiXfh45",
        "colab_type": "text"
      },
      "source": [
        "### What product was used most each and every day for the 3 days?\n"
      ]
    },
    {
      "cell_type": "code",
      "metadata": {
        "id": "GWjOqYC9fncN",
        "colab_type": "code",
        "colab": {
          "base_uri": "https://localhost:8080/",
          "height": 102
        },
        "outputId": "21613c1c-fc7e-4120-c8d8-6b94727678ae"
      },
      "source": [
        "daily.groupby(['DATE', 'PRODUCT'])['PRODUCT'].count().sort_values(ascending = False)"
      ],
      "execution_count": 59,
      "outputs": [
        {
          "output_type": "execute_result",
          "data": {
            "text/plain": [
              "DATE        PRODUCT\n",
              "2012-05-07  Voice      176\n",
              "2012-05-08  Voice      101\n",
              "2012-05-09  Voice       99\n",
              "Name: PRODUCT, dtype: int64"
            ]
          },
          "metadata": {
            "tags": []
          },
          "execution_count": 59
        }
      ]
    },
    {
      "cell_type": "markdown",
      "metadata": {
        "id": "59cwYTTHiR0u",
        "colab_type": "text"
      },
      "source": [
        "### What region used the MTN products the most and which product was it?\n",
        "\n"
      ]
    },
    {
      "cell_type": "code",
      "metadata": {
        "id": "PhAiuEOPilgb",
        "colab_type": "code",
        "colab": {
          "base_uri": "https://localhost:8080/",
          "height": 153
        },
        "outputId": "dc10a821-c33f-4a20-979e-91516573096b"
      },
      "source": [
        "daily.groupby(['REGION', 'PRODUCT'])['PRODUCT'].count().sort_values(ascending = False)"
      ],
      "execution_count": 87,
      "outputs": [
        {
          "output_type": "execute_result",
          "data": {
            "text/plain": [
              "REGION         PRODUCT\n",
              "LAGUNE         Voice      328\n",
              "LACS           Voice       33\n",
              "BAS SASSANDRA  Voice       11\n",
              "ZANZAN         Voice        2\n",
              "MOYEN COMOE    Voice        1\n",
              "FROMAGER       Voice        1\n",
              "Name: PRODUCT, dtype: int64"
            ]
          },
          "metadata": {
            "tags": []
          },
          "execution_count": 87
        }
      ]
    },
    {
      "cell_type": "markdown",
      "metadata": {
        "id": "PRwANJYVi0Hg",
        "colab_type": "text"
      },
      "source": [
        "### What area used the MTN products the most and which product was it?"
      ]
    },
    {
      "cell_type": "code",
      "metadata": {
        "id": "2UfbVr3ui9Q-",
        "colab_type": "code",
        "colab": {
          "base_uri": "https://localhost:8080/",
          "height": 136
        },
        "outputId": "97fe6c10-0c40-4012-a193-b55fda1672f8"
      },
      "source": [
        "daily.groupby(['AREA', 'PRODUCT'])['PRODUCT'].count().sort_values(ascending = False)"
      ],
      "execution_count": 88,
      "outputs": [
        {
          "output_type": "execute_result",
          "data": {
            "text/plain": [
              "AREA           PRODUCT\n",
              "ABIDJAN NORTH  Voice      183\n",
              "ABIDJAN SOUTH  Voice      119\n",
              "SOUTH WEST     Voice       38\n",
              "CENTRE NORTH   Voice       33\n",
              "EAST           Voice        3\n",
              "Name: PRODUCT, dtype: int64"
            ]
          },
          "metadata": {
            "tags": []
          },
          "execution_count": 88
        }
      ]
    },
    {
      "cell_type": "markdown",
      "metadata": {
        "colab_type": "text",
        "id": "ZMH_Ij4Ik7qL"
      },
      "source": [
        "##Business hours vs Home hours"
      ]
    },
    {
      "cell_type": "markdown",
      "metadata": {
        "id": "VqpfDdmklQov",
        "colab_type": "text"
      },
      "source": [
        "### Convert the column names date,time and datetime to lowercase"
      ]
    },
    {
      "cell_type": "code",
      "metadata": {
        "id": "ymPxkcldlFgC",
        "colab_type": "code",
        "colab": {
          "base_uri": "https://localhost:8080/",
          "height": 394
        },
        "outputId": "30d0e4ac-700b-4274-d0fd-024b0c021828"
      },
      "source": [
        "daily.columns = ['VILLES','PRODUCT','VALUE','date','time','datetime','CELL_ID','DW_A_NUMBER_INT','DW_B_NUMBER_INT','STATUS','LOCALISATION','DECOUPZONE','ZONENAME','REGION','AREA','SITE_ID','SITE_CODE']\n",
        "daily.head()"
      ],
      "execution_count": 92,
      "outputs": [
        {
          "output_type": "execute_result",
          "data": {
            "text/html": [
              "<div>\n",
              "<style scoped>\n",
              "    .dataframe tbody tr th:only-of-type {\n",
              "        vertical-align: middle;\n",
              "    }\n",
              "\n",
              "    .dataframe tbody tr th {\n",
              "        vertical-align: top;\n",
              "    }\n",
              "\n",
              "    .dataframe thead th {\n",
              "        text-align: right;\n",
              "    }\n",
              "</style>\n",
              "<table border=\"1\" class=\"dataframe\">\n",
              "  <thead>\n",
              "    <tr style=\"text-align: right;\">\n",
              "      <th></th>\n",
              "      <th>VILLES</th>\n",
              "      <th>PRODUCT</th>\n",
              "      <th>VALUE</th>\n",
              "      <th>date</th>\n",
              "      <th>time</th>\n",
              "      <th>datetime</th>\n",
              "      <th>CELL_ID</th>\n",
              "      <th>DW_A_NUMBER_INT</th>\n",
              "      <th>DW_B_NUMBER_INT</th>\n",
              "      <th>STATUS</th>\n",
              "      <th>LOCALISATION</th>\n",
              "      <th>DECOUPZONE</th>\n",
              "      <th>ZONENAME</th>\n",
              "      <th>REGION</th>\n",
              "      <th>AREA</th>\n",
              "      <th>SITE_ID</th>\n",
              "      <th>SITE_CODE</th>\n",
              "    </tr>\n",
              "  </thead>\n",
              "  <tbody>\n",
              "    <tr>\n",
              "      <th>0</th>\n",
              "      <td>ATTECOUBE</td>\n",
              "      <td>Voice</td>\n",
              "      <td>0</td>\n",
              "      <td>2012-05-07</td>\n",
              "      <td>08:33:43</td>\n",
              "      <td>2012-05-07 08:33:43</td>\n",
              "      <td>1ce5a37ea9</td>\n",
              "      <td>13d236932ae2bcf</td>\n",
              "      <td>662861c8d47acbb</td>\n",
              "      <td>In Service</td>\n",
              "      <td>ABIDJAN</td>\n",
              "      <td>Abidjan_OUEST</td>\n",
              "      <td>ZONE C - Abidjan_OUEST</td>\n",
              "      <td>LAGUNE</td>\n",
              "      <td>ABIDJAN NORTH</td>\n",
              "      <td>NaN</td>\n",
              "      <td>7f76d66503</td>\n",
              "    </tr>\n",
              "    <tr>\n",
              "      <th>1</th>\n",
              "      <td>PORT-BOUET</td>\n",
              "      <td>Voice</td>\n",
              "      <td>0</td>\n",
              "      <td>2012-05-07</td>\n",
              "      <td>08:36:17</td>\n",
              "      <td>2012-05-07 08:36:17</td>\n",
              "      <td>24ced8b6ba</td>\n",
              "      <td>704ad46f5623789</td>\n",
              "      <td>8788ee37020a0b3</td>\n",
              "      <td>In Service</td>\n",
              "      <td>ABIDJAN</td>\n",
              "      <td>Abidjan_SUD</td>\n",
              "      <td>ZONE D - Abidjan_SUD</td>\n",
              "      <td>LAGUNE</td>\n",
              "      <td>ABIDJAN SOUTH</td>\n",
              "      <td>NaN</td>\n",
              "      <td>ffa6bdc032</td>\n",
              "    </tr>\n",
              "    <tr>\n",
              "      <th>2</th>\n",
              "      <td>PLATEAU</td>\n",
              "      <td>Voice</td>\n",
              "      <td>0</td>\n",
              "      <td>2012-05-07</td>\n",
              "      <td>08:37:47</td>\n",
              "      <td>2012-05-07 08:37:47</td>\n",
              "      <td>f7f527c807</td>\n",
              "      <td>de08884e7eb68a8</td>\n",
              "      <td>5a699ac9f644039</td>\n",
              "      <td>In Service</td>\n",
              "      <td>ABIDJAN</td>\n",
              "      <td>Abidjan_CENTRE</td>\n",
              "      <td>ZONE A - Abidjan_CENTRE</td>\n",
              "      <td>LAGUNE</td>\n",
              "      <td>ABIDJAN SOUTH</td>\n",
              "      <td>NaN</td>\n",
              "      <td>3e46cdd0e8</td>\n",
              "    </tr>\n",
              "    <tr>\n",
              "      <th>3</th>\n",
              "      <td>PLATEAU</td>\n",
              "      <td>Voice</td>\n",
              "      <td>0</td>\n",
              "      <td>2012-05-07</td>\n",
              "      <td>09:56:52</td>\n",
              "      <td>2012-05-07 09:56:52</td>\n",
              "      <td>f7f527c807</td>\n",
              "      <td>a5ff70730fe55d6</td>\n",
              "      <td>f34968a670b9422</td>\n",
              "      <td>In Service</td>\n",
              "      <td>ABIDJAN</td>\n",
              "      <td>Abidjan_CENTRE</td>\n",
              "      <td>ZONE A - Abidjan_CENTRE</td>\n",
              "      <td>LAGUNE</td>\n",
              "      <td>ABIDJAN SOUTH</td>\n",
              "      <td>NaN</td>\n",
              "      <td>3e46cdd0e8</td>\n",
              "    </tr>\n",
              "    <tr>\n",
              "      <th>4</th>\n",
              "      <td>PLATEAU</td>\n",
              "      <td>Voice</td>\n",
              "      <td>0</td>\n",
              "      <td>2012-05-07</td>\n",
              "      <td>20:17:41</td>\n",
              "      <td>2012-05-07 20:17:41</td>\n",
              "      <td>f7f527c807</td>\n",
              "      <td>4106e7c8e1bdc3c</td>\n",
              "      <td>87b5c66d514431b</td>\n",
              "      <td>In Service</td>\n",
              "      <td>ABIDJAN</td>\n",
              "      <td>Abidjan_CENTRE</td>\n",
              "      <td>ZONE A - Abidjan_CENTRE</td>\n",
              "      <td>LAGUNE</td>\n",
              "      <td>ABIDJAN SOUTH</td>\n",
              "      <td>NaN</td>\n",
              "      <td>3e46cdd0e8</td>\n",
              "    </tr>\n",
              "  </tbody>\n",
              "</table>\n",
              "</div>"
            ],
            "text/plain": [
              "       VILLES PRODUCT  VALUE  ...           AREA SITE_ID   SITE_CODE\n",
              "0   ATTECOUBE   Voice      0  ...  ABIDJAN NORTH     NaN  7f76d66503\n",
              "1  PORT-BOUET   Voice      0  ...  ABIDJAN SOUTH     NaN  ffa6bdc032\n",
              "2     PLATEAU   Voice      0  ...  ABIDJAN SOUTH     NaN  3e46cdd0e8\n",
              "3     PLATEAU   Voice      0  ...  ABIDJAN SOUTH     NaN  3e46cdd0e8\n",
              "4     PLATEAU   Voice      0  ...  ABIDJAN SOUTH     NaN  3e46cdd0e8\n",
              "\n",
              "[5 rows x 17 columns]"
            ]
          },
          "metadata": {
            "tags": []
          },
          "execution_count": 92
        }
      ]
    },
    {
      "cell_type": "code",
      "metadata": {
        "id": "48521LmCmArX",
        "colab_type": "code",
        "colab": {}
      },
      "source": [
        "import datetime\n"
      ],
      "execution_count": 0,
      "outputs": []
    },
    {
      "cell_type": "markdown",
      "metadata": {
        "id": "17NeM3gemdYK",
        "colab_type": "text"
      },
      "source": [
        "### What are the activities logged during business hours?"
      ]
    },
    {
      "cell_type": "code",
      "metadata": {
        "id": "wjQpZoAEmEks",
        "colab_type": "code",
        "colab": {
          "base_uri": "https://localhost:8080/",
          "height": 394
        },
        "outputId": "74cd7dce-607e-4d7d-df06-567803cf3774"
      },
      "source": [
        "business_hours = daily[(daily.datetime.dt.time >= datetime.time(9)) & (daily.datetime.dt.time <= datetime.time(17))]\n",
        "\n",
        "business_hours.head()"
      ],
      "execution_count": 95,
      "outputs": [
        {
          "output_type": "execute_result",
          "data": {
            "text/html": [
              "<div>\n",
              "<style scoped>\n",
              "    .dataframe tbody tr th:only-of-type {\n",
              "        vertical-align: middle;\n",
              "    }\n",
              "\n",
              "    .dataframe tbody tr th {\n",
              "        vertical-align: top;\n",
              "    }\n",
              "\n",
              "    .dataframe thead th {\n",
              "        text-align: right;\n",
              "    }\n",
              "</style>\n",
              "<table border=\"1\" class=\"dataframe\">\n",
              "  <thead>\n",
              "    <tr style=\"text-align: right;\">\n",
              "      <th></th>\n",
              "      <th>VILLES</th>\n",
              "      <th>PRODUCT</th>\n",
              "      <th>VALUE</th>\n",
              "      <th>date</th>\n",
              "      <th>time</th>\n",
              "      <th>datetime</th>\n",
              "      <th>CELL_ID</th>\n",
              "      <th>DW_A_NUMBER_INT</th>\n",
              "      <th>DW_B_NUMBER_INT</th>\n",
              "      <th>STATUS</th>\n",
              "      <th>LOCALISATION</th>\n",
              "      <th>DECOUPZONE</th>\n",
              "      <th>ZONENAME</th>\n",
              "      <th>REGION</th>\n",
              "      <th>AREA</th>\n",
              "      <th>SITE_ID</th>\n",
              "      <th>SITE_CODE</th>\n",
              "    </tr>\n",
              "  </thead>\n",
              "  <tbody>\n",
              "    <tr>\n",
              "      <th>3</th>\n",
              "      <td>PLATEAU</td>\n",
              "      <td>Voice</td>\n",
              "      <td>0</td>\n",
              "      <td>2012-05-07</td>\n",
              "      <td>09:56:52</td>\n",
              "      <td>2012-05-07 09:56:52</td>\n",
              "      <td>f7f527c807</td>\n",
              "      <td>a5ff70730fe55d6</td>\n",
              "      <td>f34968a670b9422</td>\n",
              "      <td>In Service</td>\n",
              "      <td>ABIDJAN</td>\n",
              "      <td>Abidjan_CENTRE</td>\n",
              "      <td>ZONE A - Abidjan_CENTRE</td>\n",
              "      <td>LAGUNE</td>\n",
              "      <td>ABIDJAN SOUTH</td>\n",
              "      <td>NaN</td>\n",
              "      <td>3e46cdd0e8</td>\n",
              "    </tr>\n",
              "    <tr>\n",
              "      <th>10</th>\n",
              "      <td>TIASSALE</td>\n",
              "      <td>Voice</td>\n",
              "      <td>0</td>\n",
              "      <td>2012-05-07</td>\n",
              "      <td>10:06:36</td>\n",
              "      <td>2012-05-07 10:06:36</td>\n",
              "      <td>35e843a20a</td>\n",
              "      <td>c3cf7cb638007ad</td>\n",
              "      <td>404ba3c13af0327</td>\n",
              "      <td>In Service</td>\n",
              "      <td>INTERIEUR</td>\n",
              "      <td>Grand-SUD</td>\n",
              "      <td>ZONE B - Grand-SUD</td>\n",
              "      <td>LAGUNE</td>\n",
              "      <td>SOUTH WEST</td>\n",
              "      <td>NaN</td>\n",
              "      <td>78d279198d</td>\n",
              "    </tr>\n",
              "    <tr>\n",
              "      <th>11</th>\n",
              "      <td>TIASSALE</td>\n",
              "      <td>Voice</td>\n",
              "      <td>0</td>\n",
              "      <td>2012-05-07</td>\n",
              "      <td>10:06:52</td>\n",
              "      <td>2012-05-07 10:06:52</td>\n",
              "      <td>35e843a20a</td>\n",
              "      <td>c3cf7cb638007ad</td>\n",
              "      <td>404ba3c13af0327</td>\n",
              "      <td>In Service</td>\n",
              "      <td>INTERIEUR</td>\n",
              "      <td>Grand-SUD</td>\n",
              "      <td>ZONE B - Grand-SUD</td>\n",
              "      <td>LAGUNE</td>\n",
              "      <td>SOUTH WEST</td>\n",
              "      <td>NaN</td>\n",
              "      <td>78d279198d</td>\n",
              "    </tr>\n",
              "    <tr>\n",
              "      <th>12</th>\n",
              "      <td>TIASSALE</td>\n",
              "      <td>Voice</td>\n",
              "      <td>0</td>\n",
              "      <td>2012-05-07</td>\n",
              "      <td>10:12:16</td>\n",
              "      <td>2012-05-07 10:12:16</td>\n",
              "      <td>35e843a20a</td>\n",
              "      <td>67af5d494d30293</td>\n",
              "      <td>404ba3c13af0327</td>\n",
              "      <td>In Service</td>\n",
              "      <td>INTERIEUR</td>\n",
              "      <td>Grand-SUD</td>\n",
              "      <td>ZONE B - Grand-SUD</td>\n",
              "      <td>LAGUNE</td>\n",
              "      <td>SOUTH WEST</td>\n",
              "      <td>NaN</td>\n",
              "      <td>78d279198d</td>\n",
              "    </tr>\n",
              "    <tr>\n",
              "      <th>13</th>\n",
              "      <td>TIASSALE</td>\n",
              "      <td>Voice</td>\n",
              "      <td>0</td>\n",
              "      <td>2012-05-07</td>\n",
              "      <td>15:18:06</td>\n",
              "      <td>2012-05-07 15:18:06</td>\n",
              "      <td>35e843a20a</td>\n",
              "      <td>305fd482ce44296</td>\n",
              "      <td>720f314cf9b2292</td>\n",
              "      <td>In Service</td>\n",
              "      <td>INTERIEUR</td>\n",
              "      <td>Grand-SUD</td>\n",
              "      <td>ZONE B - Grand-SUD</td>\n",
              "      <td>LAGUNE</td>\n",
              "      <td>SOUTH WEST</td>\n",
              "      <td>NaN</td>\n",
              "      <td>78d279198d</td>\n",
              "    </tr>\n",
              "  </tbody>\n",
              "</table>\n",
              "</div>"
            ],
            "text/plain": [
              "      VILLES PRODUCT  VALUE  ...           AREA SITE_ID   SITE_CODE\n",
              "3    PLATEAU   Voice      0  ...  ABIDJAN SOUTH     NaN  3e46cdd0e8\n",
              "10  TIASSALE   Voice      0  ...     SOUTH WEST     NaN  78d279198d\n",
              "11  TIASSALE   Voice      0  ...     SOUTH WEST     NaN  78d279198d\n",
              "12  TIASSALE   Voice      0  ...     SOUTH WEST     NaN  78d279198d\n",
              "13  TIASSALE   Voice      0  ...     SOUTH WEST     NaN  78d279198d\n",
              "\n",
              "[5 rows x 17 columns]"
            ]
          },
          "metadata": {
            "tags": []
          },
          "execution_count": 95
        }
      ]
    },
    {
      "cell_type": "markdown",
      "metadata": {
        "id": "LAA5iLWjmnUD",
        "colab_type": "text"
      },
      "source": [
        "### Which cities logged the most activity during business hours?"
      ]
    },
    {
      "cell_type": "code",
      "metadata": {
        "id": "44pGrkHBmylv",
        "colab_type": "code",
        "colab": {
          "base_uri": "https://localhost:8080/",
          "height": 221
        },
        "outputId": "185b4d14-0567-48a7-fd5a-db20de6e74ef"
      },
      "source": [
        "business_hours.groupby('VILLES')['VILLES'].count().sort_values(ascending = False).head(10)"
      ],
      "execution_count": 97,
      "outputs": [
        {
          "output_type": "execute_result",
          "data": {
            "text/plain": [
              "VILLES\n",
              "COCODY          93\n",
              "MARCORY         32\n",
              "TREICHVILLE     20\n",
              "YAMOUSSOUKRO    18\n",
              "PORT-BOUET      17\n",
              "ABOBO           15\n",
              "TIASSALE        15\n",
              "KOUMASSI        13\n",
              "ADJAME           6\n",
              "YOPOUGON         5\n",
              "Name: VILLES, dtype: int64"
            ]
          },
          "metadata": {
            "tags": []
          },
          "execution_count": 97
        }
      ]
    },
    {
      "cell_type": "markdown",
      "metadata": {
        "colab_type": "text",
        "id": "uPrJf6easj0c"
      },
      "source": [
        "The following cities logged the most activities during home hours:\n",
        "*    COCODY          \n",
        "*    MARCORY         \n",
        "*    TREICHVILLE        "
      ]
    },
    {
      "cell_type": "markdown",
      "metadata": {
        "id": "VEYCTaDrpTaO",
        "colab_type": "text"
      },
      "source": [
        "### What product logged the most activity during business hours?"
      ]
    },
    {
      "cell_type": "code",
      "metadata": {
        "id": "QJRMv--9pT-P",
        "colab_type": "code",
        "colab": {
          "base_uri": "https://localhost:8080/",
          "height": 68
        },
        "outputId": "06f9bd3c-5242-405e-9502-99aed22d2e43"
      },
      "source": [
        "business_hours.groupby('PRODUCT')['PRODUCT'].count().sort_values(ascending = False).head(10)"
      ],
      "execution_count": 102,
      "outputs": [
        {
          "output_type": "execute_result",
          "data": {
            "text/plain": [
              "PRODUCT\n",
              "Voice    260\n",
              "Name: PRODUCT, dtype: int64"
            ]
          },
          "metadata": {
            "tags": []
          },
          "execution_count": 102
        }
      ]
    },
    {
      "cell_type": "markdown",
      "metadata": {
        "id": "128cuHlar6PJ",
        "colab_type": "text"
      },
      "source": [
        "The voice product logged the most activity during business hours"
      ]
    },
    {
      "cell_type": "markdown",
      "metadata": {
        "id": "3Lk9HTLJm8Da",
        "colab_type": "text"
      },
      "source": [
        "### What were the activities logged during home hours?"
      ]
    },
    {
      "cell_type": "code",
      "metadata": {
        "id": "DTZwKScUnHgg",
        "colab_type": "code",
        "colab": {
          "base_uri": "https://localhost:8080/",
          "height": 394
        },
        "outputId": "7df97793-03ae-4a50-8e93-e9f6e1fa98c6"
      },
      "source": [
        "home_hours = daily[~ ((daily.datetime.dt.time >= datetime.time(9)) & (daily.datetime.dt.time <= datetime.time(17)))]\n",
        "home_hours.head()"
      ],
      "execution_count": 99,
      "outputs": [
        {
          "output_type": "execute_result",
          "data": {
            "text/html": [
              "<div>\n",
              "<style scoped>\n",
              "    .dataframe tbody tr th:only-of-type {\n",
              "        vertical-align: middle;\n",
              "    }\n",
              "\n",
              "    .dataframe tbody tr th {\n",
              "        vertical-align: top;\n",
              "    }\n",
              "\n",
              "    .dataframe thead th {\n",
              "        text-align: right;\n",
              "    }\n",
              "</style>\n",
              "<table border=\"1\" class=\"dataframe\">\n",
              "  <thead>\n",
              "    <tr style=\"text-align: right;\">\n",
              "      <th></th>\n",
              "      <th>VILLES</th>\n",
              "      <th>PRODUCT</th>\n",
              "      <th>VALUE</th>\n",
              "      <th>date</th>\n",
              "      <th>time</th>\n",
              "      <th>datetime</th>\n",
              "      <th>CELL_ID</th>\n",
              "      <th>DW_A_NUMBER_INT</th>\n",
              "      <th>DW_B_NUMBER_INT</th>\n",
              "      <th>STATUS</th>\n",
              "      <th>LOCALISATION</th>\n",
              "      <th>DECOUPZONE</th>\n",
              "      <th>ZONENAME</th>\n",
              "      <th>REGION</th>\n",
              "      <th>AREA</th>\n",
              "      <th>SITE_ID</th>\n",
              "      <th>SITE_CODE</th>\n",
              "    </tr>\n",
              "  </thead>\n",
              "  <tbody>\n",
              "    <tr>\n",
              "      <th>0</th>\n",
              "      <td>ATTECOUBE</td>\n",
              "      <td>Voice</td>\n",
              "      <td>0</td>\n",
              "      <td>2012-05-07</td>\n",
              "      <td>08:33:43</td>\n",
              "      <td>2012-05-07 08:33:43</td>\n",
              "      <td>1ce5a37ea9</td>\n",
              "      <td>13d236932ae2bcf</td>\n",
              "      <td>662861c8d47acbb</td>\n",
              "      <td>In Service</td>\n",
              "      <td>ABIDJAN</td>\n",
              "      <td>Abidjan_OUEST</td>\n",
              "      <td>ZONE C - Abidjan_OUEST</td>\n",
              "      <td>LAGUNE</td>\n",
              "      <td>ABIDJAN NORTH</td>\n",
              "      <td>NaN</td>\n",
              "      <td>7f76d66503</td>\n",
              "    </tr>\n",
              "    <tr>\n",
              "      <th>1</th>\n",
              "      <td>PORT-BOUET</td>\n",
              "      <td>Voice</td>\n",
              "      <td>0</td>\n",
              "      <td>2012-05-07</td>\n",
              "      <td>08:36:17</td>\n",
              "      <td>2012-05-07 08:36:17</td>\n",
              "      <td>24ced8b6ba</td>\n",
              "      <td>704ad46f5623789</td>\n",
              "      <td>8788ee37020a0b3</td>\n",
              "      <td>In Service</td>\n",
              "      <td>ABIDJAN</td>\n",
              "      <td>Abidjan_SUD</td>\n",
              "      <td>ZONE D - Abidjan_SUD</td>\n",
              "      <td>LAGUNE</td>\n",
              "      <td>ABIDJAN SOUTH</td>\n",
              "      <td>NaN</td>\n",
              "      <td>ffa6bdc032</td>\n",
              "    </tr>\n",
              "    <tr>\n",
              "      <th>2</th>\n",
              "      <td>PLATEAU</td>\n",
              "      <td>Voice</td>\n",
              "      <td>0</td>\n",
              "      <td>2012-05-07</td>\n",
              "      <td>08:37:47</td>\n",
              "      <td>2012-05-07 08:37:47</td>\n",
              "      <td>f7f527c807</td>\n",
              "      <td>de08884e7eb68a8</td>\n",
              "      <td>5a699ac9f644039</td>\n",
              "      <td>In Service</td>\n",
              "      <td>ABIDJAN</td>\n",
              "      <td>Abidjan_CENTRE</td>\n",
              "      <td>ZONE A - Abidjan_CENTRE</td>\n",
              "      <td>LAGUNE</td>\n",
              "      <td>ABIDJAN SOUTH</td>\n",
              "      <td>NaN</td>\n",
              "      <td>3e46cdd0e8</td>\n",
              "    </tr>\n",
              "    <tr>\n",
              "      <th>4</th>\n",
              "      <td>PLATEAU</td>\n",
              "      <td>Voice</td>\n",
              "      <td>0</td>\n",
              "      <td>2012-05-07</td>\n",
              "      <td>20:17:41</td>\n",
              "      <td>2012-05-07 20:17:41</td>\n",
              "      <td>f7f527c807</td>\n",
              "      <td>4106e7c8e1bdc3c</td>\n",
              "      <td>87b5c66d514431b</td>\n",
              "      <td>In Service</td>\n",
              "      <td>ABIDJAN</td>\n",
              "      <td>Abidjan_CENTRE</td>\n",
              "      <td>ZONE A - Abidjan_CENTRE</td>\n",
              "      <td>LAGUNE</td>\n",
              "      <td>ABIDJAN SOUTH</td>\n",
              "      <td>NaN</td>\n",
              "      <td>3e46cdd0e8</td>\n",
              "    </tr>\n",
              "    <tr>\n",
              "      <th>5</th>\n",
              "      <td>PLATEAU</td>\n",
              "      <td>Voice</td>\n",
              "      <td>0</td>\n",
              "      <td>2012-05-07</td>\n",
              "      <td>08:43:12</td>\n",
              "      <td>2012-05-07 08:43:12</td>\n",
              "      <td>f859eee756</td>\n",
              "      <td>b7661c9ab690eb9</td>\n",
              "      <td>5a699ac9f644039</td>\n",
              "      <td>In Service</td>\n",
              "      <td>ABIDJAN</td>\n",
              "      <td>Abidjan_CENTRE</td>\n",
              "      <td>ZONE A - Abidjan_CENTRE</td>\n",
              "      <td>LAGUNE</td>\n",
              "      <td>ABIDJAN SOUTH</td>\n",
              "      <td>NaN</td>\n",
              "      <td>bea164ff9b</td>\n",
              "    </tr>\n",
              "  </tbody>\n",
              "</table>\n",
              "</div>"
            ],
            "text/plain": [
              "       VILLES PRODUCT  VALUE  ...           AREA SITE_ID   SITE_CODE\n",
              "0   ATTECOUBE   Voice      0  ...  ABIDJAN NORTH     NaN  7f76d66503\n",
              "1  PORT-BOUET   Voice      0  ...  ABIDJAN SOUTH     NaN  ffa6bdc032\n",
              "2     PLATEAU   Voice      0  ...  ABIDJAN SOUTH     NaN  3e46cdd0e8\n",
              "4     PLATEAU   Voice      0  ...  ABIDJAN SOUTH     NaN  3e46cdd0e8\n",
              "5     PLATEAU   Voice      0  ...  ABIDJAN SOUTH     NaN  bea164ff9b\n",
              "\n",
              "[5 rows x 17 columns]"
            ]
          },
          "metadata": {
            "tags": []
          },
          "execution_count": 99
        }
      ]
    },
    {
      "cell_type": "markdown",
      "metadata": {
        "id": "G7YhbtvDnTAP",
        "colab_type": "text"
      },
      "source": [
        "### Which cities logged the most activity during home hours?"
      ]
    },
    {
      "cell_type": "code",
      "metadata": {
        "id": "Wq4UFmeEndjA",
        "colab_type": "code",
        "colab": {
          "base_uri": "https://localhost:8080/",
          "height": 221
        },
        "outputId": "2bdfd6c6-807e-41d5-bf3b-f912726faf75"
      },
      "source": [
        "home_hours.groupby('VILLES')['VILLES'].count().sort_values(ascending = False).head(10)"
      ],
      "execution_count": 101,
      "outputs": [
        {
          "output_type": "execute_result",
          "data": {
            "text/plain": [
              "VILLES\n",
              "COCODY          35\n",
              "MARCORY         12\n",
              "TIASSALE        11\n",
              "ABOBO           10\n",
              "YAMOUSSOUKRO     9\n",
              "PLATEAU          7\n",
              "PORT-BOUET       7\n",
              "TREICHVILLE      6\n",
              "YOPOUGON         6\n",
              "SOUBRE           3\n",
              "Name: VILLES, dtype: int64"
            ]
          },
          "metadata": {
            "tags": []
          },
          "execution_count": 101
        }
      ]
    },
    {
      "cell_type": "markdown",
      "metadata": {
        "id": "REz7UoqfqTdc",
        "colab_type": "text"
      },
      "source": [
        "The following cities logged the most activities during home hours:\n",
        "*    COCODY          \n",
        "*    MARCORY         \n",
        "*    TIASSALE        \n",
        "*    ABOBO           "
      ]
    },
    {
      "cell_type": "markdown",
      "metadata": {
        "id": "OzkuTC1Xpok1",
        "colab_type": "text"
      },
      "source": [
        "### What product logged the most activity during home hours?"
      ]
    },
    {
      "cell_type": "code",
      "metadata": {
        "id": "vLOGx_1KpvQP",
        "colab_type": "code",
        "colab": {
          "base_uri": "https://localhost:8080/",
          "height": 68
        },
        "outputId": "583f050e-b511-4e2f-fec7-c04af6f67f89"
      },
      "source": [
        "home_hours.groupby('PRODUCT')['PRODUCT'].count().sort_values(ascending = False).head(10)"
      ],
      "execution_count": 103,
      "outputs": [
        {
          "output_type": "execute_result",
          "data": {
            "text/plain": [
              "PRODUCT\n",
              "Voice    116\n",
              "Name: PRODUCT, dtype: int64"
            ]
          },
          "metadata": {
            "tags": []
          },
          "execution_count": 103
        }
      ]
    },
    {
      "cell_type": "markdown",
      "metadata": {
        "id": "J114UvXSp3W1",
        "colab_type": "text"
      },
      "source": [
        "The voice product logged the most activity during home hours."
      ]
    }
  ]
}